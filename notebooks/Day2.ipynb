{
 "cells": [
  {
   "cell_type": "code",
   "execution_count": 65,
   "id": "efa633cb",
   "metadata": {},
   "outputs": [],
   "source": [
    "import numpy as np\n",
    "import pandas as pd\n",
    "import seaborn as sns\n",
    "import matplotlib.pyplot as plt"
   ]
  },
  {
   "cell_type": "markdown",
   "id": "81ef420d",
   "metadata": {},
   "source": [
    "## Import raw data"
   ]
  },
  {
   "cell_type": "code",
   "execution_count": 66,
   "id": "32a6806b",
   "metadata": {},
   "outputs": [],
   "source": [
    "df = pd.read_csv('../data/raw/SP_house_prices_raw.csv')"
   ]
  },
  {
   "cell_type": "code",
   "execution_count": 67,
   "id": "6befdeea",
   "metadata": {},
   "outputs": [
    {
     "data": {
      "text/html": [
       "<div>\n",
       "<style scoped>\n",
       "    .dataframe tbody tr th:only-of-type {\n",
       "        vertical-align: middle;\n",
       "    }\n",
       "\n",
       "    .dataframe tbody tr th {\n",
       "        vertical-align: top;\n",
       "    }\n",
       "\n",
       "    .dataframe thead th {\n",
       "        text-align: right;\n",
       "    }\n",
       "</style>\n",
       "<table border=\"1\" class=\"dataframe\">\n",
       "  <thead>\n",
       "    <tr style=\"text-align: right;\">\n",
       "      <th></th>\n",
       "      <th>Rua</th>\n",
       "      <th>Bairro</th>\n",
       "      <th>Cidade</th>\n",
       "      <th>Metragem</th>\n",
       "      <th>Quartos</th>\n",
       "      <th>Banheiros</th>\n",
       "      <th>Vagas</th>\n",
       "      <th>Valor</th>\n",
       "    </tr>\n",
       "  </thead>\n",
       "  <tbody>\n",
       "    <tr>\n",
       "      <th>0</th>\n",
       "      <td>Avenida Itacira, 255</td>\n",
       "      <td>Planalto Paulista</td>\n",
       "      <td>São Paulo</td>\n",
       "      <td>1000</td>\n",
       "      <td>4</td>\n",
       "      <td>8</td>\n",
       "      <td>6</td>\n",
       "      <td>R$ 7.000.000</td>\n",
       "    </tr>\n",
       "    <tr>\n",
       "      <th>1</th>\n",
       "      <td>Rua Aurelia Perez Alvarez, 42</td>\n",
       "      <td>Jardim dos Estados</td>\n",
       "      <td>São Paulo</td>\n",
       "      <td>496</td>\n",
       "      <td>4</td>\n",
       "      <td>4</td>\n",
       "      <td>4</td>\n",
       "      <td>R$ 3.700.000</td>\n",
       "    </tr>\n",
       "    <tr>\n",
       "      <th>2</th>\n",
       "      <td>Rua Alba Valdez</td>\n",
       "      <td>Jardim Reimberg</td>\n",
       "      <td>São Paulo</td>\n",
       "      <td>125</td>\n",
       "      <td>4</td>\n",
       "      <td>3</td>\n",
       "      <td>2</td>\n",
       "      <td>R$ 380.000</td>\n",
       "    </tr>\n",
       "    <tr>\n",
       "      <th>3</th>\n",
       "      <td>NaN</td>\n",
       "      <td>Jardim Morumbi</td>\n",
       "      <td>São Paulo</td>\n",
       "      <td>310</td>\n",
       "      <td>3</td>\n",
       "      <td>2</td>\n",
       "      <td>4</td>\n",
       "      <td>R$ 685.000</td>\n",
       "    </tr>\n",
       "    <tr>\n",
       "      <th>4</th>\n",
       "      <td>Rua Tobias Barreto, 195</td>\n",
       "      <td>Mooca</td>\n",
       "      <td>São Paulo</td>\n",
       "      <td>100</td>\n",
       "      <td>3</td>\n",
       "      <td>2</td>\n",
       "      <td>2</td>\n",
       "      <td>R$ 540.000</td>\n",
       "    </tr>\n",
       "  </tbody>\n",
       "</table>\n",
       "</div>"
      ],
      "text/plain": [
       "                              Rua              Bairro     Cidade  Metragem  \\\n",
       "0           Avenida Itacira, 255    Planalto Paulista  São Paulo      1000   \n",
       "1  Rua Aurelia Perez Alvarez, 42   Jardim dos Estados  São Paulo       496   \n",
       "2                 Rua Alba Valdez     Jardim Reimberg  São Paulo       125   \n",
       "3                             NaN      Jardim Morumbi  São Paulo       310   \n",
       "4        Rua Tobias Barreto, 195                Mooca  São Paulo       100   \n",
       "\n",
       "   Quartos  Banheiros  Vagas         Valor  \n",
       "0        4          8      6  R$ 7.000.000  \n",
       "1        4          4      4  R$ 3.700.000  \n",
       "2        4          3      2    R$ 380.000  \n",
       "3        3          2      4    R$ 685.000  \n",
       "4        3          2      2    R$ 540.000  "
      ]
     },
     "execution_count": 67,
     "metadata": {},
     "output_type": "execute_result"
    }
   ],
   "source": [
    "df.head()"
   ]
  },
  {
   "cell_type": "markdown",
   "id": "9c349a9a",
   "metadata": {},
   "source": [
    "## Convert house values to numeric type"
   ]
  },
  {
   "cell_type": "markdown",
   "id": "88f2b75a",
   "metadata": {},
   "source": [
    "In the notebook of day 1, I have converted the column with the values of houses ('valor') to numeric type. But I haven't realized that strings in the values of some rows contains reting information. I'll process this data again."
   ]
  },
  {
   "cell_type": "code",
   "execution_count": 68,
   "id": "e001a887",
   "metadata": {},
   "outputs": [
    {
     "data": {
      "text/html": [
       "<div>\n",
       "<style scoped>\n",
       "    .dataframe tbody tr th:only-of-type {\n",
       "        vertical-align: middle;\n",
       "    }\n",
       "\n",
       "    .dataframe tbody tr th {\n",
       "        vertical-align: top;\n",
       "    }\n",
       "\n",
       "    .dataframe thead th {\n",
       "        text-align: right;\n",
       "    }\n",
       "</style>\n",
       "<table border=\"1\" class=\"dataframe\">\n",
       "  <thead>\n",
       "    <tr style=\"text-align: right;\">\n",
       "      <th></th>\n",
       "      <th>0</th>\n",
       "      <th>1</th>\n",
       "      <th>2</th>\n",
       "    </tr>\n",
       "  </thead>\n",
       "  <tbody>\n",
       "    <tr>\n",
       "      <th>0</th>\n",
       "      <td>R$</td>\n",
       "      <td>7.000.000</td>\n",
       "      <td>None</td>\n",
       "    </tr>\n",
       "    <tr>\n",
       "      <th>1</th>\n",
       "      <td>R$</td>\n",
       "      <td>3.700.000</td>\n",
       "      <td>None</td>\n",
       "    </tr>\n",
       "    <tr>\n",
       "      <th>2</th>\n",
       "      <td>R$</td>\n",
       "      <td>380.000</td>\n",
       "      <td>None</td>\n",
       "    </tr>\n",
       "    <tr>\n",
       "      <th>3</th>\n",
       "      <td>R$</td>\n",
       "      <td>685.000</td>\n",
       "      <td>None</td>\n",
       "    </tr>\n",
       "    <tr>\n",
       "      <th>4</th>\n",
       "      <td>R$</td>\n",
       "      <td>540.000</td>\n",
       "      <td>None</td>\n",
       "    </tr>\n",
       "    <tr>\n",
       "      <th>...</th>\n",
       "      <td>...</td>\n",
       "      <td>...</td>\n",
       "      <td>...</td>\n",
       "    </tr>\n",
       "    <tr>\n",
       "      <th>10003</th>\n",
       "      <td>R$</td>\n",
       "      <td>665.000</td>\n",
       "      <td>None</td>\n",
       "    </tr>\n",
       "    <tr>\n",
       "      <th>10004</th>\n",
       "      <td>R$</td>\n",
       "      <td>2.300.000</td>\n",
       "      <td>None</td>\n",
       "    </tr>\n",
       "    <tr>\n",
       "      <th>10005</th>\n",
       "      <td>R$</td>\n",
       "      <td>1.050.000</td>\n",
       "      <td>None</td>\n",
       "    </tr>\n",
       "    <tr>\n",
       "      <th>10006</th>\n",
       "      <td>R$</td>\n",
       "      <td>2.200</td>\n",
       "      <td>/Mês</td>\n",
       "    </tr>\n",
       "    <tr>\n",
       "      <th>10007</th>\n",
       "      <td>R$</td>\n",
       "      <td>270.000</td>\n",
       "      <td>None</td>\n",
       "    </tr>\n",
       "  </tbody>\n",
       "</table>\n",
       "<p>10008 rows × 3 columns</p>\n",
       "</div>"
      ],
      "text/plain": [
       "        0          1     2\n",
       "0      R$  7.000.000  None\n",
       "1      R$  3.700.000  None\n",
       "2      R$    380.000  None\n",
       "3      R$    685.000  None\n",
       "4      R$    540.000  None\n",
       "...    ..        ...   ...\n",
       "10003  R$    665.000  None\n",
       "10004  R$  2.300.000  None\n",
       "10005  R$  1.050.000  None\n",
       "10006  R$      2.200  /Mês\n",
       "10007  R$    270.000  None\n",
       "\n",
       "[10008 rows x 3 columns]"
      ]
     },
     "execution_count": 68,
     "metadata": {},
     "output_type": "execute_result"
    }
   ],
   "source": [
    "dfValues = df['Valor'].str.split(expand = True)\n",
    "dfValues"
   ]
  },
  {
   "cell_type": "markdown",
   "id": "4ab7ee5b",
   "metadata": {},
   "source": [
    "The split method created 3 columns. It seems that the values are in the second column."
   ]
  },
  {
   "cell_type": "code",
   "execution_count": 69,
   "id": "b8b56d95",
   "metadata": {},
   "outputs": [
    {
     "data": {
      "text/plain": [
       "array(['R$'], dtype=object)"
      ]
     },
     "execution_count": 69,
     "metadata": {},
     "output_type": "execute_result"
    }
   ],
   "source": [
    "#Verify values\n",
    "dfValues[0].unique()"
   ]
  },
  {
   "cell_type": "code",
   "execution_count": 70,
   "id": "5ee3b2ef",
   "metadata": {},
   "outputs": [
    {
     "data": {
      "text/plain": [
       "array([None, '/Mês', '/Ano', '/Dia'], dtype=object)"
      ]
     },
     "execution_count": 70,
     "metadata": {},
     "output_type": "execute_result"
    }
   ],
   "source": [
    "dfValues[2].unique()"
   ]
  },
  {
   "cell_type": "markdown",
   "id": "d4d1e8f2",
   "metadata": {},
   "source": [
    "'None' is probably related to selling price. '/Mês' (month), '/Ano' (year) and '/Dia' are probably related to renting prices"
   ]
  },
  {
   "cell_type": "markdown",
   "id": "3db0db90",
   "metadata": {},
   "source": [
    "Include column 1 and 2 in the original dataframe"
   ]
  },
  {
   "cell_type": "code",
   "execution_count": 71,
   "id": "66de41aa",
   "metadata": {},
   "outputs": [],
   "source": [
    "#Make copy of dataframe, drop original values ('valor') column, and include column with value and value type.\n",
    "df_2 = df.copy(deep = True)\n",
    "df_2.drop(columns = ['Valor'])\n",
    "df_2[['Valor', 'Tipo']] = dfValues[[1,2]]"
   ]
  },
  {
   "cell_type": "code",
   "execution_count": 72,
   "id": "0cfe82c1",
   "metadata": {},
   "outputs": [
    {
     "data": {
      "text/html": [
       "<div>\n",
       "<style scoped>\n",
       "    .dataframe tbody tr th:only-of-type {\n",
       "        vertical-align: middle;\n",
       "    }\n",
       "\n",
       "    .dataframe tbody tr th {\n",
       "        vertical-align: top;\n",
       "    }\n",
       "\n",
       "    .dataframe thead th {\n",
       "        text-align: right;\n",
       "    }\n",
       "</style>\n",
       "<table border=\"1\" class=\"dataframe\">\n",
       "  <thead>\n",
       "    <tr style=\"text-align: right;\">\n",
       "      <th></th>\n",
       "      <th>Rua</th>\n",
       "      <th>Bairro</th>\n",
       "      <th>Cidade</th>\n",
       "      <th>Metragem</th>\n",
       "      <th>Quartos</th>\n",
       "      <th>Banheiros</th>\n",
       "      <th>Vagas</th>\n",
       "      <th>Valor</th>\n",
       "      <th>Tipo</th>\n",
       "    </tr>\n",
       "  </thead>\n",
       "  <tbody>\n",
       "    <tr>\n",
       "      <th>0</th>\n",
       "      <td>Avenida Itacira, 255</td>\n",
       "      <td>Planalto Paulista</td>\n",
       "      <td>São Paulo</td>\n",
       "      <td>1000</td>\n",
       "      <td>4</td>\n",
       "      <td>8</td>\n",
       "      <td>6</td>\n",
       "      <td>7.000.000</td>\n",
       "      <td>None</td>\n",
       "    </tr>\n",
       "    <tr>\n",
       "      <th>1</th>\n",
       "      <td>Rua Aurelia Perez Alvarez, 42</td>\n",
       "      <td>Jardim dos Estados</td>\n",
       "      <td>São Paulo</td>\n",
       "      <td>496</td>\n",
       "      <td>4</td>\n",
       "      <td>4</td>\n",
       "      <td>4</td>\n",
       "      <td>3.700.000</td>\n",
       "      <td>None</td>\n",
       "    </tr>\n",
       "    <tr>\n",
       "      <th>2</th>\n",
       "      <td>Rua Alba Valdez</td>\n",
       "      <td>Jardim Reimberg</td>\n",
       "      <td>São Paulo</td>\n",
       "      <td>125</td>\n",
       "      <td>4</td>\n",
       "      <td>3</td>\n",
       "      <td>2</td>\n",
       "      <td>380.000</td>\n",
       "      <td>None</td>\n",
       "    </tr>\n",
       "    <tr>\n",
       "      <th>3</th>\n",
       "      <td>NaN</td>\n",
       "      <td>Jardim Morumbi</td>\n",
       "      <td>São Paulo</td>\n",
       "      <td>310</td>\n",
       "      <td>3</td>\n",
       "      <td>2</td>\n",
       "      <td>4</td>\n",
       "      <td>685.000</td>\n",
       "      <td>None</td>\n",
       "    </tr>\n",
       "    <tr>\n",
       "      <th>4</th>\n",
       "      <td>Rua Tobias Barreto, 195</td>\n",
       "      <td>Mooca</td>\n",
       "      <td>São Paulo</td>\n",
       "      <td>100</td>\n",
       "      <td>3</td>\n",
       "      <td>2</td>\n",
       "      <td>2</td>\n",
       "      <td>540.000</td>\n",
       "      <td>None</td>\n",
       "    </tr>\n",
       "  </tbody>\n",
       "</table>\n",
       "</div>"
      ],
      "text/plain": [
       "                              Rua              Bairro     Cidade  Metragem  \\\n",
       "0           Avenida Itacira, 255    Planalto Paulista  São Paulo      1000   \n",
       "1  Rua Aurelia Perez Alvarez, 42   Jardim dos Estados  São Paulo       496   \n",
       "2                 Rua Alba Valdez     Jardim Reimberg  São Paulo       125   \n",
       "3                             NaN      Jardim Morumbi  São Paulo       310   \n",
       "4        Rua Tobias Barreto, 195                Mooca  São Paulo       100   \n",
       "\n",
       "   Quartos  Banheiros  Vagas      Valor  Tipo  \n",
       "0        4          8      6  7.000.000  None  \n",
       "1        4          4      4  3.700.000  None  \n",
       "2        4          3      2    380.000  None  \n",
       "3        3          2      4    685.000  None  \n",
       "4        3          2      2    540.000  None  "
      ]
     },
     "execution_count": 72,
     "metadata": {},
     "output_type": "execute_result"
    }
   ],
   "source": [
    "df_2.head()"
   ]
  },
  {
   "cell_type": "code",
   "execution_count": 73,
   "id": "5e96471c",
   "metadata": {},
   "outputs": [],
   "source": [
    "#Remove dots ('.') in strings in value ('Valor') column\n",
    "df_2['Valor'] = df_2['Valor'].str.replace(\".\", \"\", regex = False)"
   ]
  },
  {
   "cell_type": "code",
   "execution_count": 74,
   "id": "b0e6da88",
   "metadata": {},
   "outputs": [
    {
     "data": {
      "text/html": [
       "<div>\n",
       "<style scoped>\n",
       "    .dataframe tbody tr th:only-of-type {\n",
       "        vertical-align: middle;\n",
       "    }\n",
       "\n",
       "    .dataframe tbody tr th {\n",
       "        vertical-align: top;\n",
       "    }\n",
       "\n",
       "    .dataframe thead th {\n",
       "        text-align: right;\n",
       "    }\n",
       "</style>\n",
       "<table border=\"1\" class=\"dataframe\">\n",
       "  <thead>\n",
       "    <tr style=\"text-align: right;\">\n",
       "      <th></th>\n",
       "      <th>Rua</th>\n",
       "      <th>Bairro</th>\n",
       "      <th>Cidade</th>\n",
       "      <th>Metragem</th>\n",
       "      <th>Quartos</th>\n",
       "      <th>Banheiros</th>\n",
       "      <th>Vagas</th>\n",
       "      <th>Valor</th>\n",
       "      <th>Tipo</th>\n",
       "    </tr>\n",
       "  </thead>\n",
       "  <tbody>\n",
       "    <tr>\n",
       "      <th>0</th>\n",
       "      <td>Avenida Itacira, 255</td>\n",
       "      <td>Planalto Paulista</td>\n",
       "      <td>São Paulo</td>\n",
       "      <td>1000</td>\n",
       "      <td>4</td>\n",
       "      <td>8</td>\n",
       "      <td>6</td>\n",
       "      <td>7000000</td>\n",
       "      <td>None</td>\n",
       "    </tr>\n",
       "    <tr>\n",
       "      <th>1</th>\n",
       "      <td>Rua Aurelia Perez Alvarez, 42</td>\n",
       "      <td>Jardim dos Estados</td>\n",
       "      <td>São Paulo</td>\n",
       "      <td>496</td>\n",
       "      <td>4</td>\n",
       "      <td>4</td>\n",
       "      <td>4</td>\n",
       "      <td>3700000</td>\n",
       "      <td>None</td>\n",
       "    </tr>\n",
       "    <tr>\n",
       "      <th>2</th>\n",
       "      <td>Rua Alba Valdez</td>\n",
       "      <td>Jardim Reimberg</td>\n",
       "      <td>São Paulo</td>\n",
       "      <td>125</td>\n",
       "      <td>4</td>\n",
       "      <td>3</td>\n",
       "      <td>2</td>\n",
       "      <td>380000</td>\n",
       "      <td>None</td>\n",
       "    </tr>\n",
       "    <tr>\n",
       "      <th>3</th>\n",
       "      <td>NaN</td>\n",
       "      <td>Jardim Morumbi</td>\n",
       "      <td>São Paulo</td>\n",
       "      <td>310</td>\n",
       "      <td>3</td>\n",
       "      <td>2</td>\n",
       "      <td>4</td>\n",
       "      <td>685000</td>\n",
       "      <td>None</td>\n",
       "    </tr>\n",
       "    <tr>\n",
       "      <th>4</th>\n",
       "      <td>Rua Tobias Barreto, 195</td>\n",
       "      <td>Mooca</td>\n",
       "      <td>São Paulo</td>\n",
       "      <td>100</td>\n",
       "      <td>3</td>\n",
       "      <td>2</td>\n",
       "      <td>2</td>\n",
       "      <td>540000</td>\n",
       "      <td>None</td>\n",
       "    </tr>\n",
       "  </tbody>\n",
       "</table>\n",
       "</div>"
      ],
      "text/plain": [
       "                              Rua              Bairro     Cidade  Metragem  \\\n",
       "0           Avenida Itacira, 255    Planalto Paulista  São Paulo      1000   \n",
       "1  Rua Aurelia Perez Alvarez, 42   Jardim dos Estados  São Paulo       496   \n",
       "2                 Rua Alba Valdez     Jardim Reimberg  São Paulo       125   \n",
       "3                             NaN      Jardim Morumbi  São Paulo       310   \n",
       "4        Rua Tobias Barreto, 195                Mooca  São Paulo       100   \n",
       "\n",
       "   Quartos  Banheiros  Vagas    Valor  Tipo  \n",
       "0        4          8      6  7000000  None  \n",
       "1        4          4      4  3700000  None  \n",
       "2        4          3      2   380000  None  \n",
       "3        3          2      4   685000  None  \n",
       "4        3          2      2   540000  None  "
      ]
     },
     "execution_count": 74,
     "metadata": {},
     "output_type": "execute_result"
    }
   ],
   "source": [
    "df_2.head()"
   ]
  },
  {
   "cell_type": "code",
   "execution_count": 75,
   "id": "97497261",
   "metadata": {},
   "outputs": [],
   "source": [
    "#Transform house prices to numeric type\n",
    "df_2['Valor'] = pd.to_numeric(df_2['Valor'])"
   ]
  },
  {
   "cell_type": "code",
   "execution_count": 76,
   "id": "784ba278",
   "metadata": {},
   "outputs": [
    {
     "name": "stdout",
     "output_type": "stream",
     "text": [
      "<class 'pandas.core.frame.DataFrame'>\n",
      "RangeIndex: 10008 entries, 0 to 10007\n",
      "Data columns (total 9 columns):\n",
      " #   Column     Non-Null Count  Dtype \n",
      "---  ------     --------------  ----- \n",
      " 0   Rua        6574 non-null   object\n",
      " 1   Bairro     9996 non-null   object\n",
      " 2   Cidade     10008 non-null  object\n",
      " 3   Metragem   10008 non-null  int64 \n",
      " 4   Quartos    10008 non-null  int64 \n",
      " 5   Banheiros  10008 non-null  int64 \n",
      " 6   Vagas      10008 non-null  int64 \n",
      " 7   Valor      10008 non-null  int64 \n",
      " 8   Tipo       852 non-null    object\n",
      "dtypes: int64(5), object(4)\n",
      "memory usage: 703.8+ KB\n"
     ]
    }
   ],
   "source": [
    "df_2.info()"
   ]
  },
  {
   "cell_type": "markdown",
   "id": "a2d3a015",
   "metadata": {},
   "source": [
    "**Consider only rows related to selling prices, i.e., column 'Tipo' has 'None' entry**"
   ]
  },
  {
   "cell_type": "code",
   "execution_count": 77,
   "id": "e7f8644a",
   "metadata": {},
   "outputs": [],
   "source": [
    "df_2 = df_2[df_2['Tipo'].isnull()]"
   ]
  },
  {
   "cell_type": "code",
   "execution_count": 78,
   "id": "0da3d323",
   "metadata": {},
   "outputs": [
    {
     "data": {
      "text/plain": [
       "array([None], dtype=object)"
      ]
     },
     "execution_count": 78,
     "metadata": {},
     "output_type": "execute_result"
    }
   ],
   "source": [
    "#Verify if 'Tipo' column has only 'None' values\n",
    "df_2['Tipo'].unique()"
   ]
  },
  {
   "cell_type": "code",
   "execution_count": 79,
   "id": "54a4d0e0",
   "metadata": {},
   "outputs": [],
   "source": [
    "#Drop 'Tipo' column\n",
    "df_2.drop(columns = ['Tipo'], inplace = True)"
   ]
  },
  {
   "cell_type": "code",
   "execution_count": 80,
   "id": "9e83cda0",
   "metadata": {},
   "outputs": [
    {
     "data": {
      "text/html": [
       "<div>\n",
       "<style scoped>\n",
       "    .dataframe tbody tr th:only-of-type {\n",
       "        vertical-align: middle;\n",
       "    }\n",
       "\n",
       "    .dataframe tbody tr th {\n",
       "        vertical-align: top;\n",
       "    }\n",
       "\n",
       "    .dataframe thead th {\n",
       "        text-align: right;\n",
       "    }\n",
       "</style>\n",
       "<table border=\"1\" class=\"dataframe\">\n",
       "  <thead>\n",
       "    <tr style=\"text-align: right;\">\n",
       "      <th></th>\n",
       "      <th>Rua</th>\n",
       "      <th>Bairro</th>\n",
       "      <th>Cidade</th>\n",
       "      <th>Metragem</th>\n",
       "      <th>Quartos</th>\n",
       "      <th>Banheiros</th>\n",
       "      <th>Vagas</th>\n",
       "      <th>Valor</th>\n",
       "    </tr>\n",
       "  </thead>\n",
       "  <tbody>\n",
       "    <tr>\n",
       "      <th>0</th>\n",
       "      <td>Avenida Itacira, 255</td>\n",
       "      <td>Planalto Paulista</td>\n",
       "      <td>São Paulo</td>\n",
       "      <td>1000</td>\n",
       "      <td>4</td>\n",
       "      <td>8</td>\n",
       "      <td>6</td>\n",
       "      <td>7000000</td>\n",
       "    </tr>\n",
       "    <tr>\n",
       "      <th>1</th>\n",
       "      <td>Rua Aurelia Perez Alvarez, 42</td>\n",
       "      <td>Jardim dos Estados</td>\n",
       "      <td>São Paulo</td>\n",
       "      <td>496</td>\n",
       "      <td>4</td>\n",
       "      <td>4</td>\n",
       "      <td>4</td>\n",
       "      <td>3700000</td>\n",
       "    </tr>\n",
       "    <tr>\n",
       "      <th>2</th>\n",
       "      <td>Rua Alba Valdez</td>\n",
       "      <td>Jardim Reimberg</td>\n",
       "      <td>São Paulo</td>\n",
       "      <td>125</td>\n",
       "      <td>4</td>\n",
       "      <td>3</td>\n",
       "      <td>2</td>\n",
       "      <td>380000</td>\n",
       "    </tr>\n",
       "    <tr>\n",
       "      <th>3</th>\n",
       "      <td>NaN</td>\n",
       "      <td>Jardim Morumbi</td>\n",
       "      <td>São Paulo</td>\n",
       "      <td>310</td>\n",
       "      <td>3</td>\n",
       "      <td>2</td>\n",
       "      <td>4</td>\n",
       "      <td>685000</td>\n",
       "    </tr>\n",
       "    <tr>\n",
       "      <th>4</th>\n",
       "      <td>Rua Tobias Barreto, 195</td>\n",
       "      <td>Mooca</td>\n",
       "      <td>São Paulo</td>\n",
       "      <td>100</td>\n",
       "      <td>3</td>\n",
       "      <td>2</td>\n",
       "      <td>2</td>\n",
       "      <td>540000</td>\n",
       "    </tr>\n",
       "  </tbody>\n",
       "</table>\n",
       "</div>"
      ],
      "text/plain": [
       "                              Rua              Bairro     Cidade  Metragem  \\\n",
       "0           Avenida Itacira, 255    Planalto Paulista  São Paulo      1000   \n",
       "1  Rua Aurelia Perez Alvarez, 42   Jardim dos Estados  São Paulo       496   \n",
       "2                 Rua Alba Valdez     Jardim Reimberg  São Paulo       125   \n",
       "3                             NaN      Jardim Morumbi  São Paulo       310   \n",
       "4        Rua Tobias Barreto, 195                Mooca  São Paulo       100   \n",
       "\n",
       "   Quartos  Banheiros  Vagas    Valor  \n",
       "0        4          8      6  7000000  \n",
       "1        4          4      4  3700000  \n",
       "2        4          3      2   380000  \n",
       "3        3          2      4   685000  \n",
       "4        3          2      2   540000  "
      ]
     },
     "execution_count": 80,
     "metadata": {},
     "output_type": "execute_result"
    }
   ],
   "source": [
    "df_2.head()"
   ]
  },
  {
   "cell_type": "markdown",
   "id": "2eb50578",
   "metadata": {},
   "source": [
    "## Explore data"
   ]
  },
  {
   "cell_type": "code",
   "execution_count": 81,
   "id": "57fdec06",
   "metadata": {},
   "outputs": [
    {
     "data": {
      "text/html": [
       "<div>\n",
       "<style scoped>\n",
       "    .dataframe tbody tr th:only-of-type {\n",
       "        vertical-align: middle;\n",
       "    }\n",
       "\n",
       "    .dataframe tbody tr th {\n",
       "        vertical-align: top;\n",
       "    }\n",
       "\n",
       "    .dataframe thead th {\n",
       "        text-align: right;\n",
       "    }\n",
       "</style>\n",
       "<table border=\"1\" class=\"dataframe\">\n",
       "  <thead>\n",
       "    <tr style=\"text-align: right;\">\n",
       "      <th></th>\n",
       "      <th>Metragem</th>\n",
       "      <th>Quartos</th>\n",
       "      <th>Banheiros</th>\n",
       "      <th>Vagas</th>\n",
       "      <th>Valor</th>\n",
       "    </tr>\n",
       "  </thead>\n",
       "  <tbody>\n",
       "    <tr>\n",
       "      <th>count</th>\n",
       "      <td>9156.000000</td>\n",
       "      <td>9156.000000</td>\n",
       "      <td>9156.000000</td>\n",
       "      <td>9156.000000</td>\n",
       "      <td>9.156000e+03</td>\n",
       "    </tr>\n",
       "    <tr>\n",
       "      <th>mean</th>\n",
       "      <td>434.416230</td>\n",
       "      <td>3.446811</td>\n",
       "      <td>3.797073</td>\n",
       "      <td>3.960135</td>\n",
       "      <td>3.052203e+06</td>\n",
       "    </tr>\n",
       "    <tr>\n",
       "      <th>std</th>\n",
       "      <td>7856.422978</td>\n",
       "      <td>1.048944</td>\n",
       "      <td>1.967873</td>\n",
       "      <td>2.601022</td>\n",
       "      <td>3.944208e+06</td>\n",
       "    </tr>\n",
       "    <tr>\n",
       "      <th>min</th>\n",
       "      <td>10.000000</td>\n",
       "      <td>1.000000</td>\n",
       "      <td>1.000000</td>\n",
       "      <td>1.000000</td>\n",
       "      <td>1.300000e+04</td>\n",
       "    </tr>\n",
       "    <tr>\n",
       "      <th>25%</th>\n",
       "      <td>168.000000</td>\n",
       "      <td>3.000000</td>\n",
       "      <td>2.000000</td>\n",
       "      <td>2.000000</td>\n",
       "      <td>8.900000e+05</td>\n",
       "    </tr>\n",
       "    <tr>\n",
       "      <th>50%</th>\n",
       "      <td>276.000000</td>\n",
       "      <td>3.000000</td>\n",
       "      <td>4.000000</td>\n",
       "      <td>4.000000</td>\n",
       "      <td>1.800000e+06</td>\n",
       "    </tr>\n",
       "    <tr>\n",
       "      <th>75%</th>\n",
       "      <td>450.000000</td>\n",
       "      <td>4.000000</td>\n",
       "      <td>5.000000</td>\n",
       "      <td>5.000000</td>\n",
       "      <td>3.500000e+06</td>\n",
       "    </tr>\n",
       "    <tr>\n",
       "      <th>max</th>\n",
       "      <td>750000.000000</td>\n",
       "      <td>16.000000</td>\n",
       "      <td>40.000000</td>\n",
       "      <td>50.000000</td>\n",
       "      <td>6.500000e+07</td>\n",
       "    </tr>\n",
       "  </tbody>\n",
       "</table>\n",
       "</div>"
      ],
      "text/plain": [
       "            Metragem      Quartos    Banheiros        Vagas         Valor\n",
       "count    9156.000000  9156.000000  9156.000000  9156.000000  9.156000e+03\n",
       "mean      434.416230     3.446811     3.797073     3.960135  3.052203e+06\n",
       "std      7856.422978     1.048944     1.967873     2.601022  3.944208e+06\n",
       "min        10.000000     1.000000     1.000000     1.000000  1.300000e+04\n",
       "25%       168.000000     3.000000     2.000000     2.000000  8.900000e+05\n",
       "50%       276.000000     3.000000     4.000000     4.000000  1.800000e+06\n",
       "75%       450.000000     4.000000     5.000000     5.000000  3.500000e+06\n",
       "max    750000.000000    16.000000    40.000000    50.000000  6.500000e+07"
      ]
     },
     "execution_count": 81,
     "metadata": {},
     "output_type": "execute_result"
    }
   ],
   "source": [
    "#Statistical data\n",
    "df_2.describe()"
   ]
  },
  {
   "cell_type": "markdown",
   "id": "ac8faf0f",
   "metadata": {},
   "source": [
    "## Tasks"
   ]
  },
  {
   "cell_type": "markdown",
   "id": "12feab9c",
   "metadata": {},
   "source": [
    "### 1 - Change unit of prices to 10^6"
   ]
  },
  {
   "cell_type": "code",
   "execution_count": 82,
   "id": "7e226c54",
   "metadata": {},
   "outputs": [],
   "source": [
    "#Divide all prices by 1e6\n",
    "df_2['Valor'] = df_2['Valor'].div(1e6)"
   ]
  },
  {
   "cell_type": "code",
   "execution_count": 83,
   "id": "b13a71b7",
   "metadata": {},
   "outputs": [
    {
     "data": {
      "text/html": [
       "<div>\n",
       "<style scoped>\n",
       "    .dataframe tbody tr th:only-of-type {\n",
       "        vertical-align: middle;\n",
       "    }\n",
       "\n",
       "    .dataframe tbody tr th {\n",
       "        vertical-align: top;\n",
       "    }\n",
       "\n",
       "    .dataframe thead th {\n",
       "        text-align: right;\n",
       "    }\n",
       "</style>\n",
       "<table border=\"1\" class=\"dataframe\">\n",
       "  <thead>\n",
       "    <tr style=\"text-align: right;\">\n",
       "      <th></th>\n",
       "      <th>Rua</th>\n",
       "      <th>Bairro</th>\n",
       "      <th>Cidade</th>\n",
       "      <th>Metragem</th>\n",
       "      <th>Quartos</th>\n",
       "      <th>Banheiros</th>\n",
       "      <th>Vagas</th>\n",
       "      <th>Valor</th>\n",
       "    </tr>\n",
       "  </thead>\n",
       "  <tbody>\n",
       "    <tr>\n",
       "      <th>0</th>\n",
       "      <td>Avenida Itacira, 255</td>\n",
       "      <td>Planalto Paulista</td>\n",
       "      <td>São Paulo</td>\n",
       "      <td>1000</td>\n",
       "      <td>4</td>\n",
       "      <td>8</td>\n",
       "      <td>6</td>\n",
       "      <td>7.000</td>\n",
       "    </tr>\n",
       "    <tr>\n",
       "      <th>1</th>\n",
       "      <td>Rua Aurelia Perez Alvarez, 42</td>\n",
       "      <td>Jardim dos Estados</td>\n",
       "      <td>São Paulo</td>\n",
       "      <td>496</td>\n",
       "      <td>4</td>\n",
       "      <td>4</td>\n",
       "      <td>4</td>\n",
       "      <td>3.700</td>\n",
       "    </tr>\n",
       "    <tr>\n",
       "      <th>2</th>\n",
       "      <td>Rua Alba Valdez</td>\n",
       "      <td>Jardim Reimberg</td>\n",
       "      <td>São Paulo</td>\n",
       "      <td>125</td>\n",
       "      <td>4</td>\n",
       "      <td>3</td>\n",
       "      <td>2</td>\n",
       "      <td>0.380</td>\n",
       "    </tr>\n",
       "    <tr>\n",
       "      <th>3</th>\n",
       "      <td>NaN</td>\n",
       "      <td>Jardim Morumbi</td>\n",
       "      <td>São Paulo</td>\n",
       "      <td>310</td>\n",
       "      <td>3</td>\n",
       "      <td>2</td>\n",
       "      <td>4</td>\n",
       "      <td>0.685</td>\n",
       "    </tr>\n",
       "    <tr>\n",
       "      <th>4</th>\n",
       "      <td>Rua Tobias Barreto, 195</td>\n",
       "      <td>Mooca</td>\n",
       "      <td>São Paulo</td>\n",
       "      <td>100</td>\n",
       "      <td>3</td>\n",
       "      <td>2</td>\n",
       "      <td>2</td>\n",
       "      <td>0.540</td>\n",
       "    </tr>\n",
       "    <tr>\n",
       "      <th>...</th>\n",
       "      <td>...</td>\n",
       "      <td>...</td>\n",
       "      <td>...</td>\n",
       "      <td>...</td>\n",
       "      <td>...</td>\n",
       "      <td>...</td>\n",
       "      <td>...</td>\n",
       "      <td>...</td>\n",
       "    </tr>\n",
       "    <tr>\n",
       "      <th>10002</th>\n",
       "      <td>Avenida Odila</td>\n",
       "      <td>Planalto Paulista</td>\n",
       "      <td>São Paulo</td>\n",
       "      <td>267</td>\n",
       "      <td>3</td>\n",
       "      <td>6</td>\n",
       "      <td>4</td>\n",
       "      <td>1.500</td>\n",
       "    </tr>\n",
       "    <tr>\n",
       "      <th>10003</th>\n",
       "      <td>Rua Tapuçu</td>\n",
       "      <td>Vila Sofia</td>\n",
       "      <td>São Paulo</td>\n",
       "      <td>95</td>\n",
       "      <td>2</td>\n",
       "      <td>2</td>\n",
       "      <td>2</td>\n",
       "      <td>0.665</td>\n",
       "    </tr>\n",
       "    <tr>\n",
       "      <th>10004</th>\n",
       "      <td>Rua Guararema</td>\n",
       "      <td>Bosque da Saúde</td>\n",
       "      <td>São Paulo</td>\n",
       "      <td>605</td>\n",
       "      <td>8</td>\n",
       "      <td>7</td>\n",
       "      <td>5</td>\n",
       "      <td>2.300</td>\n",
       "    </tr>\n",
       "    <tr>\n",
       "      <th>10005</th>\n",
       "      <td>Rua Estero Belaco</td>\n",
       "      <td>Vila da Saúde</td>\n",
       "      <td>São Paulo</td>\n",
       "      <td>205</td>\n",
       "      <td>3</td>\n",
       "      <td>3</td>\n",
       "      <td>6</td>\n",
       "      <td>1.050</td>\n",
       "    </tr>\n",
       "    <tr>\n",
       "      <th>10007</th>\n",
       "      <td>Rua Barão de Tramandaí, 0</td>\n",
       "      <td>Vila Alpina</td>\n",
       "      <td>São Paulo</td>\n",
       "      <td>122</td>\n",
       "      <td>3</td>\n",
       "      <td>2</td>\n",
       "      <td>2</td>\n",
       "      <td>0.270</td>\n",
       "    </tr>\n",
       "  </tbody>\n",
       "</table>\n",
       "<p>9156 rows × 8 columns</p>\n",
       "</div>"
      ],
      "text/plain": [
       "                                  Rua              Bairro     Cidade  \\\n",
       "0               Avenida Itacira, 255    Planalto Paulista  São Paulo   \n",
       "1      Rua Aurelia Perez Alvarez, 42   Jardim dos Estados  São Paulo   \n",
       "2                     Rua Alba Valdez     Jardim Reimberg  São Paulo   \n",
       "3                                 NaN      Jardim Morumbi  São Paulo   \n",
       "4            Rua Tobias Barreto, 195                Mooca  São Paulo   \n",
       "...                               ...                 ...        ...   \n",
       "10002                   Avenida Odila   Planalto Paulista  São Paulo   \n",
       "10003                      Rua Tapuçu          Vila Sofia  São Paulo   \n",
       "10004                   Rua Guararema     Bosque da Saúde  São Paulo   \n",
       "10005               Rua Estero Belaco       Vila da Saúde  São Paulo   \n",
       "10007      Rua Barão de Tramandaí, 0          Vila Alpina  São Paulo   \n",
       "\n",
       "       Metragem  Quartos  Banheiros  Vagas  Valor  \n",
       "0          1000        4          8      6  7.000  \n",
       "1           496        4          4      4  3.700  \n",
       "2           125        4          3      2  0.380  \n",
       "3           310        3          2      4  0.685  \n",
       "4           100        3          2      2  0.540  \n",
       "...         ...      ...        ...    ...    ...  \n",
       "10002       267        3          6      4  1.500  \n",
       "10003        95        2          2      2  0.665  \n",
       "10004       605        8          7      5  2.300  \n",
       "10005       205        3          3      6  1.050  \n",
       "10007       122        3          2      2  0.270  \n",
       "\n",
       "[9156 rows x 8 columns]"
      ]
     },
     "execution_count": 83,
     "metadata": {},
     "output_type": "execute_result"
    }
   ],
   "source": [
    "df_2"
   ]
  },
  {
   "cell_type": "code",
   "execution_count": 84,
   "id": "31dff1fa",
   "metadata": {},
   "outputs": [
    {
     "data": {
      "text/html": [
       "<div>\n",
       "<style scoped>\n",
       "    .dataframe tbody tr th:only-of-type {\n",
       "        vertical-align: middle;\n",
       "    }\n",
       "\n",
       "    .dataframe tbody tr th {\n",
       "        vertical-align: top;\n",
       "    }\n",
       "\n",
       "    .dataframe thead th {\n",
       "        text-align: right;\n",
       "    }\n",
       "</style>\n",
       "<table border=\"1\" class=\"dataframe\">\n",
       "  <thead>\n",
       "    <tr style=\"text-align: right;\">\n",
       "      <th></th>\n",
       "      <th>Metragem</th>\n",
       "      <th>Quartos</th>\n",
       "      <th>Banheiros</th>\n",
       "      <th>Vagas</th>\n",
       "      <th>Valor</th>\n",
       "    </tr>\n",
       "  </thead>\n",
       "  <tbody>\n",
       "    <tr>\n",
       "      <th>count</th>\n",
       "      <td>9156.000000</td>\n",
       "      <td>9156.000000</td>\n",
       "      <td>9156.000000</td>\n",
       "      <td>9156.000000</td>\n",
       "      <td>9156.000000</td>\n",
       "    </tr>\n",
       "    <tr>\n",
       "      <th>mean</th>\n",
       "      <td>434.416230</td>\n",
       "      <td>3.446811</td>\n",
       "      <td>3.797073</td>\n",
       "      <td>3.960135</td>\n",
       "      <td>3.052203</td>\n",
       "    </tr>\n",
       "    <tr>\n",
       "      <th>std</th>\n",
       "      <td>7856.422978</td>\n",
       "      <td>1.048944</td>\n",
       "      <td>1.967873</td>\n",
       "      <td>2.601022</td>\n",
       "      <td>3.944208</td>\n",
       "    </tr>\n",
       "    <tr>\n",
       "      <th>min</th>\n",
       "      <td>10.000000</td>\n",
       "      <td>1.000000</td>\n",
       "      <td>1.000000</td>\n",
       "      <td>1.000000</td>\n",
       "      <td>0.013000</td>\n",
       "    </tr>\n",
       "    <tr>\n",
       "      <th>25%</th>\n",
       "      <td>168.000000</td>\n",
       "      <td>3.000000</td>\n",
       "      <td>2.000000</td>\n",
       "      <td>2.000000</td>\n",
       "      <td>0.890000</td>\n",
       "    </tr>\n",
       "    <tr>\n",
       "      <th>50%</th>\n",
       "      <td>276.000000</td>\n",
       "      <td>3.000000</td>\n",
       "      <td>4.000000</td>\n",
       "      <td>4.000000</td>\n",
       "      <td>1.800000</td>\n",
       "    </tr>\n",
       "    <tr>\n",
       "      <th>75%</th>\n",
       "      <td>450.000000</td>\n",
       "      <td>4.000000</td>\n",
       "      <td>5.000000</td>\n",
       "      <td>5.000000</td>\n",
       "      <td>3.500000</td>\n",
       "    </tr>\n",
       "    <tr>\n",
       "      <th>max</th>\n",
       "      <td>750000.000000</td>\n",
       "      <td>16.000000</td>\n",
       "      <td>40.000000</td>\n",
       "      <td>50.000000</td>\n",
       "      <td>65.000000</td>\n",
       "    </tr>\n",
       "  </tbody>\n",
       "</table>\n",
       "</div>"
      ],
      "text/plain": [
       "            Metragem      Quartos    Banheiros        Vagas        Valor\n",
       "count    9156.000000  9156.000000  9156.000000  9156.000000  9156.000000\n",
       "mean      434.416230     3.446811     3.797073     3.960135     3.052203\n",
       "std      7856.422978     1.048944     1.967873     2.601022     3.944208\n",
       "min        10.000000     1.000000     1.000000     1.000000     0.013000\n",
       "25%       168.000000     3.000000     2.000000     2.000000     0.890000\n",
       "50%       276.000000     3.000000     4.000000     4.000000     1.800000\n",
       "75%       450.000000     4.000000     5.000000     5.000000     3.500000\n",
       "max    750000.000000    16.000000    40.000000    50.000000    65.000000"
      ]
     },
     "execution_count": 84,
     "metadata": {},
     "output_type": "execute_result"
    }
   ],
   "source": [
    "df_2.describe()"
   ]
  },
  {
   "cell_type": "markdown",
   "id": "8867a654",
   "metadata": {},
   "source": [
    "### 2 - Make an legible histogram of the prices"
   ]
  },
  {
   "cell_type": "code",
   "execution_count": 85,
   "id": "69a6c02a",
   "metadata": {},
   "outputs": [
    {
     "data": {
      "text/plain": [
       "<AxesSubplot:>"
      ]
     },
     "execution_count": 85,
     "metadata": {},
     "output_type": "execute_result"
    },
    {
     "data": {
      "image/png": "[encoded data removed]",
      "text/plain": [
       "<Figure size 432x288 with 1 Axes>"
      ]
     },
     "metadata": {},
     "output_type": "display_data"
    }
   ],
   "source": [
    "#Make a first histogram\n",
    "df_2['Valor'].hist()"
   ]
  },
  {
   "cell_type": "code",
   "execution_count": 86,
   "id": "8b9da87a",
   "metadata": {},
   "outputs": [
    {
     "data": {
      "image/png": "[encoded data removed]",
      "text/plain": [
       "<Figure size 720x576 with 1 Axes>"
      ]
     },
     "metadata": {},
     "output_type": "display_data"
    }
   ],
   "source": [
    "sns.set()\n",
    "plt.figure(figsize = (10, 8))\n",
    "ax = sns.histplot(data = df_2['Valor'], kde = True, line_kws = {'color':'orange'})\n",
    "#Set histogram title\n",
    "ax.set_title(\"Distribution of house prices in São Paulo\", fontsize = 25)\n",
    "#Consider prices until 15 million.\n",
    "plt.xlim(0, 15)\n",
    "#Set axis names\n",
    "plt.xlabel('Prices in millions of Reais', fontsize = 15)\n",
    "plt.ylabel(\"Number of houses\", fontsize = 15)\n",
    "\n",
    "plt.show()"
   ]
  },
  {
   "cell_type": "markdown",
   "id": "de1ed7ea",
   "metadata": {},
   "source": [
    "### 3 - Price per square foot by district"
   ]
  },
  {
   "cell_type": "code",
   "execution_count": 87,
   "id": "c226e6c3",
   "metadata": {},
   "outputs": [],
   "source": [
    "#Create collum with price per square foot\n",
    "df_2['Valor/m2'] = df_2['Valor'].divide(df_2['Metragem'])"
   ]
  },
  {
   "cell_type": "code",
   "execution_count": 88,
   "id": "6ded9a46",
   "metadata": {},
   "outputs": [
    {
     "data": {
      "text/html": [
       "<div>\n",
       "<style scoped>\n",
       "    .dataframe tbody tr th:only-of-type {\n",
       "        vertical-align: middle;\n",
       "    }\n",
       "\n",
       "    .dataframe tbody tr th {\n",
       "        vertical-align: top;\n",
       "    }\n",
       "\n",
       "    .dataframe thead th {\n",
       "        text-align: right;\n",
       "    }\n",
       "</style>\n",
       "<table border=\"1\" class=\"dataframe\">\n",
       "  <thead>\n",
       "    <tr style=\"text-align: right;\">\n",
       "      <th></th>\n",
       "      <th>Rua</th>\n",
       "      <th>Bairro</th>\n",
       "      <th>Cidade</th>\n",
       "      <th>Metragem</th>\n",
       "      <th>Quartos</th>\n",
       "      <th>Banheiros</th>\n",
       "      <th>Vagas</th>\n",
       "      <th>Valor</th>\n",
       "      <th>Valor/m2</th>\n",
       "    </tr>\n",
       "  </thead>\n",
       "  <tbody>\n",
       "    <tr>\n",
       "      <th>0</th>\n",
       "      <td>Avenida Itacira, 255</td>\n",
       "      <td>Planalto Paulista</td>\n",
       "      <td>São Paulo</td>\n",
       "      <td>1000</td>\n",
       "      <td>4</td>\n",
       "      <td>8</td>\n",
       "      <td>6</td>\n",
       "      <td>7.000</td>\n",
       "      <td>0.00700</td>\n",
       "    </tr>\n",
       "    <tr>\n",
       "      <th>1</th>\n",
       "      <td>Rua Aurelia Perez Alvarez, 42</td>\n",
       "      <td>Jardim dos Estados</td>\n",
       "      <td>São Paulo</td>\n",
       "      <td>496</td>\n",
       "      <td>4</td>\n",
       "      <td>4</td>\n",
       "      <td>4</td>\n",
       "      <td>3.700</td>\n",
       "      <td>0.00746</td>\n",
       "    </tr>\n",
       "    <tr>\n",
       "      <th>2</th>\n",
       "      <td>Rua Alba Valdez</td>\n",
       "      <td>Jardim Reimberg</td>\n",
       "      <td>São Paulo</td>\n",
       "      <td>125</td>\n",
       "      <td>4</td>\n",
       "      <td>3</td>\n",
       "      <td>2</td>\n",
       "      <td>0.380</td>\n",
       "      <td>0.00304</td>\n",
       "    </tr>\n",
       "    <tr>\n",
       "      <th>3</th>\n",
       "      <td>NaN</td>\n",
       "      <td>Jardim Morumbi</td>\n",
       "      <td>São Paulo</td>\n",
       "      <td>310</td>\n",
       "      <td>3</td>\n",
       "      <td>2</td>\n",
       "      <td>4</td>\n",
       "      <td>0.685</td>\n",
       "      <td>0.00221</td>\n",
       "    </tr>\n",
       "    <tr>\n",
       "      <th>4</th>\n",
       "      <td>Rua Tobias Barreto, 195</td>\n",
       "      <td>Mooca</td>\n",
       "      <td>São Paulo</td>\n",
       "      <td>100</td>\n",
       "      <td>3</td>\n",
       "      <td>2</td>\n",
       "      <td>2</td>\n",
       "      <td>0.540</td>\n",
       "      <td>0.00540</td>\n",
       "    </tr>\n",
       "  </tbody>\n",
       "</table>\n",
       "</div>"
      ],
      "text/plain": [
       "                              Rua              Bairro     Cidade  Metragem  \\\n",
       "0           Avenida Itacira, 255    Planalto Paulista  São Paulo      1000   \n",
       "1  Rua Aurelia Perez Alvarez, 42   Jardim dos Estados  São Paulo       496   \n",
       "2                 Rua Alba Valdez     Jardim Reimberg  São Paulo       125   \n",
       "3                             NaN      Jardim Morumbi  São Paulo       310   \n",
       "4        Rua Tobias Barreto, 195                Mooca  São Paulo       100   \n",
       "\n",
       "   Quartos  Banheiros  Vagas  Valor  Valor/m2  \n",
       "0        4          8      6  7.000   0.00700  \n",
       "1        4          4      4  3.700   0.00746  \n",
       "2        4          3      2  0.380   0.00304  \n",
       "3        3          2      4  0.685   0.00221  \n",
       "4        3          2      2  0.540   0.00540  "
      ]
     },
     "execution_count": 88,
     "metadata": {},
     "output_type": "execute_result"
    }
   ],
   "source": [
    "df_2.head()"
   ]
  },
  {
   "cell_type": "code",
   "execution_count": 89,
   "id": "87ff0180",
   "metadata": {},
   "outputs": [],
   "source": [
    "#Change unit of prices per square foot to 10^3\n",
    "#Multiply 'Valor/m2' by 1e3\n",
    "df_2['Valor/m2'] = df_2['Valor/m2'].mul(1e3)"
   ]
  },
  {
   "cell_type": "code",
   "execution_count": 90,
   "id": "4b44c712",
   "metadata": {},
   "outputs": [
    {
     "data": {
      "text/html": [
       "<div>\n",
       "<style scoped>\n",
       "    .dataframe tbody tr th:only-of-type {\n",
       "        vertical-align: middle;\n",
       "    }\n",
       "\n",
       "    .dataframe tbody tr th {\n",
       "        vertical-align: top;\n",
       "    }\n",
       "\n",
       "    .dataframe thead th {\n",
       "        text-align: right;\n",
       "    }\n",
       "</style>\n",
       "<table border=\"1\" class=\"dataframe\">\n",
       "  <thead>\n",
       "    <tr style=\"text-align: right;\">\n",
       "      <th></th>\n",
       "      <th>Rua</th>\n",
       "      <th>Bairro</th>\n",
       "      <th>Cidade</th>\n",
       "      <th>Metragem</th>\n",
       "      <th>Quartos</th>\n",
       "      <th>Banheiros</th>\n",
       "      <th>Vagas</th>\n",
       "      <th>Valor</th>\n",
       "      <th>Valor/m2</th>\n",
       "    </tr>\n",
       "  </thead>\n",
       "  <tbody>\n",
       "    <tr>\n",
       "      <th>0</th>\n",
       "      <td>Avenida Itacira, 255</td>\n",
       "      <td>Planalto Paulista</td>\n",
       "      <td>São Paulo</td>\n",
       "      <td>1000</td>\n",
       "      <td>4</td>\n",
       "      <td>8</td>\n",
       "      <td>6</td>\n",
       "      <td>7.000</td>\n",
       "      <td>7.000000</td>\n",
       "    </tr>\n",
       "    <tr>\n",
       "      <th>1</th>\n",
       "      <td>Rua Aurelia Perez Alvarez, 42</td>\n",
       "      <td>Jardim dos Estados</td>\n",
       "      <td>São Paulo</td>\n",
       "      <td>496</td>\n",
       "      <td>4</td>\n",
       "      <td>4</td>\n",
       "      <td>4</td>\n",
       "      <td>3.700</td>\n",
       "      <td>7.459677</td>\n",
       "    </tr>\n",
       "    <tr>\n",
       "      <th>2</th>\n",
       "      <td>Rua Alba Valdez</td>\n",
       "      <td>Jardim Reimberg</td>\n",
       "      <td>São Paulo</td>\n",
       "      <td>125</td>\n",
       "      <td>4</td>\n",
       "      <td>3</td>\n",
       "      <td>2</td>\n",
       "      <td>0.380</td>\n",
       "      <td>3.040000</td>\n",
       "    </tr>\n",
       "    <tr>\n",
       "      <th>3</th>\n",
       "      <td>NaN</td>\n",
       "      <td>Jardim Morumbi</td>\n",
       "      <td>São Paulo</td>\n",
       "      <td>310</td>\n",
       "      <td>3</td>\n",
       "      <td>2</td>\n",
       "      <td>4</td>\n",
       "      <td>0.685</td>\n",
       "      <td>2.209677</td>\n",
       "    </tr>\n",
       "    <tr>\n",
       "      <th>4</th>\n",
       "      <td>Rua Tobias Barreto, 195</td>\n",
       "      <td>Mooca</td>\n",
       "      <td>São Paulo</td>\n",
       "      <td>100</td>\n",
       "      <td>3</td>\n",
       "      <td>2</td>\n",
       "      <td>2</td>\n",
       "      <td>0.540</td>\n",
       "      <td>5.400000</td>\n",
       "    </tr>\n",
       "  </tbody>\n",
       "</table>\n",
       "</div>"
      ],
      "text/plain": [
       "                              Rua              Bairro     Cidade  Metragem  \\\n",
       "0           Avenida Itacira, 255    Planalto Paulista  São Paulo      1000   \n",
       "1  Rua Aurelia Perez Alvarez, 42   Jardim dos Estados  São Paulo       496   \n",
       "2                 Rua Alba Valdez     Jardim Reimberg  São Paulo       125   \n",
       "3                             NaN      Jardim Morumbi  São Paulo       310   \n",
       "4        Rua Tobias Barreto, 195                Mooca  São Paulo       100   \n",
       "\n",
       "   Quartos  Banheiros  Vagas  Valor  Valor/m2  \n",
       "0        4          8      6  7.000  7.000000  \n",
       "1        4          4      4  3.700  7.459677  \n",
       "2        4          3      2  0.380  3.040000  \n",
       "3        3          2      4  0.685  2.209677  \n",
       "4        3          2      2  0.540  5.400000  "
      ]
     },
     "execution_count": 90,
     "metadata": {},
     "output_type": "execute_result"
    }
   ],
   "source": [
    "df_2.head()"
   ]
  },
  {
   "cell_type": "code",
   "execution_count": 91,
   "id": "44febe4f",
   "metadata": {},
   "outputs": [],
   "source": [
    "#Group data by district and take the mean of price per square foot\n",
    "dfDistricts = df_2.groupby(by = ['Bairro'])['Valor/m2']"
   ]
  },
  {
   "cell_type": "code",
   "execution_count": 92,
   "id": "b6502bd9",
   "metadata": {},
   "outputs": [
    {
     "data": {
      "text/plain": [
       "Bairro\n",
       "Aclimação             7.656169\n",
       "Alto da Boa Vista     5.849569\n",
       "Alto da Lapa          7.606728\n",
       "Alto da Mooca         5.691740\n",
       "Alto de Pinheiros    11.269980\n",
       "                       ...    \n",
       "Vila Água Funda       4.467128\n",
       "Água Branca           7.269114\n",
       "Água Fria             5.841104\n",
       "Água Funda            3.876863\n",
       "Água Rasa             4.509608\n",
       "Name: Valor/m2, Length: 697, dtype: float64"
      ]
     },
     "execution_count": 92,
     "metadata": {},
     "output_type": "execute_result"
    }
   ],
   "source": [
    "DistrictMeans = dfDistricts.mean()\n",
    "DistrictMeans"
   ]
  },
  {
   "cell_type": "code",
   "execution_count": 93,
   "id": "b0b3c71e",
   "metadata": {},
   "outputs": [
    {
     "data": {
      "application/vnd.plotly.v1+json": {
       "config": {
        "plotlyServerURL": "https://plot.ly"
       },
       "data": [
        {
         "hovertemplate": "District=%{x}<br>Price/m2=%{y}<extra></extra>",
         "legendgroup": "",
         "line": {
          "color": "#636efa",
          "dash": "solid"
         },
         "marker": {
          "symbol": "circle"
         },
         "mode": "lines",
         "name": "",
         "orientation": "v",
         "showlegend": false,
         "type": "scatter",
         "x": [
          "Aclimação",
          "Alto da Boa Vista",
          "Alto da Lapa",
          "Alto da Mooca",
          "Alto de Pinheiros",
          "Aricanduva",
          "Balneário Mar Paulista",
          "Barra Funda",
          "Barro Branco (Zona Norte)",
          "Bela Aliança",
          "Bela Vista",
          "Belenzinho",
          "Boaçava",
          "Bom Retiro",
          "Bortolândia",
          "Bosque da Saúde",
          "Brasilândia",
          "Brooklin",
          "Brooklin Novo",
          "Brooklin Paulista",
          "Brás",
          "Burgo Paulista",
          "Butantã",
          "Cambuci",
          "Campininha",
          "Campo Belo",
          "Campo Grande",
          "Campos Elíseos",
          "Canindé",
          "Capela do Socorro",
          "Capão Redondo",
          "Carandiru",
          "Casa Verde",
          "Casa Verde Alta",
          "Catumbi",
          "Caxingui",
          "Cerqueira César",
          "Chora Menino",
          "Chácara Belenzinho",
          "Chácara Califórnia",
          "Chácara Flora",
          "Chácara Inglesa",
          "Chácara Japonesa",
          "Chácara Jaraguá",
          "Chácara Mafalda",
          "Chácara Meyer",
          "Chácara Monte Alegre",
          "Chácara Santo Antônio (Zona Leste)",
          "Chácara Santo Antônio (Zona Sul)",
          "Chácara Seis de Outubro",
          "Chácara Tatuapé",
          "Chácara das Paineiras",
          "Cidade Ademar",
          "Cidade Antônio Estevão de Carvalho",
          "Cidade Centenário",
          "Cidade Domitila",
          "Cidade Dutra",
          "Cidade Jardim",
          "Cidade Líder",
          "Cidade Monções",
          "Cidade Mãe do Céu",
          "Cidade Patriarca",
          "Cidade São Francisco",
          "Cidade São Mateus",
          "Cidade Vargas",
          "Cidade dos Bandeirantes",
          "City América",
          "Conjunto Habitacional Barreira Grande",
          "Conjunto Habitacional Castro Alves",
          "Conjunto Promorar Raposo Tavares",
          "Conjunto Residencial Bandeirantes",
          "Conjunto Residencial Butantã",
          "Conjunto Residencial Jardim Canaã",
          "Conjunto Residencial José Bonifácio",
          "Conjunto Residencial Morada do Sol",
          "Conjunto Residencial Vista Verde",
          "Consolação",
          "Cupecê",
          "Cursino",
          "Educandário",
          "Engenheiro Goulart",
          "Fazenda Morumbi",
          "Ferreira",
          "Granja Julieta",
          "Guaianases",
          "Guaianazes",
          "Higienópolis",
          "Horto Florestal",
          "Imirim",
          "Indianópolis",
          "Instituto de Previdência",
          "Interlagos",
          "Ipiranga",
          "Itaberaba",
          "Itaim Bibi",
          "Itaquera",
          "Jabaquara",
          "Jaguaré",
          "Jaraguá",
          "Jardim Aeroporto",
          "Jardim Alvorada (Zona Oeste)",
          "Jardim Ampliação",
          "Jardim Amália",
          "Jardim América",
          "Jardim Ana Maria",
          "Jardim Analia Franco",
          "Jardim Anhanguera",
          "Jardim Anália Franco",
          "Jardim Aricanduva",
          "Jardim Arize",
          "Jardim Aurélia",
          "Jardim Avelino",
          "Jardim Avenida",
          "Jardim Bandeirantes (Zona Norte)",
          "Jardim Benfica",
          "Jardim Boa Vista (Zona Oeste)",
          "Jardim Bonfiglioli",
          "Jardim Botucatu",
          "Jardim Brasil (Zona Norte)",
          "Jardim Brasil (Zona Sul)",
          "Jardim Brasília (Zona Leste)",
          "Jardim Bélgica",
          "Jardim Camargo Novo",
          "Jardim Cambara",
          "Jardim Campo Grande",
          "Jardim Caravelas",
          "Jardim Carlu",
          "Jardim Casablanca",
          "Jardim Castelo",
          "Jardim Catanduva",
          "Jardim Catarina",
          "Jardim Celeste",
          "Jardim Cidade Pirituba",
          "Jardim Cidalia",
          "Jardim Cidália",
          "Jardim Cláudia",
          "Jardim Coimbra",
          "Jardim Colombo",
          "Jardim Colonial",
          "Jardim Colorado",
          "Jardim Consórcio",
          "Jardim Cordeiro",
          "Jardim Cotiana",
          "Jardim Cristal",
          "Jardim Célia (Zona Sul)",
          "Jardim D'Abril",
          "Jardim Danfer",
          "Jardim Dom Bosco",
          "Jardim Dracena",
          "Jardim Egle",
          "Jardim Eliana",
          "Jardim Ernestina",
          "Jardim Esmeralda",
          "Jardim Ester",
          "Jardim Ester Yolanda",
          "Jardim Europa",
          "Jardim Everest",
          "Jardim Felicidade (Zona Oeste)",
          "Jardim Fernandes",
          "Jardim Floresta",
          "Jardim Franca",
          "Jardim Germânia",
          "Jardim Gonzaga",
          "Jardim Guairaca",
          "Jardim Guanca",
          "Jardim Guapira",
          "Jardim Guarapiranga",
          "Jardim Guarau",
          "Jardim Guedala",
          "Jardim Heliomar",
          "Jardim Hípico",
          "Jardim Ibitirama",
          "Jardim Imperador (Zona Leste)",
          "Jardim Independência",
          "Jardim Ipanema (Zona Oeste)",
          "Jardim Ipanema (Zona Sul)",
          "Jardim Itacolomi",
          "Jardim Itapemirim",
          "Jardim Itapeva",
          "Jardim Iva",
          "Jardim Ivana",
          "Jardim Jabaquara",
          "Jardim Japão",
          "Jardim Jaraguá",
          "Jardim Jaú (Zona Leste)",
          "Jardim Jussara",
          "Jardim Leila",
          "Jardim Leonor",
          "Jardim Leonor Mendes de Barros",
          "Jardim Londrina",
          "Jardim Lourdes",
          "Jardim Luanda",
          "Jardim Luzitânia",
          "Jardim Mangalot",
          "Jardim Maracanã",
          "Jardim Marajoara",
          "Jardim Maria Augusta",
          "Jardim Maria Duarte",
          "Jardim Maria Estela",
          "Jardim Maria Luiza",
          "Jardim Maringá",
          "Jardim Marília",
          "Jardim Miriam",
          "Jardim Modelo",
          "Jardim Monte Alegre",
          "Jardim Monte Azul",
          "Jardim Monte Kemel",
          "Jardim Morais Prado",
          "Jardim Morro Verde",
          "Jardim Morumbi",
          "Jardim Nice",
          "Jardim Niteroi",
          "Jardim Nossa Senhora do Carmo",
          "Jardim Nova Germania",
          "Jardim Nove de Julho",
          "Jardim Novo Mundo",
          "Jardim Odete",
          "Jardim Olympia",
          "Jardim Oriental",
          "Jardim Palmares (Zona Sul)",
          "Jardim Panorama",
          "Jardim Panorama (Zona Leste)",
          "Jardim Panorama D'Oeste",
          "Jardim Paraíso",
          "Jardim Parque Morumbi",
          "Jardim Patente",
          "Jardim Patente Novo",
          "Jardim Paulista",
          "Jardim Paulistano",
          "Jardim Penha",
          "Jardim Peri",
          "Jardim Peri Peri",
          "Jardim Petropolis",
          "Jardim Petrópolis",
          "Jardim Pinheiros",
          "Jardim Pirituba",
          "Jardim Planalto",
          "Jardim Ponte Rasa",
          "Jardim Popular",
          "Jardim Primavera (Zona Sul)",
          "Jardim Promissão",
          "Jardim Prudência",
          "Jardim Raposo Tavares",
          "Jardim Record",
          "Jardim Reimberg",
          "Jardim Rincão",
          "Jardim Rio Pequeno",
          "Jardim Riviera",
          "Jardim Rizzo",
          "Jardim Rosa Maria",
          "Jardim Sabará",
          "Jardim Santa Adélia",
          "Jardim Santa Cruz (Campo Grande)",
          "Jardim Santa Cruz (Sacomã)",
          "Jardim Santa Fé (Zona Sul)",
          "Jardim Santa Helena",
          "Jardim Santa Maria",
          "Jardim Santo Amaro",
          "Jardim Santo Antônio",
          "Jardim Santo Elias",
          "Jardim Sarah",
          "Jardim Satélite",
          "Jardim Sul São Paulo",
          "Jardim São Bento",
          "Jardim São Carlos (Zona Leste)",
          "Jardim São Carlos (Zona Sul)",
          "Jardim São Jorge",
          "Jardim São Jorge (Raposo Tavares)",
          "Jardim São José",
          "Jardim São Luís",
          "Jardim São Nicolau",
          "Jardim São Paulo(Zona Norte)",
          "Jardim Sílvia (Zona Oeste)",
          "Jardim Taboao",
          "Jardim Taboão",
          "Jardim Taquaral",
          "Jardim Tenani",
          "Jardim Teresa",
          "Jardim Textil",
          "Jardim Tietê",
          "Jardim Tremembe",
          "Jardim Tremembé",
          "Jardim Triana",
          "Jardim Trussardi",
          "Jardim Três Marias",
          "Jardim Ubirajara",
          "Jardim Umarizal",
          "Jardim Umuarama",
          "Jardim Vaz de Lima",
          "Jardim Vera Cruz",
          "Jardim Vera Cruz(Zona Leste)",
          "Jardim Vergueiro",
          "Jardim Vergueiro (Sacomã)",
          "Jardim Viana",
          "Jardim Vila Carrão",
          "Jardim Vila Formosa",
          "Jardim Vila Mariana",
          "Jardim Virginia Bianca",
          "Jardim Vista Linda",
          "Jardim Vitoria Regia",
          "Jardim Vitória Régia",
          "Jardim Vivan",
          "Jardim da Glória",
          "Jardim da Pedreira",
          "Jardim da Saúde",
          "Jardim das Acácias",
          "Jardim das Bandeiras",
          "Jardim das Camélias",
          "Jardim das Carmelitas",
          "Jardim das Imbuias",
          "Jardim das Laranjeiras",
          "Jardim das Vertentes",
          "Jardim de Lorenzo",
          "Jardim do Campo",
          "Jardim do Carmo",
          "Jardim do Colégio (Zona Norte)",
          "Jardim dos Cataldis",
          "Jardim dos Estados",
          "Jardim dos Pinheiros",
          "Jardim dos Prados",
          "Jardim Íris",
          "Jardins",
          "Jurubatuba",
          "Lapa",
          "Lapa de Baixo",
          "Lar São Paulo",
          "Lauzane Paulista",
          "Liberdade",
          "Limoeiro",
          "Mandaqui",
          "Maranhão",
          "Mirandópolis",
          "Moema",
          "Mooca",
          "Morro dos Ingleses",
          "Morumbi",
          "Nossa Senhora do Ó",
          "Nova Piraju",
          "Pacaembu",
          "Paineiras do Morumbi",
          "Parada Inglesa",
          "Parada XV de Novembro",
          "Paraisópolis",
          "Paraíso",
          "Paraíso do Morumbi",
          "Pari",
          "Parque Alves de Lima",
          "Parque Boturussu",
          "Parque Casa de Pedra",
          "Parque Colonial",
          "Parque Continental",
          "Parque CíSão Pauloer",
          "Parque Edu Chaves",
          "Parque Fernanda",
          "Parque Fongaro",
          "Parque Guarani",
          "Parque Imperial",
          "Parque Ipê",
          "Parque Jabaquara",
          "Parque Mandaqui",
          "Parque Maria Domitila",
          "Parque Maria Fernandes",
          "Parque Maria Helena",
          "Parque Monteiro Soares",
          "Parque Munhoz",
          "Parque Nações Unidas",
          "Parque Novo Mundo",
          "Parque Peruche",
          "Parque Ramos Freitas",
          "Parque Regina",
          "Parque Residencial Julia",
          "Parque Residencial Oratorio",
          "Parque Santa Cecília",
          "Parque Santa Madalena",
          "Parque Santa Rita",
          "Parque Santo Antônio (Aricanduva)",
          "Parque Savoy City",
          "Parque Sevilha",
          "Parque São Domingos",
          "Parque São Jorge",
          "Parque São Lucas",
          "Parque São Rafael",
          "Parque Vitória",
          "Parque da Lapa",
          "Parque da Mooca",
          "Parque da Vila Prudente",
          "Parque das Paineiras",
          "Parque das Árvores",
          "Parque do Castelo",
          "Parque do Terceiro Lago",
          "Parque dos Príncipes",
          "Penha de França",
          "Perdizes",
          "Pinheiros",
          "Piqueri",
          "Pirituba",
          "Planalto Paulista",
          "Pompeia",
          "Praia Azul",
          "Praia Paulistinha",
          "Praia da Lagoa",
          "Quarta Parada",
          "Quinta da Paineira",
          "Real Parque",
          "Recanto dos Sonhos",
          "Retiro Morumbi",
          "Rio Bonito",
          "Rio Pequeno",
          "Rolinópolis",
          "Sacomã",
          "Santa Cecília",
          "Santa Teresinha",
          "Santana",
          "Santo Amaro",
          "Saúde",
          "Siciliano",
          "Socorro",
          "Sumarezinho",
          "Sumaré",
          "Super Quadra Morumbi",
          "São João Clímaco",
          "São Judas",
          "São Lucas",
          "São Miguel Paulista",
          "Sítio Represa",
          "Sítio da Figueira",
          "Sítio do Mandaqui",
          "Tatuapé",
          "Terceira Divisão de Interlagos",
          "Tremembé",
          "Tucuruvi",
          "Veleiros",
          "Vila Adalgisa",
          "Vila Agueda",
          "Vila Albertina",
          "Vila Alexandria",
          "Vila Almeida",
          "Vila Alpina",
          "Vila Amélia",
          "Vila América",
          "Vila Analia",
          "Vila Anastácio",
          "Vila Andrade",
          "Vila Anglo Brasileira",
          "Vila Anhangüera",
          "Vila Antonieta",
          "Vila Antonina",
          "Vila Antônio",
          "Vila Antônio dos Santos",
          "Vila Aparecida",
          "Vila Araguaia",
          "Vila Aricanduva",
          "Vila Arriete",
          "Vila Aurea",
          "Vila Aurora (Zona Norte)",
          "Vila Ayrosa",
          "Vila Babilônia",
          "Vila Baby",
          "Vila Bancária Munhoz",
          "Vila Bandeirantes",
          "Vila Barbosa",
          "Vila Bela",
          "Vila Bela Aliança",
          "Vila Bertioga",
          "Vila Boaçava",
          "Vila Bonilha Nova",
          "Vila Brasilina",
          "Vila Brasílio Machado",
          "Vila Buenos Aires",
          "Vila Butantã",
          "Vila Califórnia",
          "Vila Califórnia(Zona Sul)",
          "Vila Campanela",
          "Vila Campestre",
          "Vila Campo Grande",
          "Vila Canero",
          "Vila Caraguatá",
          "Vila Carbone",
          "Vila Cardoso Franco",
          "Vila Carioca",
          "Vila Carlos de Campos",
          "Vila Carmosina",
          "Vila Carolina",
          "Vila Carrao",
          "Vila Carrão",
          "Vila Castelo",
          "Vila Celeste",
          "Vila Clara",
          "Vila Clarice",
          "Vila Clementino",
          "Vila Cleonice",
          "Vila Cláudia",
          "Vila Comercial",
          "Vila Conde do Pinhal",
          "Vila Congonhas",
          "Vila Constancia",
          "Vila Constança",
          "Vila Corberi",
          "Vila Cordeiro",
          "Vila Cruzeiro",
          "Vila Cunha Bueno",
          "Vila Curuçá",
          "Vila Dalila",
          "Vila Dalva",
          "Vila Darli",
          "Vila Deodoro",
          "Vila Diva (Zona Leste)",
          "Vila Dom Pedro I",
          "Vila Dom Pedro II",
          "Vila Domitila",
          "Vila Dorna",
          "Vila Duarte",
          "Vila ESão Pauloerança",
          "Vila Elvira",
          "Vila Ema",
          "Vila Emir",
          "Vila Ester (Zona Norte)",
          "Vila Euthalia",
          "Vila Fachini",
          "Vila Fernandes",
          "Vila Fiat Lux",
          "Vila Firmiano Pinto",
          "Vila Formosa",
          "Vila Gea",
          "Vila Gertrudes",
          "Vila Gomes",
          "Vila Gomes Cardim",
          "Vila Guaca",
          "Vila Guarani (Z Sul)",
          "Vila Guedes",
          "Vila Guilherme",
          "Vila Guilhermina",
          "Vila Gumercindo",
          "Vila Gustavo",
          "Vila Hamburguesa",
          "Vila Hebe",
          "Vila Ida",
          "Vila Império",
          "Vila Inah",
          "Vila Independência",
          "Vila Indiana",
          "Vila Industrial",
          "Vila Inglesa",
          "Vila Invernada",
          "Vila Ipojuca",
          "Vila Irmãos Arnoni",
          "Vila Isa",
          "Vila Isolina Mazzei",
          "Vila Ivg",
          "Vila Ivone",
          "Vila Jacuí",
          "Vila Jaguara",
          "Vila Joaniza",
          "Vila João Batista",
          "Vila Jurema",
          "Vila Lageado",
          "Vila Laís",
          "Vila Leonor",
          "Vila Leopoldina",
          "Vila Libanesa",
          "Vila Liviero",
          "Vila Londrina",
          "Vila Lúcia",
          "Vila Macedópolis",
          "Vila Madalena",
          "Vila Mafra",
          "Vila Marari",
          "Vila Maria Alta",
          "Vila Maria Baixa",
          "Vila Mariana",
          "Vila Marieta",
          "Vila Mascote",
          "Vila Matilde",
          "Vila Mazzei",
          "Vila Medeiros",
          "Vila Minerva",
          "Vila Mira",
          "Vila Moinho Velho",
          "Vila Monte Alegre",
          "Vila Monumento",
          "Vila Moraes",
          "Vila Moreira",
          "Vila Morse",
          "Vila Morumbi",
          "Vila Nair",
          "Vila Nancy",
          "Vila Natália",
          "Vila Neila",
          "Vila Nelson",
          "Vila Nhocune",
          "Vila Nilo",
          "Vila Nivi",
          "Vila Nova",
          "Vila Nova Alba",
          "Vila Nova Cachoeirinha",
          "Vila Nova Caledonia",
          "Vila Nova Caledônia",
          "Vila Nova Conceição",
          "Vila Nova Curuçá",
          "Vila Nova Manchester",
          "Vila Nova Mazzei",
          "Vila Nova Pauliceia",
          "Vila Nova Savoia",
          "Vila Olinda",
          "Vila Olímpia",
          "Vila Oratório",
          "Vila Paiva",
          "Vila Palmeiras",
          "Vila Paranaguá",
          "Vila Parque Jabaquara",
          "Vila Paulicéia",
          "Vila Paulista",
          "Vila Paulo Silas",
          "Vila Pedra Branca",
          "Vila Pedroso",
          "Vila Pereira Barreto",
          "Vila Perus",
          "Vila Piauí",
          "Vila Picinin",
          "Vila Pirajussara",
          "Vila Pirituba",
          "Vila Pita",
          "Vila Polopoli",
          "Vila Pompéia",
          "Vila Ponte Rasa",
          "Vila Prado",
          "Vila Primavera",
          "Vila Progredior",
          "Vila Prudente",
          "Vila Regente Feijó",
          "Vila Reis",
          "Vila Represa",
          "Vila Rica",
          "Vila Rio Branco",
          "Vila Romana",
          "Vila Romano",
          "Vila Romero",
          "Vila Rosa",
          "Vila Rosaria",
          "Vila Roseira II",
          "Vila Rui Barbosa",
          "Vila Ré",
          "Vila Sabrina",
          "Vila Salete",
          "Vila Santa Catarina",
          "Vila Santa Clara",
          "Vila Santa Edwiges",
          "Vila Santa Maria",
          "Vila Santa Teresa (Zona Leste)",
          "Vila Santa Teresa (Zona Sul)",
          "Vila Santa Terezinha (Zona Norte)",
          "Vila Santa Virginia",
          "Vila Santana",
          "Vila Santo Antônio",
          "Vila Santo Estevão",
          "Vila Santo Estéfano",
          "Vila Santos",
          "Vila Sao Paulo",
          "Vila Simone",
          "Vila Sofia",
          "Vila Sonia",
          "Vila Suzana",
          "Vila São Domingos",
          "Vila São Francisco",
          "Vila São Francisco (Zona Sul)",
          "Vila São Geraldo",
          "Vila São José",
          "Vila São José (Ipiranga)",
          "Vila São Paulo",
          "Vila São Pedro",
          "Vila São Silvestre",
          "Vila São Vicente",
          "Vila Sílvia",
          "Vila Sônia",
          "Vila Talarico",
          "Vila Tiradentes",
          "Vila Tolstoi",
          "Vila Tramontano",
          "Vila Uberabinha",
          "Vila Universitária",
          "Vila Vasconcelos",
          "Vila Vera",
          "Vila Virginia",
          "Vila Vitório Mazzei",
          "Vila Zelina",
          "Vila da Saúde",
          "Vila das Belezas",
          "Vila das Mercês",
          "Vila do Bosque",
          "Vila do Castelo",
          "Vila do Encontro",
          "Vila dos Remédios",
          "Vila Água Funda",
          "Água Branca",
          "Água Fria",
          "Água Funda",
          "Água Rasa"
         ],
         "xaxis": "x",
         "y": [
          7.656169464859427,
          5.849569010900351,
          7.60672808009667,
          5.691740133073471,
          11.26997997142662,
          1.7266187050359711,
          3.6,
          6.173434217972523,
          6.146308706231881,
          7.233548558995398,
          5.052631578947368,
          4.8904576286210215,
          9.712545621738744,
          4.457898362566901,
          4.252116402116402,
          6.303922409757788,
          3.5845588235294117,
          7.8938700963171575,
          12.343149200568865,
          7.264919084284394,
          6.376384384384385,
          2.4666666666666663,
          6.743329453932897,
          5.904606000649698,
          3.6453849832615974,
          7.176033638618857,
          5.324857142857143,
          2.4528301886792456,
          6.04978354978355,
          4.166666666666667,
          5.52,
          2.591623036649215,
          4.57516339869281,
          3.4576837107276237,
          5.05455525030525,
          6.139313071223833,
          8.823788083893216,
          3.1165051020408163,
          3.458463570127505,
          6.2435897435897445,
          10.754611214785392,
          7.303069194462542,
          8.271779165665786,
          3.1535812672176307,
          3.27426072707135,
          5.273537256682368,
          6.302877391258103,
          6.790553619821913,
          7.4832944828895265,
          4.999463490530608,
          4.266666666666667,
          9.664969135802469,
          2.825252525252525,
          5.575757575757576,
          3.333333333333333,
          3.6845586187691453,
          4.037977759305727,
          8.563837613419473,
          3.521111111111111,
          9.739803936276079,
          6.725169206447874,
          3.7475644758404534,
          7.627118644067797,
          2.553753943615407,
          4.862494830213741,
          3.0419715055833656,
          3.977110133097667,
          3.7631535131535125,
          1.7261538461538461,
          2.062074829931973,
          1.6666666666666667,
          5.537315778055481,
          4.505249250193499,
          3.39922480620155,
          5.569620253164557,
          4.875,
          9.808769255981646,
          5.272237663226463,
          5.007365777101103,
          2.7555555555555555,
          2.5843577448416157,
          5.813140199694467,
          5.393103448275863,
          7.428263265650797,
          8.333333333333334,
          1.1830357142857144,
          11.32491845482835,
          3.8381494865504466,
          4.6326754385964914,
          8.40404565146375,
          5.554909617695082,
          4.820411704270291,
          5.2545796655949415,
          6.14409653674294,
          14.235395958284364,
          2.9335579749091663,
          3.9747858977555484,
          4.442687747035573,
          3.373327826096376,
          5.097877799533974,
          2.6096618357487924,
          20.051041666666666,
          1.7416666666666667,
          24.088572449313826,
          5.49322675720336,
          8.500288961664419,
          4.365079365079366,
          6.927205016087781,
          3.969916666666667,
          2.625,
          9.352226720647774,
          5.209429824561404,
          2.1161290322580646,
          1.4945054945054945,
          4.164583333333334,
          3.631818181818182,
          5.681770487773403,
          4.035714285714286,
          5.987822988602255,
          4.718551238496995,
          1.055009107468124,
          6.725516996664538,
          3.1666666666666665,
          1.4504662004662006,
          7.532535969231199,
          11.578198356807512,
          3.672316384180791,
          3.3076923076923075,
          2.07667731629393,
          4.439156757936075,
          2.73972602739726,
          4.275300379632891,
          3.511326116175783,
          6.276923076923078,
          4.718034108968429,
          3.866013071895425,
          3.3286450662739324,
          5.093913259018036,
          5.625,
          3,
          3.83325052867589,
          8.096688608053165,
          2.6333333333333333,
          1.4784468508585504,
          9.398496240601503,
          3.446717348927875,
          3.0724637681159424,
          7.592592592592593,
          3.3677891345074302,
          1.888888888888889,
          2,
          5.259818768715081,
          4.568696023212152,
          4.241443488517207,
          4.610136452241715,
          19.96268787046938,
          7.515834864118561,
          6.285714285714286,
          1.3333333333333335,
          2.428571428571429,
          5.687208432872116,
          2.6375227686703098,
          2.4886201942337713,
          3.4011982739353925,
          4.054054054054054,
          4.736842105263158,
          3.747072599531616,
          4.4035947712418295,
          8.027996572316356,
          6.753846153846155,
          8.626678842309481,
          8.688095238095238,
          3.123596498011489,
          5.333333333333334,
          1.887323943661972,
          4.637647311913367,
          2.2,
          1.0545,
          5.158257009257254,
          1.48,
          2.6,
          3.5993494897959186,
          3.662769628990509,
          3.3684523809523808,
          2.4456521739130435,
          4.223156462585034,
          5.96,
          6.563875304869731,
          5.489250278349863,
          4.527585724728354,
          2,
          12.450592885375492,
          16.568759826142287,
          3.8133633633633632,
          2.3010651629072685,
          5.307346176354868,
          5.500000000000001,
          2.5460172374297723,
          3.7447577695382366,
          3.757719976924904,
          3.7977788242681108,
          2.333333333333333,
          3.5928428391810012,
          2.5,
          3.3,
          3.1009615384615383,
          4.215386072869452,
          1.44,
          5.021176330231448,
          6.1124809041459045,
          4.00976800976801,
          4.464285714285714,
          4.0902385378469726,
          6.140350877192983,
          1.4075091575091576,
          8.1684091504405,
          4.62979797979798,
          4.086493987049028,
          4.163020716999032,
          4.875,
          7.180259309334176,
          1.9206140350877192,
          11.073843660733903,
          6.0606060606060606,
          4,
          2.531355446185955,
          3.4247376431947445,
          16.087451844844402,
          14.995060915591557,
          3.458646616541354,
          5.10539249006586,
          7.278992636628644,
          7.142857142857142,
          8.627179992537336,
          5.267857142857142,
          6.0317460317460325,
          3,
          1.532846715328467,
          4.086538461538462,
          2.2407821229050278,
          4.205152258623178,
          5.122694932905283,
          3.125,
          1.6790123456790125,
          3.04,
          6.349206349206349,
          2.857142857142857,
          6.468782096077693,
          6.875000000000001,
          4.557583953121479,
          3.4729166666666664,
          5.308333333333334,
          4.916666666666666,
          3.255813953488372,
          1.357912457912458,
          3.9647533820393024,
          3.9651675485008826,
          6.228234286588174,
          2.6,
          2.8,
          4.104173973529375,
          3.503271537622682,
          1.6279069767441858,
          7.964865674266564,
          1.4076502732240437,
          4.01849516603615,
          4.6,
          5.403290322580645,
          3.4491935483870972,
          3.7216016410554147,
          1.8,
          5.03668283916168,
          5.708689867820676,
          3.3442374510238784,
          5.048216566161565,
          6,
          7.453453453453454,
          17.46556461749832,
          5.165201098065548,
          2.5076719576719575,
          4.711290322580645,
          2.9166666666666665,
          3.2860966081871346,
          7.720445956160241,
          3.1666666666666665,
          5.067812561917972,
          4.490033222591363,
          5.592740078043548,
          4.947772277227723,
          7.8349080509241285,
          0.5447553294573643,
          3,
          6.805555555555556,
          7.872978225779316,
          3.3821243523316062,
          3.574195079902627,
          8.565738315112743,
          4.032958512483167,
          4.0534375,
          8.464638311809844,
          7.153299611514345,
          3.145979020979021,
          6.2528242941192005,
          2.6367686283411835,
          5.726671145008481,
          8.885555555555555,
          11.482254552410621,
          1.9411764705882353,
          5.570303905390539,
          6.25,
          6.384489795918368,
          4.680921154009389,
          3.76890756302521,
          3.1666666666666665,
          5.3,
          3.5361111111111114,
          2.99,
          9.329484266415493,
          4.581005586592179,
          4.840909090909091,
          3.469298245614035,
          11.904143640624843,
          3.9751552795031055,
          7.24613597233552,
          5.1656880941770655,
          5.1067599229095215,
          5.120245700919663,
          5.132295034268719,
          2.2500000000000004,
          4.888866666666667,
          5.737812911725956,
          6.8870877730587745,
          12.076267819492656,
          5.41621507452183,
          11.749029107736142,
          6.255171664805064,
          3.8135593220338984,
          4.692073170731707,
          8.768361377666173,
          7.371760360912643,
          7.282803403493059,
          3.224926900584795,
          2.9964465647345384,
          10.980302392229788,
          5.5422762672147154,
          4.166666666666667,
          3.9410549081473762,
          2.6578687628161313,
          2.7065199593935225,
          6.816979243715358,
          4.926029833693006,
          2.5,
          3.6442608441665074,
          3.1159420289855073,
          2.67330073697084,
          3.7755,
          6.535023809523809,
          3.39731899641577,
          4.854869571665758,
          4.583296381148878,
          3.2666666666666666,
          1.5,
          3.4375000000000004,
          4.6938775510204085,
          5.430533926585094,
          2.9629629629629632,
          6.120401337792642,
          3.1666666666666665,
          2.5320570192634415,
          4.500000000000001,
          5.764367816091953,
          4.685714285714285,
          1.2,
          1.6666666666666665,
          2.6190476190476195,
          1.5062450922654103,
          3.6343498191408408,
          5.461206896551724,
          5.288604734750975,
          4.666666666666667,
          4.502309052198433,
          2.6213333333333333,
          5.912183676889559,
          5.0725903937819385,
          6.396218772516746,
          5.315063124767334,
          1.8333333333333335,
          8.333333333333334,
          3.5177865612648223,
          3,
          5.478767308905849,
          3.507589591362788,
          7.657139598333277,
          12.086703946801453,
          3.236607142857143,
          4.4259545923632615,
          6.447722579475103,
          8.254604344151224,
          4.629808917197452,
          2.456896551724138,
          8.243413516609392,
          5.161040005642108,
          3.057231478623855,
          5.1185303737006,
          5.911111111111111,
          10.86655343973863,
          2.214078431372549,
          3.4497778087905164,
          3.947368421052632,
          5.172111194627455,
          9.590968832279922,
          5.730019284305308,
          6.434347270693608,
          7.702385004348983,
          7.393656664227419,
          7.950892024036129,
          5.446592266138781,
          9.635748139373009,
          8.43060014563788,
          3.841138763197587,
          3.672222222222222,
          10.266793149851843,
          2.456896551724138,
          3.1971544715447155,
          0.07837837837837838,
          4.365079365079366,
          4.770833333333334,
          4.972210271985071,
          3.9222234862989493,
          4.978202387069732,
          4.6248669986700355,
          7.719362745098039,
          4.601977011494252,
          5.824999999999999,
          4.8533906718290085,
          5.4070070070070075,
          6.173136474231364,
          3.3889577567640554,
          2.504743457980868,
          5.2,
          4.545454545454546,
          4.944970340100089,
          5.938775724289714,
          6.867633615881624,
          5.791868533481438,
          4.026444902588798,
          4.766356531123799,
          4.444670345052506,
          2.8,
          3.6964285714285716,
          3.532405555555556,
          2.4,
          4.775650726392252,
          0.9065934065934066,
          2.4018603857313536,
          1.679268292682927,
          3.9136958640857826,
          3.6987594390507015,
          3.462853913082746,
          4.166666666666667,
          1.6921296296296298,
          4.361229681202236,
          9.121284153005464,
          5.3578742191029685,
          2.7285714285714286,
          3.8362795048934943,
          4.706407677288944,
          5.295807672796882,
          2.9850114043662432,
          5.601057311065722,
          3.1574263074263076,
          2.7961748633879777,
          3.134328358208955,
          4.84884873188727,
          4.161361986921798,
          3.3399014778325125,
          3.771809519483388,
          3.695652173913044,
          2.1838235294117645,
          1.9396551724137931,
          2.8282828282828287,
          4.444444444444445,
          3.9583333333333335,
          4.73758865248227,
          5.19983250856375,
          1.4035087719298245,
          1.6692379616643291,
          3.325,
          5.493939393939394,
          11.232395614741625,
          3.92,
          7.674042350402896,
          4.1673845586320635,
          5.2142857142857135,
          6.341253207903232,
          3.4210526315789473,
          4.698333333333333,
          3.4000000000000004,
          8.938718690856794,
          7.8921867252947715,
          2.94,
          4.091793388429752,
          3.526115859449193,
          2.2695823483057525,
          3.9,
          7.7023438186426745,
          3.13570269783092,
          5.739203430460666,
          2.1897810218978098,
          2.864705882352941,
          1.5178571428571428,
          4.134615384615384,
          4.8021332869630085,
          7.4381538461538454,
          3.5813432012170217,
          4.214285714285714,
          4.401494737209603,
          2.692307692307692,
          4.641471424677806,
          2.5,
          3.828,
          5.970478290835568,
          5.00317017403615,
          4.413586956521739,
          7.738839906271099,
          4.610195185634708,
          6.847552761820877,
          80,
          3.8663059092340424,
          4.397427476737822,
          4.717163271511097,
          3.8890360451193944,
          5.835311473058015,
          4.482597039717298,
          8.08096865168133,
          4.363636363636364,
          7.822443060546497,
          4.2890625,
          6.102078320467973,
          4.2,
          8.024836224655393,
          3.0292397660818713,
          3.1805860805860804,
          5.390625,
          6.402264869357667,
          3.416587194337194,
          4.538151818419675,
          5.857165404040404,
          2.909090909090909,
          2.4221743295019156,
          3.5136358591665435,
          3.4090909090909087,
          3.3636363636363638,
          1.7285464098073555,
          7.0588235294117645,
          5.738383060779096,
          2.5961538461538463,
          6.304347826086956,
          5.698108165797747,
          3.389836559869682,
          2.6550751879699246,
          3.8919082125603865,
          5.066236908262123,
          4.135750360750361,
          9.054395958167552,
          4.0907434776684175,
          4.410064598434851,
          2.746011396011396,
          4.841250476190477,
          7.913154806155142,
          4.694551247208348,
          5.060113519091847,
          4.717941579490233,
          5.097473665982888,
          3.0043932672131026,
          1.911764705882353,
          4.2625647451963244,
          4.503446000248912,
          6.9564599378386855,
          5.9193681805984975,
          3.9654831776495887,
          6.958828648122474,
          4.267099514677363,
          7.427968372074427,
          4.997300507518106,
          2.9545454545454546,
          5.170741369552915,
          3.279967159277504,
          1.5214285714285714,
          3.1139680320714804,
          3.1,
          4.663495430337363,
          2.333333333333333,
          3.2443009182181646,
          2.999652029457765,
          5.289617486338798,
          5.809351524076078,
          17.614033885540763,
          2.5811640929871356,
          3.542902784116842,
          3.2447986831046656,
          4.8,
          5.076923076923077,
          2.049848590729094,
          12.428420146305413,
          4.783796182485516,
          2.253968253968254,
          4.282484127538958,
          3.348956725146199,
          6.673330622571609,
          6.095584637964775,
          3.7738993631764406,
          3.078703703703704,
          4.0916819696660545,
          5.388888888888888,
          3.9993103448275855,
          3.866990472632169,
          5.166666666666667,
          2.5,
          2.877604166666667,
          4.187526354193021,
          2.840909090909091,
          5.964635156038594,
          8.252857254752584,
          4.444444444444445,
          5.889830508474576,
          6.078696741854637,
          7.242681108320831,
          4.750446889538807,
          4.385734256086725,
          4.848545454545454,
          7.073943661971831,
          3.64,
          5.8617948717948725,
          6.979469407459318,
          5.719648083844343,
          2.853212204096252,
          5.1000000000000005,
          3.3333333333333335,
          5.266666666666667,
          4.245726495726497,
          4.387820512820513,
          1.98,
          3.67816091954023,
          4.573423098027934,
          5.040165165165164,
          4.591397849462365,
          5.063377091377092,
          3.312796208530805,
          5.659574468085107,
          6.122222222222222,
          3.534977494373593,
          5.207592636599448,
          7.0197044334975365,
          5.434782608695652,
          4.983067167227121,
          4.057439605959343,
          5.661816045526893,
          2.2059286146400487,
          7.208333333333334,
          5.6602397368299195,
          4.809618853562686,
          3.3694581280788176,
          5.06291918175721,
          6.359272687647974,
          4.842424242424243,
          5.09090909090909,
          5.254271847776036,
          5.517908217449979,
          5.4305555555555545,
          5.655359824290475,
          4.093224565403248,
          3.016837002062588,
          6.0529882816076555,
          3.1007103098143562,
          3.8222591362126246,
          3.154166666666667,
          8.388410212518583,
          9.912121093128777,
          2.5529548239828617,
          3.666666666666667,
          3.152604073444243,
          4.3478260869565215,
          6.36,
          4.813671633368051,
          5.45614857241238,
          4.53125,
          4.643663117420881,
          4.390471029769592,
          2.847564794387979,
          4.267915766058171,
          4.546515151515151,
          4.467127995320215,
          7.269113912061975,
          5.841104427523171,
          3.8768627450980393,
          4.509608462721741
         ],
         "yaxis": "y"
        }
       ],
       "layout": {
        "legend": {
         "tracegroupgap": 0
        },
        "template": {
         "data": {
          "bar": [
           {
            "error_x": {
             "color": "#2a3f5f"
            },
            "error_y": {
             "color": "#2a3f5f"
            },
            "marker": {
             "line": {
              "color": "#E5ECF6",
              "width": 0.5
             },
             "pattern": {
              "fillmode": "overlay",
              "size": 10,
              "solidity": 0.2
             }
            },
            "type": "bar"
           }
          ],
          "barpolar": [
           {
            "marker": {
             "line": {
              "color": "#E5ECF6",
              "width": 0.5
             },
             "pattern": {
              "fillmode": "overlay",
              "size": 10,
              "solidity": 0.2
             }
            },
            "type": "barpolar"
           }
          ],
          "carpet": [
           {
            "aaxis": {
             "endlinecolor": "#2a3f5f",
             "gridcolor": "white",
             "linecolor": "white",
             "minorgridcolor": "white",
             "startlinecolor": "#2a3f5f"
            },
            "baxis": {
             "endlinecolor": "#2a3f5f",
             "gridcolor": "white",
             "linecolor": "white",
             "minorgridcolor": "white",
             "startlinecolor": "#2a3f5f"
            },
            "type": "carpet"
           }
          ],
          "choropleth": [
           {
            "colorbar": {
             "outlinewidth": 0,
             "ticks": ""
            },
            "type": "choropleth"
           }
          ],
          "contour": [
           {
            "colorbar": {
             "outlinewidth": 0,
             "ticks": ""
            },
            "colorscale": [
             [
              0,
              "#0d0887"
             ],
             [
              0.1111111111111111,
              "#46039f"
             ],
             [
              0.2222222222222222,
              "#7201a8"
             ],
             [
              0.3333333333333333,
              "#9c179e"
             ],
             [
              0.4444444444444444,
              "#bd3786"
             ],
             [
              0.5555555555555556,
              "#d8576b"
             ],
             [
              0.6666666666666666,
              "#ed7953"
             ],
             [
              0.7777777777777778,
              "#fb9f3a"
             ],
             [
              0.8888888888888888,
              "#fdca26"
             ],
             [
              1,
              "#f0f921"
             ]
            ],
            "type": "contour"
           }
          ],
          "contourcarpet": [
           {
            "colorbar": {
             "outlinewidth": 0,
             "ticks": ""
            },
            "type": "contourcarpet"
           }
          ],
          "heatmap": [
           {
            "colorbar": {
             "outlinewidth": 0,
             "ticks": ""
            },
            "colorscale": [
             [
              0,
              "#0d0887"
             ],
             [
              0.1111111111111111,
              "#46039f"
             ],
             [
              0.2222222222222222,
              "#7201a8"
             ],
             [
              0.3333333333333333,
              "#9c179e"
             ],
             [
              0.4444444444444444,
              "#bd3786"
             ],
             [
              0.5555555555555556,
              "#d8576b"
             ],
             [
              0.6666666666666666,
              "#ed7953"
             ],
             [
              0.7777777777777778,
              "#fb9f3a"
             ],
             [
              0.8888888888888888,
              "#fdca26"
             ],
             [
              1,
              "#f0f921"
             ]
            ],
            "type": "heatmap"
           }
          ],
          "heatmapgl": [
           {
            "colorbar": {
             "outlinewidth": 0,
             "ticks": ""
            },
            "colorscale": [
             [
              0,
              "#0d0887"
             ],
             [
              0.1111111111111111,
              "#46039f"
             ],
             [
              0.2222222222222222,
              "#7201a8"
             ],
             [
              0.3333333333333333,
              "#9c179e"
             ],
             [
              0.4444444444444444,
              "#bd3786"
             ],
             [
              0.5555555555555556,
              "#d8576b"
             ],
             [
              0.6666666666666666,
              "#ed7953"
             ],
             [
              0.7777777777777778,
              "#fb9f3a"
             ],
             [
              0.8888888888888888,
              "#fdca26"
             ],
             [
              1,
              "#f0f921"
             ]
            ],
            "type": "heatmapgl"
           }
          ],
          "histogram": [
           {
            "marker": {
             "pattern": {
              "fillmode": "overlay",
              "size": 10,
              "solidity": 0.2
             }
            },
            "type": "histogram"
           }
          ],
          "histogram2d": [
           {
            "colorbar": {
             "outlinewidth": 0,
             "ticks": ""
            },
            "colorscale": [
             [
              0,
              "#0d0887"
             ],
             [
              0.1111111111111111,
              "#46039f"
             ],
             [
              0.2222222222222222,
              "#7201a8"
             ],
             [
              0.3333333333333333,
              "#9c179e"
             ],
             [
              0.4444444444444444,
              "#bd3786"
             ],
             [
              0.5555555555555556,
              "#d8576b"
             ],
             [
              0.6666666666666666,
              "#ed7953"
             ],
             [
              0.7777777777777778,
              "#fb9f3a"
             ],
             [
              0.8888888888888888,
              "#fdca26"
             ],
             [
              1,
              "#f0f921"
             ]
            ],
            "type": "histogram2d"
           }
          ],
          "histogram2dcontour": [
           {
            "colorbar": {
             "outlinewidth": 0,
             "ticks": ""
            },
            "colorscale": [
             [
              0,
              "#0d0887"
             ],
             [
              0.1111111111111111,
              "#46039f"
             ],
             [
              0.2222222222222222,
              "#7201a8"
             ],
             [
              0.3333333333333333,
              "#9c179e"
             ],
             [
              0.4444444444444444,
              "#bd3786"
             ],
             [
              0.5555555555555556,
              "#d8576b"
             ],
             [
              0.6666666666666666,
              "#ed7953"
             ],
             [
              0.7777777777777778,
              "#fb9f3a"
             ],
             [
              0.8888888888888888,
              "#fdca26"
             ],
             [
              1,
              "#f0f921"
             ]
            ],
            "type": "histogram2dcontour"
           }
          ],
          "mesh3d": [
           {
            "colorbar": {
             "outlinewidth": 0,
             "ticks": ""
            },
            "type": "mesh3d"
           }
          ],
          "parcoords": [
           {
            "line": {
             "colorbar": {
              "outlinewidth": 0,
              "ticks": ""
             }
            },
            "type": "parcoords"
           }
          ],
          "pie": [
           {
            "automargin": true,
            "type": "pie"
           }
          ],
          "scatter": [
           {
            "fillpattern": {
             "fillmode": "overlay",
             "size": 10,
             "solidity": 0.2
            },
            "type": "scatter"
           }
          ],
          "scatter3d": [
           {
            "line": {
             "colorbar": {
              "outlinewidth": 0,
              "ticks": ""
             }
            },
            "marker": {
             "colorbar": {
              "outlinewidth": 0,
              "ticks": ""
             }
            },
            "type": "scatter3d"
           }
          ],
          "scattercarpet": [
           {
            "marker": {
             "colorbar": {
              "outlinewidth": 0,
              "ticks": ""
             }
            },
            "type": "scattercarpet"
           }
          ],
          "scattergeo": [
           {
            "marker": {
             "colorbar": {
              "outlinewidth": 0,
              "ticks": ""
             }
            },
            "type": "scattergeo"
           }
          ],
          "scattergl": [
           {
            "marker": {
             "colorbar": {
              "outlinewidth": 0,
              "ticks": ""
             }
            },
            "type": "scattergl"
           }
          ],
          "scattermapbox": [
           {
            "marker": {
             "colorbar": {
              "outlinewidth": 0,
              "ticks": ""
             }
            },
            "type": "scattermapbox"
           }
          ],
          "scatterpolar": [
           {
            "marker": {
             "colorbar": {
              "outlinewidth": 0,
              "ticks": ""
             }
            },
            "type": "scatterpolar"
           }
          ],
          "scatterpolargl": [
           {
            "marker": {
             "colorbar": {
              "outlinewidth": 0,
              "ticks": ""
             }
            },
            "type": "scatterpolargl"
           }
          ],
          "scatterternary": [
           {
            "marker": {
             "colorbar": {
              "outlinewidth": 0,
              "ticks": ""
             }
            },
            "type": "scatterternary"
           }
          ],
          "surface": [
           {
            "colorbar": {
             "outlinewidth": 0,
             "ticks": ""
            },
            "colorscale": [
             [
              0,
              "#0d0887"
             ],
             [
              0.1111111111111111,
              "#46039f"
             ],
             [
              0.2222222222222222,
              "#7201a8"
             ],
             [
              0.3333333333333333,
              "#9c179e"
             ],
             [
              0.4444444444444444,
              "#bd3786"
             ],
             [
              0.5555555555555556,
              "#d8576b"
             ],
             [
              0.6666666666666666,
              "#ed7953"
             ],
             [
              0.7777777777777778,
              "#fb9f3a"
             ],
             [
              0.8888888888888888,
              "#fdca26"
             ],
             [
              1,
              "#f0f921"
             ]
            ],
            "type": "surface"
           }
          ],
          "table": [
           {
            "cells": {
             "fill": {
              "color": "#EBF0F8"
             },
             "line": {
              "color": "white"
             }
            },
            "header": {
             "fill": {
              "color": "#C8D4E3"
             },
             "line": {
              "color": "white"
             }
            },
            "type": "table"
           }
          ]
         },
         "layout": {
          "annotationdefaults": {
           "arrowcolor": "#2a3f5f",
           "arrowhead": 0,
           "arrowwidth": 1
          },
          "autotypenumbers": "strict",
          "coloraxis": {
           "colorbar": {
            "outlinewidth": 0,
            "ticks": ""
           }
          },
          "colorscale": {
           "diverging": [
            [
             0,
             "#8e0152"
            ],
            [
             0.1,
             "#c51b7d"
            ],
            [
             0.2,
             "#de77ae"
            ],
            [
             0.3,
             "#f1b6da"
            ],
            [
             0.4,
             "#fde0ef"
            ],
            [
             0.5,
             "#f7f7f7"
            ],
            [
             0.6,
             "#e6f5d0"
            ],
            [
             0.7,
             "#b8e186"
            ],
            [
             0.8,
             "#7fbc41"
            ],
            [
             0.9,
             "#4d9221"
            ],
            [
             1,
             "#276419"
            ]
           ],
           "sequential": [
            [
             0,
             "#0d0887"
            ],
            [
             0.1111111111111111,
             "#46039f"
            ],
            [
             0.2222222222222222,
             "#7201a8"
            ],
            [
             0.3333333333333333,
             "#9c179e"
            ],
            [
             0.4444444444444444,
             "#bd3786"
            ],
            [
             0.5555555555555556,
             "#d8576b"
            ],
            [
             0.6666666666666666,
             "#ed7953"
            ],
            [
             0.7777777777777778,
             "#fb9f3a"
            ],
            [
             0.8888888888888888,
             "#fdca26"
            ],
            [
             1,
             "#f0f921"
            ]
           ],
           "sequentialminus": [
            [
             0,
             "#0d0887"
            ],
            [
             0.1111111111111111,
             "#46039f"
            ],
            [
             0.2222222222222222,
             "#7201a8"
            ],
            [
             0.3333333333333333,
             "#9c179e"
            ],
            [
             0.4444444444444444,
             "#bd3786"
            ],
            [
             0.5555555555555556,
             "#d8576b"
            ],
            [
             0.6666666666666666,
             "#ed7953"
            ],
            [
             0.7777777777777778,
             "#fb9f3a"
            ],
            [
             0.8888888888888888,
             "#fdca26"
            ],
            [
             1,
             "#f0f921"
            ]
           ]
          },
          "colorway": [
           "#636efa",
           "#EF553B",
           "#00cc96",
           "#ab63fa",
           "#FFA15A",
           "#19d3f3",
           "#FF6692",
           "#B6E880",
           "#FF97FF",
           "#FECB52"
          ],
          "font": {
           "color": "#2a3f5f"
          },
          "geo": {
           "bgcolor": "white",
           "lakecolor": "white",
           "landcolor": "#E5ECF6",
           "showlakes": true,
           "showland": true,
           "subunitcolor": "white"
          },
          "hoverlabel": {
           "align": "left"
          },
          "hovermode": "closest",
          "mapbox": {
           "style": "light"
          },
          "paper_bgcolor": "white",
          "plot_bgcolor": "#E5ECF6",
          "polar": {
           "angularaxis": {
            "gridcolor": "white",
            "linecolor": "white",
            "ticks": ""
           },
           "bgcolor": "#E5ECF6",
           "radialaxis": {
            "gridcolor": "white",
            "linecolor": "white",
            "ticks": ""
           }
          },
          "scene": {
           "xaxis": {
            "backgroundcolor": "#E5ECF6",
            "gridcolor": "white",
            "gridwidth": 2,
            "linecolor": "white",
            "showbackground": true,
            "ticks": "",
            "zerolinecolor": "white"
           },
           "yaxis": {
            "backgroundcolor": "#E5ECF6",
            "gridcolor": "white",
            "gridwidth": 2,
            "linecolor": "white",
            "showbackground": true,
            "ticks": "",
            "zerolinecolor": "white"
           },
           "zaxis": {
            "backgroundcolor": "#E5ECF6",
            "gridcolor": "white",
            "gridwidth": 2,
            "linecolor": "white",
            "showbackground": true,
            "ticks": "",
            "zerolinecolor": "white"
           }
          },
          "shapedefaults": {
           "line": {
            "color": "#2a3f5f"
           }
          },
          "ternary": {
           "aaxis": {
            "gridcolor": "white",
            "linecolor": "white",
            "ticks": ""
           },
           "baxis": {
            "gridcolor": "white",
            "linecolor": "white",
            "ticks": ""
           },
           "bgcolor": "#E5ECF6",
           "caxis": {
            "gridcolor": "white",
            "linecolor": "white",
            "ticks": ""
           }
          },
          "title": {
           "x": 0.05
          },
          "xaxis": {
           "automargin": true,
           "gridcolor": "white",
           "linecolor": "white",
           "ticks": "",
           "title": {
            "standoff": 15
           },
           "zerolinecolor": "white",
           "zerolinewidth": 2
          },
          "yaxis": {
           "automargin": true,
           "gridcolor": "white",
           "linecolor": "white",
           "ticks": "",
           "title": {
            "standoff": 15
           },
           "zerolinecolor": "white",
           "zerolinewidth": 2
          }
         }
        },
        "title": {
         "text": "Price per square foot by district"
        },
        "xaxis": {
         "anchor": "y",
         "domain": [
          0,
          1
         ],
         "title": {
          "text": "District"
         }
        },
        "yaxis": {
         "anchor": "x",
         "domain": [
          0,
          1
         ],
         "title": {
          "text": "Price/m2"
         }
        }
       }
      },
      "text/html": [
       "<div>                            <div id=\"f3cbf074-0698-4915-9181-895223e77004\" class=\"plotly-graph-div\" style=\"height:525px; width:100%;\"></div>            <script type=\"text/javascript\">                require([\"plotly\"], function(Plotly) {                    window.PLOTLYENV=window.PLOTLYENV || {};                                    if (document.getElementById(\"f3cbf074-0698-4915-9181-895223e77004\")) {                    Plotly.newPlot(                        \"f3cbf074-0698-4915-9181-895223e77004\",                        [{\"hovertemplate\":\"District=%{x}<br>Price/m2=%{y}<extra></extra>\",\"legendgroup\":\"\",\"line\":{\"color\":\"#636efa\",\"dash\":\"solid\"},\"marker\":{\"symbol\":\"circle\"},\"mode\":\"lines\",\"name\":\"\",\"orientation\":\"v\",\"showlegend\":false,\"x\":[\"Aclima\\u00e7\\u00e3o\",\"Alto da Boa Vista\",\"Alto da Lapa\",\"Alto da Mooca\",\"Alto de Pinheiros\",\"Aricanduva\",\"Balne\\u00e1rio Mar Paulista\",\"Barra Funda\",\"Barro Branco (Zona Norte)\",\"Bela Alian\\u00e7a\",\"Bela Vista\",\"Belenzinho\",\"Boa\\u00e7ava\",\"Bom Retiro\",\"Bortol\\u00e2ndia\",\"Bosque da Sa\\u00fade\",\"Brasil\\u00e2ndia\",\"Brooklin\",\"Brooklin Novo\",\"Brooklin Paulista\",\"Br\\u00e1s\",\"Burgo Paulista\",\"Butant\\u00e3\",\"Cambuci\",\"Campininha\",\"Campo Belo\",\"Campo Grande\",\"Campos El\\u00edseos\",\"Canind\\u00e9\",\"Capela do Socorro\",\"Cap\\u00e3o Redondo\",\"Carandiru\",\"Casa Verde\",\"Casa Verde Alta\",\"Catumbi\",\"Caxingui\",\"Cerqueira C\\u00e9sar\",\"Chora Menino\",\"Ch\\u00e1cara Belenzinho\",\"Ch\\u00e1cara Calif\\u00f3rnia\",\"Ch\\u00e1cara Flora\",\"Ch\\u00e1cara Inglesa\",\"Ch\\u00e1cara Japonesa\",\"Ch\\u00e1cara Jaragu\\u00e1\",\"Ch\\u00e1cara Mafalda\",\"Ch\\u00e1cara Meyer\",\"Ch\\u00e1cara Monte Alegre\",\"Ch\\u00e1cara Santo Ant\\u00f4nio (Zona Leste)\",\"Ch\\u00e1cara Santo Ant\\u00f4nio (Zona Sul)\",\"Ch\\u00e1cara Seis de Outubro\",\"Ch\\u00e1cara Tatuap\\u00e9\",\"Ch\\u00e1cara das Paineiras\",\"Cidade Ademar\",\"Cidade Ant\\u00f4nio Estev\\u00e3o de Carvalho\",\"Cidade Centen\\u00e1rio\",\"Cidade Domitila\",\"Cidade Dutra\",\"Cidade Jardim\",\"Cidade L\\u00edder\",\"Cidade Mon\\u00e7\\u00f5es\",\"Cidade M\\u00e3e do C\\u00e9u\",\"Cidade Patriarca\",\"Cidade S\\u00e3o Francisco\",\"Cidade S\\u00e3o Mateus\",\"Cidade Vargas\",\"Cidade dos Bandeirantes\",\"City Am\\u00e9rica\",\"Conjunto Habitacional Barreira Grande\",\"Conjunto Habitacional Castro Alves\",\"Conjunto Promorar Raposo Tavares\",\"Conjunto Residencial Bandeirantes\",\"Conjunto Residencial Butant\\u00e3\",\"Conjunto Residencial Jardim Cana\\u00e3\",\"Conjunto Residencial Jos\\u00e9 Bonif\\u00e1cio\",\"Conjunto Residencial Morada do Sol\",\"Conjunto Residencial Vista Verde\",\"Consola\\u00e7\\u00e3o\",\"Cupec\\u00ea\",\"Cursino\",\"Educand\\u00e1rio\",\"Engenheiro Goulart\",\"Fazenda Morumbi\",\"Ferreira\",\"Granja Julieta\",\"Guaianases\",\"Guaianazes\",\"Higien\\u00f3polis\",\"Horto Florestal\",\"Imirim\",\"Indian\\u00f3polis\",\"Instituto de Previd\\u00eancia\",\"Interlagos\",\"Ipiranga\",\"Itaberaba\",\"Itaim Bibi\",\"Itaquera\",\"Jabaquara\",\"Jaguar\\u00e9\",\"Jaragu\\u00e1\",\"Jardim Aeroporto\",\"Jardim Alvorada (Zona Oeste)\",\"Jardim Amplia\\u00e7\\u00e3o\",\"Jardim Am\\u00e1lia\",\"Jardim Am\\u00e9rica\",\"Jardim Ana Maria\",\"Jardim Analia Franco\",\"Jardim Anhanguera\",\"Jardim An\\u00e1lia Franco\",\"Jardim Aricanduva\",\"Jardim Arize\",\"Jardim Aur\\u00e9lia\",\"Jardim Avelino\",\"Jardim Avenida\",\"Jardim Bandeirantes (Zona Norte)\",\"Jardim Benfica\",\"Jardim Boa Vista (Zona Oeste)\",\"Jardim Bonfiglioli\",\"Jardim Botucatu\",\"Jardim Brasil (Zona Norte)\",\"Jardim Brasil (Zona Sul)\",\"Jardim Bras\\u00edlia (Zona Leste)\",\"Jardim B\\u00e9lgica\",\"Jardim Camargo Novo\",\"Jardim Cambara\",\"Jardim Campo Grande\",\"Jardim Caravelas\",\"Jardim Carlu\",\"Jardim Casablanca\",\"Jardim Castelo\",\"Jardim Catanduva\",\"Jardim Catarina\",\"Jardim Celeste\",\"Jardim Cidade Pirituba\",\"Jardim Cidalia\",\"Jardim Cid\\u00e1lia\",\"Jardim Cl\\u00e1udia\",\"Jardim Coimbra\",\"Jardim Colombo\",\"Jardim Colonial\",\"Jardim Colorado\",\"Jardim Cons\\u00f3rcio\",\"Jardim Cordeiro\",\"Jardim Cotiana\",\"Jardim Cristal\",\"Jardim C\\u00e9lia (Zona Sul)\",\"Jardim D'Abril\",\"Jardim Danfer\",\"Jardim Dom Bosco\",\"Jardim Dracena\",\"Jardim Egle\",\"Jardim Eliana\",\"Jardim Ernestina\",\"Jardim Esmeralda\",\"Jardim Ester\",\"Jardim Ester Yolanda\",\"Jardim Europa\",\"Jardim Everest\",\"Jardim Felicidade (Zona Oeste)\",\"Jardim Fernandes\",\"Jardim Floresta\",\"Jardim Franca\",\"Jardim Germ\\u00e2nia\",\"Jardim Gonzaga\",\"Jardim Guairaca\",\"Jardim Guanca\",\"Jardim Guapira\",\"Jardim Guarapiranga\",\"Jardim Guarau\",\"Jardim Guedala\",\"Jardim Heliomar\",\"Jardim H\\u00edpico\",\"Jardim Ibitirama\",\"Jardim Imperador (Zona Leste)\",\"Jardim Independ\\u00eancia\",\"Jardim Ipanema (Zona Oeste)\",\"Jardim Ipanema (Zona Sul)\",\"Jardim Itacolomi\",\"Jardim Itapemirim\",\"Jardim Itapeva\",\"Jardim Iva\",\"Jardim Ivana\",\"Jardim Jabaquara\",\"Jardim Jap\\u00e3o\",\"Jardim Jaragu\\u00e1\",\"Jardim Ja\\u00fa (Zona Leste)\",\"Jardim Jussara\",\"Jardim Leila\",\"Jardim Leonor\",\"Jardim Leonor Mendes de Barros\",\"Jardim Londrina\",\"Jardim Lourdes\",\"Jardim Luanda\",\"Jardim Luzit\\u00e2nia\",\"Jardim Mangalot\",\"Jardim Maracan\\u00e3\",\"Jardim Marajoara\",\"Jardim Maria Augusta\",\"Jardim Maria Duarte\",\"Jardim Maria Estela\",\"Jardim Maria Luiza\",\"Jardim Maring\\u00e1\",\"Jardim Mar\\u00edlia\",\"Jardim Miriam\",\"Jardim Modelo\",\"Jardim Monte Alegre\",\"Jardim Monte Azul\",\"Jardim Monte Kemel\",\"Jardim Morais Prado\",\"Jardim Morro Verde\",\"Jardim Morumbi\",\"Jardim Nice\",\"Jardim Niteroi\",\"Jardim Nossa Senhora do Carmo\",\"Jardim Nova Germania\",\"Jardim Nove de Julho\",\"Jardim Novo Mundo\",\"Jardim Odete\",\"Jardim Olympia\",\"Jardim Oriental\",\"Jardim Palmares (Zona Sul)\",\"Jardim Panorama\",\"Jardim Panorama (Zona Leste)\",\"Jardim Panorama D'Oeste\",\"Jardim Para\\u00edso\",\"Jardim Parque Morumbi\",\"Jardim Patente\",\"Jardim Patente Novo\",\"Jardim Paulista\",\"Jardim Paulistano\",\"Jardim Penha\",\"Jardim Peri\",\"Jardim Peri Peri\",\"Jardim Petropolis\",\"Jardim Petr\\u00f3polis\",\"Jardim Pinheiros\",\"Jardim Pirituba\",\"Jardim Planalto\",\"Jardim Ponte Rasa\",\"Jardim Popular\",\"Jardim Primavera (Zona Sul)\",\"Jardim Promiss\\u00e3o\",\"Jardim Prud\\u00eancia\",\"Jardim Raposo Tavares\",\"Jardim Record\",\"Jardim Reimberg\",\"Jardim Rinc\\u00e3o\",\"Jardim Rio Pequeno\",\"Jardim Riviera\",\"Jardim Rizzo\",\"Jardim Rosa Maria\",\"Jardim Sabar\\u00e1\",\"Jardim Santa Ad\\u00e9lia\",\"Jardim Santa Cruz (Campo Grande)\",\"Jardim Santa Cruz (Sacom\\u00e3)\",\"Jardim Santa F\\u00e9 (Zona Sul)\",\"Jardim Santa Helena\",\"Jardim Santa Maria\",\"Jardim Santo Amaro\",\"Jardim Santo Ant\\u00f4nio\",\"Jardim Santo Elias\",\"Jardim Sarah\",\"Jardim Sat\\u00e9lite\",\"Jardim Sul S\\u00e3o Paulo\",\"Jardim S\\u00e3o Bento\",\"Jardim S\\u00e3o Carlos (Zona Leste)\",\"Jardim S\\u00e3o Carlos (Zona Sul)\",\"Jardim S\\u00e3o Jorge\",\"Jardim S\\u00e3o Jorge (Raposo Tavares)\",\"Jardim S\\u00e3o Jos\\u00e9\",\"Jardim S\\u00e3o Lu\\u00eds\",\"Jardim S\\u00e3o Nicolau\",\"Jardim S\\u00e3o Paulo(Zona Norte)\",\"Jardim S\\u00edlvia (Zona Oeste)\",\"Jardim Taboao\",\"Jardim Tabo\\u00e3o\",\"Jardim Taquaral\",\"Jardim Tenani\",\"Jardim Teresa\",\"Jardim Textil\",\"Jardim Tiet\\u00ea\",\"Jardim Tremembe\",\"Jardim Trememb\\u00e9\",\"Jardim Triana\",\"Jardim Trussardi\",\"Jardim Tr\\u00eas Marias\",\"Jardim Ubirajara\",\"Jardim Umarizal\",\"Jardim Umuarama\",\"Jardim Vaz de Lima\",\"Jardim Vera Cruz\",\"Jardim Vera Cruz(Zona Leste)\",\"Jardim Vergueiro\",\"Jardim Vergueiro (Sacom\\u00e3)\",\"Jardim Viana\",\"Jardim Vila Carr\\u00e3o\",\"Jardim Vila Formosa\",\"Jardim Vila Mariana\",\"Jardim Virginia Bianca\",\"Jardim Vista Linda\",\"Jardim Vitoria Regia\",\"Jardim Vit\\u00f3ria R\\u00e9gia\",\"Jardim Vivan\",\"Jardim da Gl\\u00f3ria\",\"Jardim da Pedreira\",\"Jardim da Sa\\u00fade\",\"Jardim das Ac\\u00e1cias\",\"Jardim das Bandeiras\",\"Jardim das Cam\\u00e9lias\",\"Jardim das Carmelitas\",\"Jardim das Imbuias\",\"Jardim das Laranjeiras\",\"Jardim das Vertentes\",\"Jardim de Lorenzo\",\"Jardim do Campo\",\"Jardim do Carmo\",\"Jardim do Col\\u00e9gio (Zona Norte)\",\"Jardim dos Cataldis\",\"Jardim dos Estados\",\"Jardim dos Pinheiros\",\"Jardim dos Prados\",\"Jardim \\u00cdris\",\"Jardins\",\"Jurubatuba\",\"Lapa\",\"Lapa de Baixo\",\"Lar S\\u00e3o Paulo\",\"Lauzane Paulista\",\"Liberdade\",\"Limoeiro\",\"Mandaqui\",\"Maranh\\u00e3o\",\"Mirand\\u00f3polis\",\"Moema\",\"Mooca\",\"Morro dos Ingleses\",\"Morumbi\",\"Nossa Senhora do \\u00d3\",\"Nova Piraju\",\"Pacaembu\",\"Paineiras do Morumbi\",\"Parada Inglesa\",\"Parada XV de Novembro\",\"Parais\\u00f3polis\",\"Para\\u00edso\",\"Para\\u00edso do Morumbi\",\"Pari\",\"Parque Alves de Lima\",\"Parque Boturussu\",\"Parque Casa de Pedra\",\"Parque Colonial\",\"Parque Continental\",\"Parque C\\u00edS\\u00e3o Pauloer\",\"Parque Edu Chaves\",\"Parque Fernanda\",\"Parque Fongaro\",\"Parque Guarani\",\"Parque Imperial\",\"Parque Ip\\u00ea\",\"Parque Jabaquara\",\"Parque Mandaqui\",\"Parque Maria Domitila\",\"Parque Maria Fernandes\",\"Parque Maria Helena\",\"Parque Monteiro Soares\",\"Parque Munhoz\",\"Parque Na\\u00e7\\u00f5es Unidas\",\"Parque Novo Mundo\",\"Parque Peruche\",\"Parque Ramos Freitas\",\"Parque Regina\",\"Parque Residencial Julia\",\"Parque Residencial Oratorio\",\"Parque Santa Cec\\u00edlia\",\"Parque Santa Madalena\",\"Parque Santa Rita\",\"Parque Santo Ant\\u00f4nio (Aricanduva)\",\"Parque Savoy City\",\"Parque Sevilha\",\"Parque S\\u00e3o Domingos\",\"Parque S\\u00e3o Jorge\",\"Parque S\\u00e3o Lucas\",\"Parque S\\u00e3o Rafael\",\"Parque Vit\\u00f3ria\",\"Parque da Lapa\",\"Parque da Mooca\",\"Parque da Vila Prudente\",\"Parque das Paineiras\",\"Parque das \\u00c1rvores\",\"Parque do Castelo\",\"Parque do Terceiro Lago\",\"Parque dos Pr\\u00edncipes\",\"Penha de Fran\\u00e7a\",\"Perdizes\",\"Pinheiros\",\"Piqueri\",\"Pirituba\",\"Planalto Paulista\",\"Pompeia\",\"Praia Azul\",\"Praia Paulistinha\",\"Praia da Lagoa\",\"Quarta Parada\",\"Quinta da Paineira\",\"Real Parque\",\"Recanto dos Sonhos\",\"Retiro Morumbi\",\"Rio Bonito\",\"Rio Pequeno\",\"Rolin\\u00f3polis\",\"Sacom\\u00e3\",\"Santa Cec\\u00edlia\",\"Santa Teresinha\",\"Santana\",\"Santo Amaro\",\"Sa\\u00fade\",\"Siciliano\",\"Socorro\",\"Sumarezinho\",\"Sumar\\u00e9\",\"Super Quadra Morumbi\",\"S\\u00e3o Jo\\u00e3o Cl\\u00edmaco\",\"S\\u00e3o Judas\",\"S\\u00e3o Lucas\",\"S\\u00e3o Miguel Paulista\",\"S\\u00edtio Represa\",\"S\\u00edtio da Figueira\",\"S\\u00edtio do Mandaqui\",\"Tatuap\\u00e9\",\"Terceira Divis\\u00e3o de Interlagos\",\"Trememb\\u00e9\",\"Tucuruvi\",\"Veleiros\",\"Vila Adalgisa\",\"Vila Agueda\",\"Vila Albertina\",\"Vila Alexandria\",\"Vila Almeida\",\"Vila Alpina\",\"Vila Am\\u00e9lia\",\"Vila Am\\u00e9rica\",\"Vila Analia\",\"Vila Anast\\u00e1cio\",\"Vila Andrade\",\"Vila Anglo Brasileira\",\"Vila Anhang\\u00fcera\",\"Vila Antonieta\",\"Vila Antonina\",\"Vila Ant\\u00f4nio\",\"Vila Ant\\u00f4nio dos Santos\",\"Vila Aparecida\",\"Vila Araguaia\",\"Vila Aricanduva\",\"Vila Arriete\",\"Vila Aurea\",\"Vila Aurora (Zona Norte)\",\"Vila Ayrosa\",\"Vila Babil\\u00f4nia\",\"Vila Baby\",\"Vila Banc\\u00e1ria Munhoz\",\"Vila Bandeirantes\",\"Vila Barbosa\",\"Vila Bela\",\"Vila Bela Alian\\u00e7a\",\"Vila Bertioga\",\"Vila Boa\\u00e7ava\",\"Vila Bonilha Nova\",\"Vila Brasilina\",\"Vila Bras\\u00edlio Machado\",\"Vila Buenos Aires\",\"Vila Butant\\u00e3\",\"Vila Calif\\u00f3rnia\",\"Vila Calif\\u00f3rnia(Zona Sul)\",\"Vila Campanela\",\"Vila Campestre\",\"Vila Campo Grande\",\"Vila Canero\",\"Vila Caraguat\\u00e1\",\"Vila Carbone\",\"Vila Cardoso Franco\",\"Vila Carioca\",\"Vila Carlos de Campos\",\"Vila Carmosina\",\"Vila Carolina\",\"Vila Carrao\",\"Vila Carr\\u00e3o\",\"Vila Castelo\",\"Vila Celeste\",\"Vila Clara\",\"Vila Clarice\",\"Vila Clementino\",\"Vila Cleonice\",\"Vila Cl\\u00e1udia\",\"Vila Comercial\",\"Vila Conde do Pinhal\",\"Vila Congonhas\",\"Vila Constancia\",\"Vila Constan\\u00e7a\",\"Vila Corberi\",\"Vila Cordeiro\",\"Vila Cruzeiro\",\"Vila Cunha Bueno\",\"Vila Curu\\u00e7\\u00e1\",\"Vila Dalila\",\"Vila Dalva\",\"Vila Darli\",\"Vila Deodoro\",\"Vila Diva (Zona Leste)\",\"Vila Dom Pedro I\",\"Vila Dom Pedro II\",\"Vila Domitila\",\"Vila Dorna\",\"Vila Duarte\",\"Vila ES\\u00e3o Pauloeran\\u00e7a\",\"Vila Elvira\",\"Vila Ema\",\"Vila Emir\",\"Vila Ester (Zona Norte)\",\"Vila Euthalia\",\"Vila Fachini\",\"Vila Fernandes\",\"Vila Fiat Lux\",\"Vila Firmiano Pinto\",\"Vila Formosa\",\"Vila Gea\",\"Vila Gertrudes\",\"Vila Gomes\",\"Vila Gomes Cardim\",\"Vila Guaca\",\"Vila Guarani (Z Sul)\",\"Vila Guedes\",\"Vila Guilherme\",\"Vila Guilhermina\",\"Vila Gumercindo\",\"Vila Gustavo\",\"Vila Hamburguesa\",\"Vila Hebe\",\"Vila Ida\",\"Vila Imp\\u00e9rio\",\"Vila Inah\",\"Vila Independ\\u00eancia\",\"Vila Indiana\",\"Vila Industrial\",\"Vila Inglesa\",\"Vila Invernada\",\"Vila Ipojuca\",\"Vila Irm\\u00e3os Arnoni\",\"Vila Isa\",\"Vila Isolina Mazzei\",\"Vila Ivg\",\"Vila Ivone\",\"Vila Jacu\\u00ed\",\"Vila Jaguara\",\"Vila Joaniza\",\"Vila Jo\\u00e3o Batista\",\"Vila Jurema\",\"Vila Lageado\",\"Vila La\\u00eds\",\"Vila Leonor\",\"Vila Leopoldina\",\"Vila Libanesa\",\"Vila Liviero\",\"Vila Londrina\",\"Vila L\\u00facia\",\"Vila Maced\\u00f3polis\",\"Vila Madalena\",\"Vila Mafra\",\"Vila Marari\",\"Vila Maria Alta\",\"Vila Maria Baixa\",\"Vila Mariana\",\"Vila Marieta\",\"Vila Mascote\",\"Vila Matilde\",\"Vila Mazzei\",\"Vila Medeiros\",\"Vila Minerva\",\"Vila Mira\",\"Vila Moinho Velho\",\"Vila Monte Alegre\",\"Vila Monumento\",\"Vila Moraes\",\"Vila Moreira\",\"Vila Morse\",\"Vila Morumbi\",\"Vila Nair\",\"Vila Nancy\",\"Vila Nat\\u00e1lia\",\"Vila Neila\",\"Vila Nelson\",\"Vila Nhocune\",\"Vila Nilo\",\"Vila Nivi\",\"Vila Nova\",\"Vila Nova Alba\",\"Vila Nova Cachoeirinha\",\"Vila Nova Caledonia\",\"Vila Nova Caled\\u00f4nia\",\"Vila Nova Concei\\u00e7\\u00e3o\",\"Vila Nova Curu\\u00e7\\u00e1\",\"Vila Nova Manchester\",\"Vila Nova Mazzei\",\"Vila Nova Pauliceia\",\"Vila Nova Savoia\",\"Vila Olinda\",\"Vila Ol\\u00edmpia\",\"Vila Orat\\u00f3rio\",\"Vila Paiva\",\"Vila Palmeiras\",\"Vila Paranagu\\u00e1\",\"Vila Parque Jabaquara\",\"Vila Paulic\\u00e9ia\",\"Vila Paulista\",\"Vila Paulo Silas\",\"Vila Pedra Branca\",\"Vila Pedroso\",\"Vila Pereira Barreto\",\"Vila Perus\",\"Vila Piau\\u00ed\",\"Vila Picinin\",\"Vila Pirajussara\",\"Vila Pirituba\",\"Vila Pita\",\"Vila Polopoli\",\"Vila Pomp\\u00e9ia\",\"Vila Ponte Rasa\",\"Vila Prado\",\"Vila Primavera\",\"Vila Progredior\",\"Vila Prudente\",\"Vila Regente Feij\\u00f3\",\"Vila Reis\",\"Vila Represa\",\"Vila Rica\",\"Vila Rio Branco\",\"Vila Romana\",\"Vila Romano\",\"Vila Romero\",\"Vila Rosa\",\"Vila Rosaria\",\"Vila Roseira II\",\"Vila Rui Barbosa\",\"Vila R\\u00e9\",\"Vila Sabrina\",\"Vila Salete\",\"Vila Santa Catarina\",\"Vila Santa Clara\",\"Vila Santa Edwiges\",\"Vila Santa Maria\",\"Vila Santa Teresa (Zona Leste)\",\"Vila Santa Teresa (Zona Sul)\",\"Vila Santa Terezinha (Zona Norte)\",\"Vila Santa Virginia\",\"Vila Santana\",\"Vila Santo Ant\\u00f4nio\",\"Vila Santo Estev\\u00e3o\",\"Vila Santo Est\\u00e9fano\",\"Vila Santos\",\"Vila Sao Paulo\",\"Vila Simone\",\"Vila Sofia\",\"Vila Sonia\",\"Vila Suzana\",\"Vila S\\u00e3o Domingos\",\"Vila S\\u00e3o Francisco\",\"Vila S\\u00e3o Francisco (Zona Sul)\",\"Vila S\\u00e3o Geraldo\",\"Vila S\\u00e3o Jos\\u00e9\",\"Vila S\\u00e3o Jos\\u00e9 (Ipiranga)\",\"Vila S\\u00e3o Paulo\",\"Vila S\\u00e3o Pedro\",\"Vila S\\u00e3o Silvestre\",\"Vila S\\u00e3o Vicente\",\"Vila S\\u00edlvia\",\"Vila S\\u00f4nia\",\"Vila Talarico\",\"Vila Tiradentes\",\"Vila Tolstoi\",\"Vila Tramontano\",\"Vila Uberabinha\",\"Vila Universit\\u00e1ria\",\"Vila Vasconcelos\",\"Vila Vera\",\"Vila Virginia\",\"Vila Vit\\u00f3rio Mazzei\",\"Vila Zelina\",\"Vila da Sa\\u00fade\",\"Vila das Belezas\",\"Vila das Merc\\u00eas\",\"Vila do Bosque\",\"Vila do Castelo\",\"Vila do Encontro\",\"Vila dos Rem\\u00e9dios\",\"Vila \\u00c1gua Funda\",\"\\u00c1gua Branca\",\"\\u00c1gua Fria\",\"\\u00c1gua Funda\",\"\\u00c1gua Rasa\"],\"xaxis\":\"x\",\"y\":[7.656169464859427,5.849569010900351,7.60672808009667,5.691740133073471,11.26997997142662,1.7266187050359711,3.6,6.173434217972523,6.146308706231881,7.233548558995398,5.052631578947368,4.8904576286210215,9.712545621738744,4.457898362566901,4.252116402116402,6.303922409757788,3.5845588235294117,7.8938700963171575,12.343149200568865,7.264919084284394,6.376384384384385,2.4666666666666663,6.743329453932897,5.904606000649698,3.6453849832615974,7.176033638618857,5.324857142857143,2.4528301886792456,6.04978354978355,4.166666666666667,5.52,2.591623036649215,4.57516339869281,3.4576837107276237,5.05455525030525,6.139313071223833,8.823788083893216,3.1165051020408163,3.458463570127505,6.2435897435897445,10.754611214785392,7.303069194462542,8.271779165665786,3.1535812672176307,3.27426072707135,5.273537256682368,6.302877391258103,6.790553619821913,7.4832944828895265,4.999463490530608,4.266666666666667,9.664969135802469,2.825252525252525,5.575757575757576,3.333333333333333,3.6845586187691453,4.037977759305727,8.563837613419473,3.521111111111111,9.739803936276079,6.725169206447874,3.7475644758404534,7.627118644067797,2.553753943615407,4.862494830213741,3.0419715055833656,3.977110133097667,3.7631535131535125,1.7261538461538461,2.062074829931973,1.6666666666666667,5.537315778055481,4.505249250193499,3.39922480620155,5.569620253164557,4.875,9.808769255981646,5.272237663226463,5.007365777101103,2.7555555555555555,2.5843577448416157,5.813140199694467,5.393103448275863,7.428263265650797,8.333333333333334,1.1830357142857144,11.32491845482835,3.8381494865504466,4.6326754385964914,8.40404565146375,5.554909617695082,4.820411704270291,5.2545796655949415,6.14409653674294,14.235395958284364,2.9335579749091663,3.9747858977555484,4.442687747035573,3.373327826096376,5.097877799533974,2.6096618357487924,20.051041666666666,1.7416666666666667,24.088572449313826,5.49322675720336,8.500288961664419,4.365079365079366,6.927205016087781,3.969916666666667,2.625,9.352226720647774,5.209429824561404,2.1161290322580646,1.4945054945054945,4.164583333333334,3.631818181818182,5.681770487773403,4.035714285714286,5.987822988602255,4.718551238496995,1.055009107468124,6.725516996664538,3.1666666666666665,1.4504662004662006,7.532535969231199,11.578198356807512,3.672316384180791,3.3076923076923075,2.07667731629393,4.439156757936075,2.73972602739726,4.275300379632891,3.511326116175783,6.276923076923078,4.718034108968429,3.866013071895425,3.3286450662739324,5.093913259018036,5.625,3.0,3.83325052867589,8.096688608053165,2.6333333333333333,1.4784468508585504,9.398496240601503,3.446717348927875,3.0724637681159424,7.592592592592593,3.3677891345074302,1.888888888888889,2.0,5.259818768715081,4.568696023212152,4.241443488517207,4.610136452241715,19.96268787046938,7.515834864118561,6.285714285714286,1.3333333333333335,2.428571428571429,5.687208432872116,2.6375227686703098,2.4886201942337713,3.4011982739353925,4.054054054054054,4.736842105263158,3.747072599531616,4.4035947712418295,8.027996572316356,6.753846153846155,8.626678842309481,8.688095238095238,3.123596498011489,5.333333333333334,1.887323943661972,4.637647311913367,2.2,1.0545,5.158257009257254,1.48,2.6,3.5993494897959186,3.662769628990509,3.3684523809523808,2.4456521739130435,4.223156462585034,5.96,6.563875304869731,5.489250278349863,4.527585724728354,2.0,12.450592885375492,16.568759826142287,3.8133633633633632,2.3010651629072685,5.307346176354868,5.500000000000001,2.5460172374297723,3.7447577695382366,3.757719976924904,3.7977788242681108,2.333333333333333,3.5928428391810012,2.5,3.3,3.1009615384615383,4.215386072869452,1.44,5.021176330231448,6.1124809041459045,4.00976800976801,4.464285714285714,4.0902385378469726,6.140350877192983,1.4075091575091576,8.1684091504405,4.62979797979798,4.086493987049028,4.163020716999032,4.875,7.180259309334176,1.9206140350877192,11.073843660733903,6.0606060606060606,4.0,2.531355446185955,3.4247376431947445,16.087451844844402,14.995060915591557,3.458646616541354,5.10539249006586,7.278992636628644,7.142857142857142,8.627179992537336,5.267857142857142,6.0317460317460325,3.0,1.532846715328467,4.086538461538462,2.2407821229050278,4.205152258623178,5.122694932905283,3.125,1.6790123456790125,3.04,6.349206349206349,2.857142857142857,6.468782096077693,6.875000000000001,4.557583953121479,3.4729166666666664,5.308333333333334,4.916666666666666,3.255813953488372,1.357912457912458,3.9647533820393024,3.9651675485008826,6.228234286588174,2.6,2.8,4.104173973529375,3.503271537622682,1.6279069767441858,7.964865674266564,1.4076502732240437,4.01849516603615,4.6,5.403290322580645,3.4491935483870972,3.7216016410554147,1.8,5.03668283916168,5.708689867820676,3.3442374510238784,5.048216566161565,6.0,7.453453453453454,17.46556461749832,5.165201098065548,2.5076719576719575,4.711290322580645,2.9166666666666665,3.2860966081871346,7.720445956160241,3.1666666666666665,5.067812561917972,4.490033222591363,5.592740078043548,4.947772277227723,7.8349080509241285,0.5447553294573643,3.0,6.805555555555556,7.872978225779316,3.3821243523316062,3.574195079902627,8.565738315112743,4.032958512483167,4.0534375,8.464638311809844,7.153299611514345,3.145979020979021,6.2528242941192005,2.6367686283411835,5.726671145008481,8.885555555555555,11.482254552410621,1.9411764705882353,5.570303905390539,6.25,6.384489795918368,4.680921154009389,3.76890756302521,3.1666666666666665,5.3,3.5361111111111114,2.99,9.329484266415493,4.581005586592179,4.840909090909091,3.469298245614035,11.904143640624843,3.9751552795031055,7.24613597233552,5.1656880941770655,5.1067599229095215,5.120245700919663,5.132295034268719,2.2500000000000004,4.888866666666667,5.737812911725956,6.8870877730587745,12.076267819492656,5.41621507452183,11.749029107736142,6.255171664805064,3.8135593220338984,4.692073170731707,8.768361377666173,7.371760360912643,7.282803403493059,3.224926900584795,2.9964465647345384,10.980302392229788,5.5422762672147154,4.166666666666667,3.9410549081473762,2.6578687628161313,2.7065199593935225,6.816979243715358,4.926029833693006,2.5,3.6442608441665074,3.1159420289855073,2.67330073697084,3.7755,6.535023809523809,3.39731899641577,4.854869571665758,4.583296381148878,3.2666666666666666,1.5,3.4375000000000004,4.6938775510204085,5.430533926585094,2.9629629629629632,6.120401337792642,3.1666666666666665,2.5320570192634415,4.500000000000001,5.764367816091953,4.685714285714285,1.2,1.6666666666666665,2.6190476190476195,1.5062450922654103,3.6343498191408408,5.461206896551724,5.288604734750975,4.666666666666667,4.502309052198433,2.6213333333333333,5.912183676889559,5.0725903937819385,6.396218772516746,5.315063124767334,1.8333333333333335,8.333333333333334,3.5177865612648223,3.0,5.478767308905849,3.507589591362788,7.657139598333277,12.086703946801453,3.236607142857143,4.4259545923632615,6.447722579475103,8.254604344151224,4.629808917197452,2.456896551724138,8.243413516609392,5.161040005642108,3.057231478623855,5.1185303737006,5.911111111111111,10.86655343973863,2.214078431372549,3.4497778087905164,3.947368421052632,5.172111194627455,9.590968832279922,5.730019284305308,6.434347270693608,7.702385004348983,7.393656664227419,7.950892024036129,5.446592266138781,9.635748139373009,8.43060014563788,3.841138763197587,3.672222222222222,10.266793149851843,2.456896551724138,3.1971544715447155,0.07837837837837838,4.365079365079366,4.770833333333334,4.972210271985071,3.9222234862989493,4.978202387069732,4.6248669986700355,7.719362745098039,4.601977011494252,5.824999999999999,4.8533906718290085,5.4070070070070075,6.173136474231364,3.3889577567640554,2.504743457980868,5.2,4.545454545454546,4.944970340100089,5.938775724289714,6.867633615881624,5.791868533481438,4.026444902588798,4.766356531123799,4.444670345052506,2.8,3.6964285714285716,3.532405555555556,2.4,4.775650726392252,0.9065934065934066,2.4018603857313536,1.679268292682927,3.9136958640857826,3.6987594390507015,3.462853913082746,4.166666666666667,1.6921296296296298,4.361229681202236,9.121284153005464,5.3578742191029685,2.7285714285714286,3.8362795048934943,4.706407677288944,5.295807672796882,2.9850114043662432,5.601057311065722,3.1574263074263076,2.7961748633879777,3.134328358208955,4.84884873188727,4.161361986921798,3.3399014778325125,3.771809519483388,3.695652173913044,2.1838235294117645,1.9396551724137931,2.8282828282828287,4.444444444444445,3.9583333333333335,4.73758865248227,5.19983250856375,1.4035087719298245,1.6692379616643291,3.325,5.493939393939394,11.232395614741625,3.92,7.674042350402896,4.1673845586320635,5.2142857142857135,6.341253207903232,3.4210526315789473,4.698333333333333,3.4000000000000004,8.938718690856794,7.8921867252947715,2.94,4.091793388429752,3.526115859449193,2.2695823483057525,3.9,7.7023438186426745,3.13570269783092,5.739203430460666,2.1897810218978098,2.864705882352941,1.5178571428571428,4.134615384615384,4.8021332869630085,7.4381538461538454,3.5813432012170217,4.214285714285714,4.401494737209603,2.692307692307692,4.641471424677806,2.5,3.828,5.970478290835568,5.00317017403615,4.413586956521739,7.738839906271099,4.610195185634708,6.847552761820877,80.0,3.8663059092340424,4.397427476737822,4.717163271511097,3.8890360451193944,5.835311473058015,4.482597039717298,8.08096865168133,4.363636363636364,7.822443060546497,4.2890625,6.102078320467973,4.2,8.024836224655393,3.0292397660818713,3.1805860805860804,5.390625,6.402264869357667,3.416587194337194,4.538151818419675,5.857165404040404,2.909090909090909,2.4221743295019156,3.5136358591665435,3.4090909090909087,3.3636363636363638,1.7285464098073555,7.0588235294117645,5.738383060779096,2.5961538461538463,6.304347826086956,5.698108165797747,3.389836559869682,2.6550751879699246,3.8919082125603865,5.066236908262123,4.135750360750361,9.054395958167552,4.0907434776684175,4.410064598434851,2.746011396011396,4.841250476190477,7.913154806155142,4.694551247208348,5.060113519091847,4.717941579490233,5.097473665982888,3.0043932672131026,1.911764705882353,4.2625647451963244,4.503446000248912,6.9564599378386855,5.9193681805984975,3.9654831776495887,6.958828648122474,4.267099514677363,7.427968372074427,4.997300507518106,2.9545454545454546,5.170741369552915,3.279967159277504,1.5214285714285714,3.1139680320714804,3.1,4.663495430337363,2.333333333333333,3.2443009182181646,2.999652029457765,5.289617486338798,5.809351524076078,17.614033885540763,2.5811640929871356,3.542902784116842,3.2447986831046656,4.8,5.076923076923077,2.049848590729094,12.428420146305413,4.783796182485516,2.253968253968254,4.282484127538958,3.348956725146199,6.673330622571609,6.095584637964775,3.7738993631764406,3.078703703703704,4.0916819696660545,5.388888888888888,3.9993103448275855,3.866990472632169,5.166666666666667,2.5,2.877604166666667,4.187526354193021,2.840909090909091,5.964635156038594,8.252857254752584,4.444444444444445,5.889830508474576,6.078696741854637,7.242681108320831,4.750446889538807,4.385734256086725,4.848545454545454,7.073943661971831,3.64,5.8617948717948725,6.979469407459318,5.719648083844343,2.853212204096252,5.1000000000000005,3.3333333333333335,5.266666666666667,4.245726495726497,4.387820512820513,1.98,3.67816091954023,4.573423098027934,5.040165165165164,4.591397849462365,5.063377091377092,3.312796208530805,5.659574468085107,6.122222222222222,3.534977494373593,5.207592636599448,7.0197044334975365,5.434782608695652,4.983067167227121,4.057439605959343,5.661816045526893,2.2059286146400487,7.208333333333334,5.6602397368299195,4.809618853562686,3.3694581280788176,5.06291918175721,6.359272687647974,4.842424242424243,5.09090909090909,5.254271847776036,5.517908217449979,5.4305555555555545,5.655359824290475,4.093224565403248,3.016837002062588,6.0529882816076555,3.1007103098143562,3.8222591362126246,3.154166666666667,8.388410212518583,9.912121093128777,2.5529548239828617,3.666666666666667,3.152604073444243,4.3478260869565215,6.36,4.813671633368051,5.45614857241238,4.53125,4.643663117420881,4.390471029769592,2.847564794387979,4.267915766058171,4.546515151515151,4.467127995320215,7.269113912061975,5.841104427523171,3.8768627450980393,4.509608462721741],\"yaxis\":\"y\",\"type\":\"scatter\"}],                        {\"template\":{\"data\":{\"histogram2dcontour\":[{\"type\":\"histogram2dcontour\",\"colorbar\":{\"outlinewidth\":0,\"ticks\":\"\"},\"colorscale\":[[0.0,\"#0d0887\"],[0.1111111111111111,\"#46039f\"],[0.2222222222222222,\"#7201a8\"],[0.3333333333333333,\"#9c179e\"],[0.4444444444444444,\"#bd3786\"],[0.5555555555555556,\"#d8576b\"],[0.6666666666666666,\"#ed7953\"],[0.7777777777777778,\"#fb9f3a\"],[0.8888888888888888,\"#fdca26\"],[1.0,\"#f0f921\"]]}],\"choropleth\":[{\"type\":\"choropleth\",\"colorbar\":{\"outlinewidth\":0,\"ticks\":\"\"}}],\"histogram2d\":[{\"type\":\"histogram2d\",\"colorbar\":{\"outlinewidth\":0,\"ticks\":\"\"},\"colorscale\":[[0.0,\"#0d0887\"],[0.1111111111111111,\"#46039f\"],[0.2222222222222222,\"#7201a8\"],[0.3333333333333333,\"#9c179e\"],[0.4444444444444444,\"#bd3786\"],[0.5555555555555556,\"#d8576b\"],[0.6666666666666666,\"#ed7953\"],[0.7777777777777778,\"#fb9f3a\"],[0.8888888888888888,\"#fdca26\"],[1.0,\"#f0f921\"]]}],\"heatmap\":[{\"type\":\"heatmap\",\"colorbar\":{\"outlinewidth\":0,\"ticks\":\"\"},\"colorscale\":[[0.0,\"#0d0887\"],[0.1111111111111111,\"#46039f\"],[0.2222222222222222,\"#7201a8\"],[0.3333333333333333,\"#9c179e\"],[0.4444444444444444,\"#bd3786\"],[0.5555555555555556,\"#d8576b\"],[0.6666666666666666,\"#ed7953\"],[0.7777777777777778,\"#fb9f3a\"],[0.8888888888888888,\"#fdca26\"],[1.0,\"#f0f921\"]]}],\"heatmapgl\":[{\"type\":\"heatmapgl\",\"colorbar\":{\"outlinewidth\":0,\"ticks\":\"\"},\"colorscale\":[[0.0,\"#0d0887\"],[0.1111111111111111,\"#46039f\"],[0.2222222222222222,\"#7201a8\"],[0.3333333333333333,\"#9c179e\"],[0.4444444444444444,\"#bd3786\"],[0.5555555555555556,\"#d8576b\"],[0.6666666666666666,\"#ed7953\"],[0.7777777777777778,\"#fb9f3a\"],[0.8888888888888888,\"#fdca26\"],[1.0,\"#f0f921\"]]}],\"contourcarpet\":[{\"type\":\"contourcarpet\",\"colorbar\":{\"outlinewidth\":0,\"ticks\":\"\"}}],\"contour\":[{\"type\":\"contour\",\"colorbar\":{\"outlinewidth\":0,\"ticks\":\"\"},\"colorscale\":[[0.0,\"#0d0887\"],[0.1111111111111111,\"#46039f\"],[0.2222222222222222,\"#7201a8\"],[0.3333333333333333,\"#9c179e\"],[0.4444444444444444,\"#bd3786\"],[0.5555555555555556,\"#d8576b\"],[0.6666666666666666,\"#ed7953\"],[0.7777777777777778,\"#fb9f3a\"],[0.8888888888888888,\"#fdca26\"],[1.0,\"#f0f921\"]]}],\"surface\":[{\"type\":\"surface\",\"colorbar\":{\"outlinewidth\":0,\"ticks\":\"\"},\"colorscale\":[[0.0,\"#0d0887\"],[0.1111111111111111,\"#46039f\"],[0.2222222222222222,\"#7201a8\"],[0.3333333333333333,\"#9c179e\"],[0.4444444444444444,\"#bd3786\"],[0.5555555555555556,\"#d8576b\"],[0.6666666666666666,\"#ed7953\"],[0.7777777777777778,\"#fb9f3a\"],[0.8888888888888888,\"#fdca26\"],[1.0,\"#f0f921\"]]}],\"mesh3d\":[{\"type\":\"mesh3d\",\"colorbar\":{\"outlinewidth\":0,\"ticks\":\"\"}}],\"scatter\":[{\"fillpattern\":{\"fillmode\":\"overlay\",\"size\":10,\"solidity\":0.2},\"type\":\"scatter\"}],\"parcoords\":[{\"type\":\"parcoords\",\"line\":{\"colorbar\":{\"outlinewidth\":0,\"ticks\":\"\"}}}],\"scatterpolargl\":[{\"type\":\"scatterpolargl\",\"marker\":{\"colorbar\":{\"outlinewidth\":0,\"ticks\":\"\"}}}],\"bar\":[{\"error_x\":{\"color\":\"#2a3f5f\"},\"error_y\":{\"color\":\"#2a3f5f\"},\"marker\":{\"line\":{\"color\":\"#E5ECF6\",\"width\":0.5},\"pattern\":{\"fillmode\":\"overlay\",\"size\":10,\"solidity\":0.2}},\"type\":\"bar\"}],\"scattergeo\":[{\"type\":\"scattergeo\",\"marker\":{\"colorbar\":{\"outlinewidth\":0,\"ticks\":\"\"}}}],\"scatterpolar\":[{\"type\":\"scatterpolar\",\"marker\":{\"colorbar\":{\"outlinewidth\":0,\"ticks\":\"\"}}}],\"histogram\":[{\"marker\":{\"pattern\":{\"fillmode\":\"overlay\",\"size\":10,\"solidity\":0.2}},\"type\":\"histogram\"}],\"scattergl\":[{\"type\":\"scattergl\",\"marker\":{\"colorbar\":{\"outlinewidth\":0,\"ticks\":\"\"}}}],\"scatter3d\":[{\"type\":\"scatter3d\",\"line\":{\"colorbar\":{\"outlinewidth\":0,\"ticks\":\"\"}},\"marker\":{\"colorbar\":{\"outlinewidth\":0,\"ticks\":\"\"}}}],\"scattermapbox\":[{\"type\":\"scattermapbox\",\"marker\":{\"colorbar\":{\"outlinewidth\":0,\"ticks\":\"\"}}}],\"scatterternary\":[{\"type\":\"scatterternary\",\"marker\":{\"colorbar\":{\"outlinewidth\":0,\"ticks\":\"\"}}}],\"scattercarpet\":[{\"type\":\"scattercarpet\",\"marker\":{\"colorbar\":{\"outlinewidth\":0,\"ticks\":\"\"}}}],\"carpet\":[{\"aaxis\":{\"endlinecolor\":\"#2a3f5f\",\"gridcolor\":\"white\",\"linecolor\":\"white\",\"minorgridcolor\":\"white\",\"startlinecolor\":\"#2a3f5f\"},\"baxis\":{\"endlinecolor\":\"#2a3f5f\",\"gridcolor\":\"white\",\"linecolor\":\"white\",\"minorgridcolor\":\"white\",\"startlinecolor\":\"#2a3f5f\"},\"type\":\"carpet\"}],\"table\":[{\"cells\":{\"fill\":{\"color\":\"#EBF0F8\"},\"line\":{\"color\":\"white\"}},\"header\":{\"fill\":{\"color\":\"#C8D4E3\"},\"line\":{\"color\":\"white\"}},\"type\":\"table\"}],\"barpolar\":[{\"marker\":{\"line\":{\"color\":\"#E5ECF6\",\"width\":0.5},\"pattern\":{\"fillmode\":\"overlay\",\"size\":10,\"solidity\":0.2}},\"type\":\"barpolar\"}],\"pie\":[{\"automargin\":true,\"type\":\"pie\"}]},\"layout\":{\"autotypenumbers\":\"strict\",\"colorway\":[\"#636efa\",\"#EF553B\",\"#00cc96\",\"#ab63fa\",\"#FFA15A\",\"#19d3f3\",\"#FF6692\",\"#B6E880\",\"#FF97FF\",\"#FECB52\"],\"font\":{\"color\":\"#2a3f5f\"},\"hovermode\":\"closest\",\"hoverlabel\":{\"align\":\"left\"},\"paper_bgcolor\":\"white\",\"plot_bgcolor\":\"#E5ECF6\",\"polar\":{\"bgcolor\":\"#E5ECF6\",\"angularaxis\":{\"gridcolor\":\"white\",\"linecolor\":\"white\",\"ticks\":\"\"},\"radialaxis\":{\"gridcolor\":\"white\",\"linecolor\":\"white\",\"ticks\":\"\"}},\"ternary\":{\"bgcolor\":\"#E5ECF6\",\"aaxis\":{\"gridcolor\":\"white\",\"linecolor\":\"white\",\"ticks\":\"\"},\"baxis\":{\"gridcolor\":\"white\",\"linecolor\":\"white\",\"ticks\":\"\"},\"caxis\":{\"gridcolor\":\"white\",\"linecolor\":\"white\",\"ticks\":\"\"}},\"coloraxis\":{\"colorbar\":{\"outlinewidth\":0,\"ticks\":\"\"}},\"colorscale\":{\"sequential\":[[0.0,\"#0d0887\"],[0.1111111111111111,\"#46039f\"],[0.2222222222222222,\"#7201a8\"],[0.3333333333333333,\"#9c179e\"],[0.4444444444444444,\"#bd3786\"],[0.5555555555555556,\"#d8576b\"],[0.6666666666666666,\"#ed7953\"],[0.7777777777777778,\"#fb9f3a\"],[0.8888888888888888,\"#fdca26\"],[1.0,\"#f0f921\"]],\"sequentialminus\":[[0.0,\"#0d0887\"],[0.1111111111111111,\"#46039f\"],[0.2222222222222222,\"#7201a8\"],[0.3333333333333333,\"#9c179e\"],[0.4444444444444444,\"#bd3786\"],[0.5555555555555556,\"#d8576b\"],[0.6666666666666666,\"#ed7953\"],[0.7777777777777778,\"#fb9f3a\"],[0.8888888888888888,\"#fdca26\"],[1.0,\"#f0f921\"]],\"diverging\":[[0,\"#8e0152\"],[0.1,\"#c51b7d\"],[0.2,\"#de77ae\"],[0.3,\"#f1b6da\"],[0.4,\"#fde0ef\"],[0.5,\"#f7f7f7\"],[0.6,\"#e6f5d0\"],[0.7,\"#b8e186\"],[0.8,\"#7fbc41\"],[0.9,\"#4d9221\"],[1,\"#276419\"]]},\"xaxis\":{\"gridcolor\":\"white\",\"linecolor\":\"white\",\"ticks\":\"\",\"title\":{\"standoff\":15},\"zerolinecolor\":\"white\",\"automargin\":true,\"zerolinewidth\":2},\"yaxis\":{\"gridcolor\":\"white\",\"linecolor\":\"white\",\"ticks\":\"\",\"title\":{\"standoff\":15},\"zerolinecolor\":\"white\",\"automargin\":true,\"zerolinewidth\":2},\"scene\":{\"xaxis\":{\"backgroundcolor\":\"#E5ECF6\",\"gridcolor\":\"white\",\"linecolor\":\"white\",\"showbackground\":true,\"ticks\":\"\",\"zerolinecolor\":\"white\",\"gridwidth\":2},\"yaxis\":{\"backgroundcolor\":\"#E5ECF6\",\"gridcolor\":\"white\",\"linecolor\":\"white\",\"showbackground\":true,\"ticks\":\"\",\"zerolinecolor\":\"white\",\"gridwidth\":2},\"zaxis\":{\"backgroundcolor\":\"#E5ECF6\",\"gridcolor\":\"white\",\"linecolor\":\"white\",\"showbackground\":true,\"ticks\":\"\",\"zerolinecolor\":\"white\",\"gridwidth\":2}},\"shapedefaults\":{\"line\":{\"color\":\"#2a3f5f\"}},\"annotationdefaults\":{\"arrowcolor\":\"#2a3f5f\",\"arrowhead\":0,\"arrowwidth\":1},\"geo\":{\"bgcolor\":\"white\",\"landcolor\":\"#E5ECF6\",\"subunitcolor\":\"white\",\"showland\":true,\"showlakes\":true,\"lakecolor\":\"white\"},\"title\":{\"x\":0.05},\"mapbox\":{\"style\":\"light\"}}},\"xaxis\":{\"anchor\":\"y\",\"domain\":[0.0,1.0],\"title\":{\"text\":\"District\"}},\"yaxis\":{\"anchor\":\"x\",\"domain\":[0.0,1.0],\"title\":{\"text\":\"Price/m2\"}},\"legend\":{\"tracegroupgap\":0},\"title\":{\"text\":\"Price per square foot by district\"}},                        {\"responsive\": true}                    ).then(function(){\n",
       "                            \n",
       "var gd = document.getElementById('f3cbf074-0698-4915-9181-895223e77004');\n",
       "var x = new MutationObserver(function (mutations, observer) {{\n",
       "        var display = window.getComputedStyle(gd).display;\n",
       "        if (!display || display === 'none') {{\n",
       "            console.log([gd, 'removed!']);\n",
       "            Plotly.purge(gd);\n",
       "            observer.disconnect();\n",
       "        }}\n",
       "}});\n",
       "\n",
       "// Listen for the removal of the full notebook cells\n",
       "var notebookContainer = gd.closest('#notebook-container');\n",
       "if (notebookContainer) {{\n",
       "    x.observe(notebookContainer, {childList: true});\n",
       "}}\n",
       "\n",
       "// Listen for the clearing of the current output cell\n",
       "var outputEl = gd.closest('.output');\n",
       "if (outputEl) {{\n",
       "    x.observe(outputEl, {childList: true});\n",
       "}}\n",
       "\n",
       "                        })                };                });            </script>        </div>"
      ]
     },
     "metadata": {},
     "output_type": "display_data"
    }
   ],
   "source": [
    "#Use plotly to make a plot the mean price per square foot per district\n",
    "import plotly.express as px\n",
    "\n",
    "fig = px.line(DistrictMeans, y = 'Valor/m2', title = 'Price per square foot by district',\n",
    "             labels={\"Bairro\": \"District\",  \"Valor/m2\": \"Price/m2\"})\n",
    "fig.show()"
   ]
  },
  {
   "cell_type": "markdown",
   "id": "13328692",
   "metadata": {},
   "source": [
    "### 4 - Explore visualization libraries"
   ]
  },
  {
   "cell_type": "markdown",
   "id": "8f0149e3",
   "metadata": {},
   "source": [
    "This was done together with the previous task, where it was learned how to make plots in the plotly library. This library allows you to use interative graphs, which seems to be a very good option to make plots with a large amount of data without making then illegible."
   ]
  },
  {
   "cell_type": "markdown",
   "id": "ba3d8801",
   "metadata": {},
   "source": [
    "### 5 - Analyse the quartiles, median and outliers"
   ]
  },
  {
   "cell_type": "markdown",
   "id": "9085b77e",
   "metadata": {},
   "source": [
    "We will use boxplots to analyse this for all numeric collumn in the dataframe"
   ]
  },
  {
   "cell_type": "markdown",
   "id": "8a832245",
   "metadata": {},
   "source": [
    "Since there are different scales for the data of different columns, we will make separated boxplots"
   ]
  },
  {
   "cell_type": "code",
   "execution_count": 94,
   "id": "3074cee1",
   "metadata": {},
   "outputs": [
    {
     "data": {
      "image/png": "[encoded data removed]",
      "text/plain": [
       "<Figure size 432x288 with 1 Axes>"
      ]
     },
     "metadata": {},
     "output_type": "display_data"
    }
   ],
   "source": [
    "#Make boxplot of house prices\n",
    "plt.figure()\n",
    "plt.title(\"Boxplot of house prices\", fontsize = 20)\n",
    "sns.boxplot(x = df_2['Valor'])\n",
    "plt.show()"
   ]
  },
  {
   "cell_type": "markdown",
   "id": "bc2a2086",
   "metadata": {},
   "source": [
    "We can see that there are some houses with expensive pricces that are classified as outliers"
   ]
  },
  {
   "cell_type": "code",
   "execution_count": 95,
   "id": "2222500a",
   "metadata": {},
   "outputs": [
    {
     "data": {
      "image/png": "[encoded data removed]",
      "text/plain": [
       "<Figure size 432x288 with 1 Axes>"
      ]
     },
     "metadata": {},
     "output_type": "display_data"
    }
   ],
   "source": [
    "#Make boxplot of price per square foot\n",
    "plt.figure()\n",
    "plt.title(\"Boxplot of house prices per square foot\", fontsize = 20)\n",
    "sns.boxplot(x = df_2['Valor/m2'])\n",
    "plt.show()"
   ]
  },
  {
   "cell_type": "markdown",
   "id": "4801ed0f",
   "metadata": {},
   "source": [
    "Again, we can see that there are outliers with expensive prices per square foot"
   ]
  },
  {
   "cell_type": "code",
   "execution_count": 96,
   "id": "88407a2d",
   "metadata": {},
   "outputs": [
    {
     "data": {
      "image/png": "[encoded data removed]",
      "text/plain": [
       "<Figure size 432x288 with 1 Axes>"
      ]
     },
     "metadata": {},
     "output_type": "display_data"
    }
   ],
   "source": [
    "#Make boxplot with the footage\n",
    "plt.figure()\n",
    "plt.title(\"Boxplot of footage\", fontsize = 20)\n",
    "sns.boxplot(x = df_2['Metragem'])\n",
    "plt.show()"
   ]
  },
  {
   "cell_type": "markdown",
   "id": "eff00943",
   "metadata": {},
   "source": [
    "There are few outliers concerning the house footage"
   ]
  },
  {
   "cell_type": "code",
   "execution_count": 97,
   "id": "f53b2e32",
   "metadata": {},
   "outputs": [
    {
     "data": {
      "image/png": "[encoded data removed]",
      "text/plain": [
       "<Figure size 432x288 with 1 Axes>"
      ]
     },
     "metadata": {},
     "output_type": "display_data"
    }
   ],
   "source": [
    "#Make boxplot with the number of rooms, bathrooms and parking spaces\n",
    "plt.figure()\n",
    "plt.title(\"Boxplot of footage\", fontsize = 20)\n",
    "sns.boxplot(data = df_2[['Quartos', 'Banheiros', 'Vagas']])\n",
    "plt.show()"
   ]
  },
  {
   "cell_type": "markdown",
   "id": "b6a7adaa",
   "metadata": {},
   "source": [
    "There are many outliers relatetd to the three columns, but some of the extreme outliers in number of bathrooms ('banheiros') and parking spaces ('vagas') calls special attention."
   ]
  },
  {
   "cell_type": "markdown",
   "id": "8e8b491f",
   "metadata": {},
   "source": [
    "## Save dataframe"
   ]
  },
  {
   "cell_type": "code",
   "execution_count": 98,
   "id": "db5b9249",
   "metadata": {},
   "outputs": [],
   "source": [
    "df_2.to_csv('../data/interim/Data_Day2.csv', index = False)"
   ]
  }
 ],
 "metadata": {
  "kernelspec": {
   "display_name": "Python [conda env:dada_science]",
   "language": "python",
   "name": "conda-env-dada_science-py"
  },
  "language_info": {
   "codemirror_mode": {
    "name": "ipython",
    "version": 3
   },
   "file_extension": ".py",
   "mimetype": "text/x-python",
   "name": "python",
   "nbconvert_exporter": "python",
   "pygments_lexer": "ipython3",
   "version": "3.9.12"
  }
 },
 "nbformat": 4,
 "nbformat_minor": 5
}
