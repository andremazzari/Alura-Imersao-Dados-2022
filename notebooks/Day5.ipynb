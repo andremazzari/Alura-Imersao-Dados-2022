{
 "cells": [
  {
   "cell_type": "code",
   "execution_count": 49,
   "id": "a053609d",
   "metadata": {},
   "outputs": [],
   "source": [
    "import numpy as np\n",
    "import pandas as pd\n",
    "from sklearn.model_selection import cross_validate, KFold"
   ]
  },
  {
   "cell_type": "markdown",
   "id": "f204f18f",
   "metadata": {},
   "source": [
    "## Baseline models"
   ]
  },
  {
   "cell_type": "markdown",
   "id": "df1fe578",
   "metadata": {},
   "source": [
    "I'll create baseline models using just the data in the Sao Paulo house prifes dataframe. This will be used to verify if adding the data from ibge was useful the improve the models."
   ]
  },
  {
   "cell_type": "markdown",
   "id": "69f056d0",
   "metadata": {},
   "source": [
    "I'll use cross validation"
   ]
  },
  {
   "cell_type": "markdown",
   "id": "752c40cd",
   "metadata": {},
   "source": [
    "### Load Sao Paulo house prices data"
   ]
  },
  {
   "cell_type": "code",
   "execution_count": null,
   "id": "645c0e5b",
   "metadata": {},
   "outputs": [],
   "source": [
    "df_prices = pd.read_csv('../data/processed/Data_prices_processed.csv')"
   ]
  },
  {
   "cell_type": "code",
   "execution_count": null,
   "id": "81dda130",
   "metadata": {},
   "outputs": [],
   "source": [
    "df_prices.describe()"
   ]
  },
  {
   "cell_type": "code",
   "execution_count": null,
   "id": "ebab8b4f",
   "metadata": {},
   "outputs": [],
   "source": [
    "df_prices.head()"
   ]
  },
  {
   "cell_type": "code",
   "execution_count": null,
   "id": "688d312b",
   "metadata": {},
   "outputs": [],
   "source": [
    "df_prices.shape"
   ]
  },
  {
   "cell_type": "code",
   "execution_count": null,
   "id": "e312c12b",
   "metadata": {},
   "outputs": [],
   "source": [
    "X_Data_Baseline = df_prices[['Metragem', 'Quartos', 'Banheiros', 'Vagas']].to_numpy()\n",
    "Y_Data_Baseline = df_prices[['Valor']].to_numpy().reshape((8737,))"
   ]
  },
  {
   "cell_type": "markdown",
   "id": "0e392210",
   "metadata": {},
   "source": [
    "### Linear regression"
   ]
  },
  {
   "cell_type": "code",
   "execution_count": null,
   "id": "db59f987",
   "metadata": {},
   "outputs": [],
   "source": [
    "from sklearn.linear_model import LinearRegression"
   ]
  },
  {
   "cell_type": "code",
   "execution_count": null,
   "id": "0a4e6b10",
   "metadata": {},
   "outputs": [],
   "source": [
    "LinearRegressionModel = LinearRegression()\n",
    "Results_LinearRegression_r2_Baseline = []\n",
    "Results_LinearRegression_mae_Baseline = []\n",
    "for i in range(30):\n",
    "    kfold = KFold(n_splits = 5, shuffle = True, random_state = i)\n",
    "    scores = cross_validate(LinearRegressionModel, X_Data_Baseline, Y_Data_Baseline, cv = kfold, scoring = ('r2', 'neg_mean_absolute_error'))\n",
    "    \n",
    "    Results_LinearRegression_r2_Baseline.append(scores['test_r2'].mean())\n",
    "    Results_LinearRegression_mae_Baseline.append((-1)*scores['test_neg_mean_absolute_error'].mean())\n",
    "print(\"r2 mean: \", np.array(Results_LinearRegression_r2_Baseline).mean())\n",
    "print(\"r2 var: \", np.array(Results_LinearRegression_r2_Baseline).var())\n",
    "print(\"Mae mean: \", np.array(Results_LinearRegression_mae_Baseline).mean())\n",
    "print(\"Mae var: \", np.array(Results_LinearRegression_mae_Baseline).var())"
   ]
  },
  {
   "cell_type": "markdown",
   "id": "d61c054b",
   "metadata": {},
   "source": [
    "### Decision tree"
   ]
  },
  {
   "cell_type": "code",
   "execution_count": null,
   "id": "4e984fb8",
   "metadata": {},
   "outputs": [],
   "source": [
    "from sklearn import tree"
   ]
  },
  {
   "cell_type": "code",
   "execution_count": null,
   "id": "6011fbf0",
   "metadata": {},
   "outputs": [],
   "source": [
    "RegressorTree = tree.DecisionTreeRegressor()\n",
    "Results_DecisionTree_r2_Baseline = []\n",
    "Results_DecisionTree_mae_Baseline = []\n",
    "for i in range(30):\n",
    "    kfold = KFold(n_splits = 5, shuffle = True, random_state = i)\n",
    "    scores = cross_validate(RegressorTree, X_Data_Baseline, Y_Data_Baseline, cv = kfold, scoring = ('r2', 'neg_mean_absolute_error'))\n",
    "    \n",
    "    Results_DecisionTree_r2_Baseline.append(scores['test_r2'].mean())\n",
    "    Results_DecisionTree_mae_Baseline.append((-1)*scores['test_neg_mean_absolute_error'].mean())\n",
    "print(\"r2 mean: \", np.array(Results_DecisionTree_r2_Baseline).mean())\n",
    "print(\"r2 var: \", np.array(Results_DecisionTree_r2_Baseline).var())\n",
    "print(\"Mae mean: \", np.array(Results_DecisionTree_mae_Baseline).mean())\n",
    "print(\"Mae var: \", np.array(Results_DecisionTree_mae_Baseline).var())"
   ]
  },
  {
   "cell_type": "markdown",
   "id": "63994339",
   "metadata": {},
   "source": [
    "### Random Forest"
   ]
  },
  {
   "cell_type": "code",
   "execution_count": null,
   "id": "c4f278cf",
   "metadata": {},
   "outputs": [],
   "source": [
    "from sklearn.ensemble import RandomForestRegressor"
   ]
  },
  {
   "cell_type": "code",
   "execution_count": null,
   "id": "93387ed8",
   "metadata": {},
   "outputs": [],
   "source": [
    "RandomForest = RandomForestRegressor(n_estimators = 50)\n",
    "Results_RandomForest_r2_Baseline = []\n",
    "Results_RandomForest_mae_Baseline = []\n",
    "for i in range(30):\n",
    "    kfold = KFold(n_splits = 5, shuffle = True, random_state = i)\n",
    "    scores = cross_validate(RandomForest, X_Data_Baseline, Y_Data_Baseline, cv = kfold, scoring = ('r2', 'neg_mean_absolute_error'))\n",
    "    \n",
    "    Results_RandomForest_r2_Baseline.append(scores['test_r2'].mean())\n",
    "    Results_RandomForest_mae_Baseline.append((-1)*scores['test_neg_mean_absolute_error'].mean())\n",
    "print(\"r2 mean: \", np.array(Results_RandomForest_r2_Baseline).mean())\n",
    "print(\"r2 var: \", np.array(Results_RandomForest_r2_Baseline).var())\n",
    "print(\"Mae mean: \", np.array(Results_RandomForest_mae_Baseline).mean())\n",
    "print(\"Mae var: \", np.array(Results_RandomForest_mae_Baseline).var())"
   ]
  },
  {
   "cell_type": "markdown",
   "id": "27a47c1d",
   "metadata": {},
   "source": [
    "## Models adding data from ibge"
   ]
  },
  {
   "cell_type": "code",
   "execution_count": null,
   "id": "235bbc77",
   "metadata": {},
   "outputs": [],
   "source": [
    "df_prices_ibge = pd.read_csv('../data/processed/Data_prices_IBGE.csv')"
   ]
  },
  {
   "cell_type": "code",
   "execution_count": null,
   "id": "d0967a02",
   "metadata": {},
   "outputs": [],
   "source": [
    "df_prices_ibge.describe()"
   ]
  },
  {
   "cell_type": "code",
   "execution_count": null,
   "id": "745e3815",
   "metadata": {},
   "outputs": [],
   "source": [
    "df_prices_ibge.shape"
   ]
  },
  {
   "cell_type": "code",
   "execution_count": null,
   "id": "8ac1e431",
   "metadata": {},
   "outputs": [],
   "source": [
    "X_Data = df_prices_ibge[['Metragem', 'Quartos', 'Banheiros', 'Vagas', 'V005', 'V007', 'V009', 'V011']].to_numpy()\n",
    "Y_Data = df_prices_ibge['Valor'].to_numpy().reshape((3754,))"
   ]
  },
  {
   "cell_type": "markdown",
   "id": "9e61c8bb",
   "metadata": {},
   "source": [
    "### Linear regression"
   ]
  },
  {
   "cell_type": "code",
   "execution_count": null,
   "id": "226bab3b",
   "metadata": {},
   "outputs": [],
   "source": [
    "LinearRegressionModel = LinearRegression()\n",
    "Results_LinearRegression_r2 = []\n",
    "Results_LinearRegression_mae = []\n",
    "for i in range(30):\n",
    "    kfold = KFold(n_splits = 5, shuffle = True, random_state = i)\n",
    "    scores = cross_validate(LinearRegressionModel, X_Data, Y_Data, cv = kfold, scoring = ('r2', 'neg_mean_absolute_error'))\n",
    "    \n",
    "    Results_LinearRegression_r2.append(scores['test_r2'].mean())\n",
    "    Results_LinearRegression_mae.append((-1)*scores['test_neg_mean_absolute_error'].mean())\n",
    "print(\"r2 mean: \", np.array(Results_LinearRegression_r2).mean())\n",
    "print(\"r2 var: \", np.array(Results_LinearRegression_r2).var())\n",
    "print(\"Mae mean: \", np.array(Results_LinearRegression_mae).mean())\n",
    "print(\"Mae var: \", np.array(Results_LinearRegression_mae).var())"
   ]
  },
  {
   "cell_type": "markdown",
   "id": "0c72b58d",
   "metadata": {},
   "source": [
    "### Decision Tree"
   ]
  },
  {
   "cell_type": "code",
   "execution_count": null,
   "id": "d13e99ae",
   "metadata": {},
   "outputs": [],
   "source": [
    "RegressorTree = tree.DecisionTreeRegressor()\n",
    "Results_DecisionTree_r2 = []\n",
    "Results_DecisionTree_mae = []\n",
    "for i in range(30):\n",
    "    kfold = KFold(n_splits = 5, shuffle = True, random_state = i)\n",
    "    scores = cross_validate(RegressorTree, X_Data, Y_Data, cv = kfold, scoring = ('r2', 'neg_mean_absolute_error'))\n",
    "    \n",
    "    Results_DecisionTree_r2.append(scores['test_r2'].mean())\n",
    "    Results_DecisionTree_mae.append((-1)*scores['test_neg_mean_absolute_error'].mean())\n",
    "print(\"r2 mean: \", np.array(Results_DecisionTree_r2).mean())\n",
    "print(\"r2 var: \", np.array(Results_DecisionTree_r2).var())\n",
    "print(\"Mae mean: \", np.array(Results_DecisionTree_mae).mean())\n",
    "print(\"Mae var: \", np.array(Results_DecisionTree_mae).var())"
   ]
  },
  {
   "cell_type": "markdown",
   "id": "b887b1e3",
   "metadata": {},
   "source": [
    "### Random Forest"
   ]
  },
  {
   "cell_type": "code",
   "execution_count": null,
   "id": "c8f0273a",
   "metadata": {},
   "outputs": [],
   "source": [
    "RandomForest = RandomForestRegressor(n_estimators = 50)\n",
    "Results_RandomForest_r2 = []\n",
    "Results_RandomForest_mae = []\n",
    "for i in range(30):\n",
    "    kfold = KFold(n_splits = 5, shuffle = True, random_state = i)\n",
    "    scores = cross_validate(RandomForest, X_Data, Y_Data, cv = kfold, scoring = ('r2', 'neg_mean_absolute_error'))\n",
    "    \n",
    "    Results_RandomForest_r2.append(scores['test_r2'].mean())\n",
    "    Results_RandomForest_mae.append((-1)*scores['test_neg_mean_absolute_error'].mean())\n",
    "print(\"r2 mean: \", np.array(Results_RandomForest_r2).mean())\n",
    "print(\"r2 var: \", np.array(Results_RandomForest_r2).var())\n",
    "print(\"Mae mean: \", np.array(Results_RandomForest_mae).mean())\n",
    "print(\"Mae var: \", np.array(Results_RandomForest_mae).var())"
   ]
  },
  {
   "cell_type": "markdown",
   "id": "93cca2ea",
   "metadata": {},
   "source": [
    "## Compare baseline models and models with ibge data"
   ]
  },
  {
   "cell_type": "markdown",
   "id": "a7b2146c",
   "metadata": {},
   "source": [
    "**It is immediate to see that, for all 3 models considered and for both of the scoring metrics, the models with ibge data performs much better than the respective model without ibge model**"
   ]
  },
  {
   "cell_type": "markdown",
   "id": "a38ce8ee",
   "metadata": {},
   "source": [
    "**From this, we can conclude that joing our original data with external data from ibge was useful and allowed us to improve our results.**"
   ]
  },
  {
   "cell_type": "markdown",
   "id": "16b64164",
   "metadata": {},
   "source": [
    "**Note that the decision tree with ibge data performed better than a random forest model without ibge data.**"
   ]
  },
  {
   "cell_type": "markdown",
   "id": "9c1c1f3e",
   "metadata": {},
   "source": [
    "Now, let's make some bar plots to compare the results of the R2 metric for each round in the cross validation tests. Compare only the 5 first rounds to make visualization easier."
   ]
  },
  {
   "cell_type": "code",
   "execution_count": null,
   "id": "df03d015",
   "metadata": {},
   "outputs": [],
   "source": [
    "import matplotlib.pyplot as plt"
   ]
  },
  {
   "cell_type": "markdown",
   "id": "c480c1f3",
   "metadata": {},
   "source": [
    "### Linear Regression"
   ]
  },
  {
   "cell_type": "code",
   "execution_count": null,
   "id": "e3412f76",
   "metadata": {},
   "outputs": [],
   "source": [
    "Num_rounds = 5\n",
    "\n",
    "index = np.arange(Num_rounds)\n",
    "bar_width = 0.35\n",
    "\n",
    "fig, ax = plt.subplots(figsize = (10,5))\n",
    "\n",
    "baseline = ax.bar(index, Results_LinearRegression_r2_Baseline[:Num_rounds], bar_width, label = 'Baseline data')\n",
    "ibge = ax.bar(index + bar_width, Results_LinearRegression_r2[:Num_rounds], bar_width, label = 'Baseline+IBGE data')\n",
    "\n",
    "ax.set_xlabel('Round of 5-fold cross validation')\n",
    "ax.set_ylabel('R2')\n",
    "ax.set_title(\"Comparing models for Linear Regression\", fontsize = 20)\n",
    "ax.legend()\n",
    "ax.set_ylim([0.45, 0.6])\n",
    "\n",
    "plt.show()"
   ]
  },
  {
   "cell_type": "markdown",
   "id": "2dafb2cc",
   "metadata": {},
   "source": [
    "### Decision Tree"
   ]
  },
  {
   "cell_type": "code",
   "execution_count": null,
   "id": "3c0b9c5a",
   "metadata": {},
   "outputs": [],
   "source": [
    "Num_rounds = 5\n",
    "\n",
    "index = np.arange(Num_rounds)\n",
    "bar_width = 0.35\n",
    "\n",
    "fig, ax = plt.subplots(figsize = (10,5))\n",
    "\n",
    "baseline = ax.bar(index, Results_DecisionTree_r2_Baseline[:Num_rounds], bar_width, label = 'Baseline data')\n",
    "ibge = ax.bar(index + bar_width, Results_DecisionTree_r2[:Num_rounds], bar_width, label = 'Baseline+IBGE data')\n",
    "\n",
    "ax.set_xlabel('Round of 5-fold cross validation', fontsize = 14)\n",
    "ax.set_ylabel('R2', fontsize = 14)\n",
    "ax.set_title(\"Comparing models for Decision Tree\", fontsize = 20)\n",
    "ax.legend()\n",
    "ax.set_ylim([0.25, 0.65])\n",
    "\n",
    "plt.show()"
   ]
  },
  {
   "cell_type": "markdown",
   "id": "8a33fb39",
   "metadata": {},
   "source": [
    "### Random Forest"
   ]
  },
  {
   "cell_type": "code",
   "execution_count": null,
   "id": "23c0da7b",
   "metadata": {},
   "outputs": [],
   "source": [
    "Num_rounds = 5\n",
    "\n",
    "index = np.arange(Num_rounds)\n",
    "bar_width = 0.35\n",
    "\n",
    "fig, ax = plt.subplots(figsize = (10,5))\n",
    "\n",
    "baseline = ax.bar(index, Results_RandomForest_r2_Baseline[:Num_rounds], bar_width, label = 'Baseline data')\n",
    "ibge = ax.bar(index + bar_width, Results_RandomForest_r2[:Num_rounds], bar_width, label = 'Baseline+IBGE data')\n",
    "\n",
    "ax.set_xlabel('Round of 5-fold cross validation')\n",
    "ax.set_ylabel('R2')\n",
    "ax.set_title(\"Comparing models for Random Forest\", fontsize = 20)\n",
    "ax.legend()\n",
    "ax.set_ylim([0.5, 0.85])\n",
    "\n",
    "plt.show()"
   ]
  },
  {
   "cell_type": "markdown",
   "id": "4b08e264",
   "metadata": {},
   "source": [
    "## Test data leakage including price per square foot"
   ]
  },
  {
   "cell_type": "markdown",
   "id": "8ac9e78a",
   "metadata": {},
   "source": [
    "Add the information about price per square, that was calculated dividing the price by the footage, to sse how the models perform when the target information is leaked in the features."
   ]
  },
  {
   "cell_type": "markdown",
   "id": "8015c320",
   "metadata": {},
   "source": [
    "I'll consider only the baseline data."
   ]
  },
  {
   "cell_type": "markdown",
   "id": "06cd6c48",
   "metadata": {},
   "source": [
    "Consider Decision Tree and Random Forest models."
   ]
  },
  {
   "cell_type": "code",
   "execution_count": null,
   "id": "50216248",
   "metadata": {},
   "outputs": [],
   "source": [
    "X_Data_Baseline_Leaked = df_prices[['Metragem', 'Quartos', 'Banheiros', 'Vagas', 'Valor/m2']].to_numpy()\n",
    "X_Data = df_prices_ibge[['Metragem', 'Quartos', 'Banheiros', 'Vagas', 'V005', 'V007', 'V009', 'V011']].to_numpy()"
   ]
  },
  {
   "cell_type": "markdown",
   "id": "1b8aa628",
   "metadata": {},
   "source": [
    "### Decision Tree"
   ]
  },
  {
   "cell_type": "code",
   "execution_count": null,
   "id": "15ce9b41",
   "metadata": {},
   "outputs": [],
   "source": [
    "RegressorTree = tree.DecisionTreeRegressor()\n",
    "Results_DecisionTree_r2_Baseline_Leaked = []\n",
    "Results_DecisionTree_mae_Baseline_Leaked = []\n",
    "for i in range(30):\n",
    "    kfold = KFold(n_splits = 5, shuffle = True, random_state = i)\n",
    "    scores = cross_validate(RegressorTree, X_Data_Baseline_Leaked, Y_Data_Baseline, cv = kfold, scoring = ('r2', 'neg_mean_absolute_error'))\n",
    "    \n",
    "    Results_DecisionTree_r2_Baseline_Leaked.append(scores['test_r2'].mean())\n",
    "    Results_DecisionTree_mae_Baseline_Leaked.append((-1)*scores['test_neg_mean_absolute_error'].mean())\n",
    "print(\"r2 mean: \", np.array(Results_DecisionTree_r2_Baseline_Leaked).mean())\n",
    "print(\"r2 var: \", np.array(Results_DecisionTree_r2_Baseline_Leaked).var())\n",
    "print(\"Mae mean: \", np.array(Results_DecisionTree_mae_Baseline_Leaked).mean())\n",
    "print(\"Mae var: \", np.array(Results_DecisionTree_mae_Baseline_Leaked).var())"
   ]
  },
  {
   "cell_type": "markdown",
   "id": "d83ce5d8",
   "metadata": {},
   "source": [
    "### Random Forest"
   ]
  },
  {
   "cell_type": "code",
   "execution_count": null,
   "id": "9a51da34",
   "metadata": {},
   "outputs": [],
   "source": [
    "RandomForest = RandomForestRegressor(n_estimators = 50)\n",
    "Results_RandomForest_r2_Baseline_Leaked = []\n",
    "Results_RandomForest_mae_Baseline_Leaked = []\n",
    "for i in range(30):\n",
    "    kfold = KFold(n_splits = 5, shuffle = True, random_state = i)\n",
    "    scores = cross_validate(RandomForest, X_Data_Baseline_Leaked, Y_Data_Baseline, cv = kfold, scoring = ('r2', 'neg_mean_absolute_error'))\n",
    "    \n",
    "    Results_RandomForest_r2_Baseline_Leaked.append(scores['test_r2'].mean())\n",
    "    Results_RandomForest_mae_Baseline_Leaked.append((-1)*scores['test_neg_mean_absolute_error'].mean())\n",
    "print(\"r2 mean: \", np.array(Results_RandomForest_r2_Baseline_Leaked).mean())\n",
    "print(\"r2 var: \", np.array(Results_RandomForest_r2_Baseline_Leaked).var())\n",
    "print(\"Mae mean: \", np.array(Results_RandomForest_mae_Baseline_Leaked).mean())\n",
    "print(\"Mae var: \", np.array(Results_RandomForest_mae_Baseline_Leaked).var())"
   ]
  },
  {
   "cell_type": "markdown",
   "id": "efa4c5ce",
   "metadata": {},
   "source": [
    "**We can see that, even without considering IBGE data, these two models performed better than any model before. Indeed, they almost reached the maximum value of 1.0 for the R2 metric and had a much smaller Mean Absolute Error.**"
   ]
  },
  {
   "cell_type": "markdown",
   "id": "be4cbd6c",
   "metadata": {},
   "source": [
    "**These results are due the leakage of the price target in the feature price per square foot.**"
   ]
  },
  {
   "cell_type": "markdown",
   "id": "fe8a6899",
   "metadata": {},
   "source": [
    "## Use best model in real data"
   ]
  },
  {
   "cell_type": "markdown",
   "id": "87c60019",
   "metadata": {},
   "source": [
    "I'll get real data from 5 houses that are being sold in the website https://www.zapimoveis.com.br/"
   ]
  },
  {
   "cell_type": "markdown",
   "id": "744acd4b",
   "metadata": {},
   "source": [
    "I'll consider only the best machine learning model obtaneid before, which is random forest using the baseline data plus IBGE data."
   ]
  },
  {
   "cell_type": "markdown",
   "id": "13865c94",
   "metadata": {},
   "source": [
    "Train model using the entire data:"
   ]
  },
  {
   "cell_type": "code",
   "execution_count": null,
   "id": "a142279a",
   "metadata": {},
   "outputs": [],
   "source": [
    "RandomForest = RandomForestRegressor(n_estimators = 50)\n",
    "\n",
    "RandomForest.fit(X_Data, Y_Data)"
   ]
  },
  {
   "cell_type": "markdown",
   "id": "5709dd49",
   "metadata": {},
   "source": [
    "Construct dataframe with the real data from 5 houses"
   ]
  },
  {
   "cell_type": "markdown",
   "id": "8955e544",
   "metadata": {},
   "source": [
    "Links for chosen houses:\n",
    "<br>\n",
    "1 - https://www.zapimoveis.com.br/imovel/venda-apartamento-2-quartos-com-piscina-santo-amaro-zona-sul-sao-paulo-sp-41m2-id-2552674191/\n",
    "<br>\n",
    "2 - https://www.zapimoveis.com.br/imovel/venda-apartamento-3-quartos-com-interfone-paraiso-zona-sul-sao-paulo-sp-107m2-id-2565116229/\n",
    "<br>\n",
    "3 - https://www.zapimoveis.com.br/imovel/venda-apartamento-3-quartos-com-piscina-moema-zona-sul-sao-paulo-sp-172m2-id-2550264057/\n",
    "<br>\n",
    "4 - https://www.zapimoveis.com.br/imovel/venda-apartamento-2-quartos-com-piscina-vila-leopoldina-zona-oeste-sao-paulo-sp-69m2-id-2462108806/\n",
    "<br>\n",
    "5 - https://www.zapimoveis.com.br/imovel/venda-apartamento-3-quartos-com-piscina-brooklin-zona-sul-sao-paulo-sp-131m2-id-2557941187/"
   ]
  },
  {
   "cell_type": "code",
   "execution_count": null,
   "id": "d938c549",
   "metadata": {},
   "outputs": [],
   "source": [
    "data_real_houses = {'Rua':['Avenida Mário Lopes Leão, 916', 'Rua Doutor Tomás Carvalhal', 'Avenida Cotovia', 'Rua Lauriano Fernandes Júnior', 'Rua Michigan, 470'],\n",
    "                   'Metragem':[41, 107, 172, 69, 131],\n",
    "                   'Quartos':[2, 3, 3, 2, 3],\n",
    "                   'Banheiros':[1, 2, 5, 2, 5],\n",
    "                   'Vagas':[1, 1, 3, 1, 2],\n",
    "                   'Valor':[0.154900, 1.060000, 3.386078, 0.760000, 2.338000]}\n",
    "df_real_houses = pd.DataFrame(data_real_houses, index = [1,2,3,4,5])"
   ]
  },
  {
   "cell_type": "code",
   "execution_count": null,
   "id": "bbccac8f",
   "metadata": {},
   "outputs": [],
   "source": [
    "df_real_houses"
   ]
  },
  {
   "cell_type": "markdown",
   "id": "155137d0",
   "metadata": {},
   "source": [
    "**Add IBGE data**"
   ]
  },
  {
   "cell_type": "markdown",
   "id": "603120dd",
   "metadata": {},
   "source": [
    "I organized the code of day 4 to add IBGE data in a single function"
   ]
  },
  {
   "cell_type": "code",
   "execution_count": null,
   "id": "a22dbd62",
   "metadata": {},
   "outputs": [],
   "source": [
    "import geopandas as gpd\n",
    "from shapely.geometry import Point\n",
    "\n",
    "def AddIBGEdata(df):\n",
    "    #Read data from enderecos.csv\n",
    "    df_address = pd.read_csv('../data/interim/Data_Day4_Address.csv', sep = ',', encoding = 'utf_8')\n",
    "\n",
    "    #Extract address data from collumn 'Rua', and create column 'Rua_Compare' to make merge with df_address\n",
    "    df[\"Rua_Compare\"] = df[\"Rua\"].str.extract(r'(^[\\w ]+)')\n",
    "    df[\"Rua_Compare\"] = df[\"Rua_Compare\"].str.lower().str.strip()\n",
    "\n",
    "    #Merge df and df_address\n",
    "    df_merged = df.merge(df_address[['cep','latitude','longitude','Rua_Compare']], how = 'left', left_on = 'Rua_Compare', right_on = \"Rua_Compare\")\n",
    "\n",
    "    #Drop duplicates\n",
    "    df_merged.drop_duplicates(subset=df.columns, inplace = True)\n",
    "\n",
    "    #Get data from censo sectors  in Sao Paulo using geopandas\n",
    "    setor_censo = gpd.read_file('../data/external/Data_Geopandas/35SEE250GC_SIR.shp')\n",
    "    setor_censo_sp = setor_censo[setor_censo.NM_MUNICIP == \"SÃO PAULO\"]\n",
    "\n",
    "    df_merged[\"Point\"] = \"\"\n",
    "    for i in df_merged.index:\n",
    "        df_merged[\"Point\"][i] = Point(df_merged[\"longitude\"][i], df_merged[\"latitude\"][i])\n",
    "    df_merged['setor_censo'] = df_merged[\"Point\"].map(lambda x: setor_censo_sp.loc[setor_censo_sp.contains(x), 'CD_GEOCODI'].values).str[0]\n",
    "\n",
    "    df_merged['setor_censo'] = pd.to_numeric(df_merged['setor_censo'])\n",
    "    \n",
    "    #Drop rows with NaN value in 'setor_censo'\n",
    "    df_merged.drop(df_merged[df_merged['setor_censo'].isnull()].index.tolist(), axis = 0, inplace = True)\n",
    "    \n",
    "    #Get data from IBGE (already clenaed)\n",
    "    df_ibge = pd.read_csv('../data/interim/IBGE_cleaned.csv')\n",
    "\n",
    "    #Merge the original dataframe with IBGE dataframe\n",
    "    df_prices_ibge = pd.merge(left = df_merged, right = df_ibge, how = \"left\", left_on = \"setor_censo\", right_on = \"Cod_setor\")\n",
    "\n",
    "    return df_prices_ibge[['Metragem', 'Quartos', 'Banheiros', 'Vagas', 'Valor', 'V005', 'V007', 'V009', 'V011']]"
   ]
  },
  {
   "cell_type": "code",
   "execution_count": null,
   "id": "47433c62",
   "metadata": {},
   "outputs": [],
   "source": [
    "df_real_houses_ibge = AddIBGEdata(df_real_houses)"
   ]
  },
  {
   "cell_type": "code",
   "execution_count": null,
   "id": "749e8f59",
   "metadata": {},
   "outputs": [],
   "source": [
    "df_real_houses_ibge"
   ]
  },
  {
   "cell_type": "code",
   "execution_count": null,
   "id": "c755c51c",
   "metadata": {},
   "outputs": [],
   "source": [
    "X_Data_real = df_real_houses_ibge[['Metragem', 'Quartos', 'Banheiros', 'Vagas', 'V005', 'V007', 'V009', 'V011']].to_numpy()\n",
    "Y_Data_real = df_real_houses_ibge['Valor'].to_numpy().reshape((5,))"
   ]
  },
  {
   "cell_type": "code",
   "execution_count": null,
   "id": "0629378a",
   "metadata": {},
   "outputs": [],
   "source": [
    "predictions = RandomForest.predict(X_Data_real)\n",
    "predictions"
   ]
  },
  {
   "cell_type": "markdown",
   "id": "79b22d2b",
   "metadata": {},
   "source": [
    "Change units to reais (Brazilian currency). Before, it was in units of 10^6 reais"
   ]
  },
  {
   "cell_type": "code",
   "execution_count": null,
   "id": "19f51ae2",
   "metadata": {},
   "outputs": [],
   "source": [
    "predictions = (1e6)*predictions\n",
    "Y_Data_real = (1e6)*Y_Data_real"
   ]
  },
  {
   "cell_type": "code",
   "execution_count": null,
   "id": "ad78721a",
   "metadata": {},
   "outputs": [],
   "source": [
    "table = {'Predicted price':predictions, 'Real price':Y_Data_real}\n",
    "df_table = pd.DataFrame(table)"
   ]
  },
  {
   "cell_type": "code",
   "execution_count": null,
   "id": "c05dd042",
   "metadata": {},
   "outputs": [],
   "source": [
    "df_table"
   ]
  },
  {
   "cell_type": "markdown",
   "id": "dbcbd37c",
   "metadata": {},
   "source": [
    "Calculate R2 and Mean absolute Error"
   ]
  },
  {
   "cell_type": "code",
   "execution_count": null,
   "id": "04a05191",
   "metadata": {},
   "outputs": [],
   "source": [
    "from sklearn.metrics import mean_absolute_error, r2_score"
   ]
  },
  {
   "cell_type": "markdown",
   "id": "8fff61cf",
   "metadata": {},
   "source": [
    "Change again to units of 10^6 reais, to compare with previous metrics."
   ]
  },
  {
   "cell_type": "code",
   "execution_count": null,
   "id": "510bea16",
   "metadata": {},
   "outputs": [],
   "source": [
    "predictions = (1e-6)*predictions\n",
    "Y_Data_real = (1e-6)*Y_Data_real"
   ]
  },
  {
   "cell_type": "code",
   "execution_count": null,
   "id": "27e9feed",
   "metadata": {},
   "outputs": [],
   "source": [
    "print(\"Mae: \", mean_absolute_error(Y_Data_real, predictions))\n",
    "print(\"R2: \", r2_score(Y_Data_real, predictions))"
   ]
  },
  {
   "cell_type": "markdown",
   "id": "a8a4e8b1",
   "metadata": {},
   "source": [
    "**Both of the metrics were worse compared to the previous test. Our model seems to have not generalized well to external data.**"
   ]
  },
  {
   "cell_type": "code",
   "execution_count": null,
   "id": "ddbf948f",
   "metadata": {},
   "outputs": [],
   "source": []
  }
 ],
 "metadata": {
  "kernelspec": {
   "display_name": "Python [conda env:dada_science]",
   "language": "python",
   "name": "conda-env-dada_science-py"
  },
  "language_info": {
   "codemirror_mode": {
    "name": "ipython",
    "version": 3
   },
   "file_extension": ".py",
   "mimetype": "text/x-python",
   "name": "python",
   "nbconvert_exporter": "python",
   "pygments_lexer": "ipython3",
   "version": "3.9.12"
  }
 },
 "nbformat": 4,
 "nbformat_minor": 5
}
