{
 "cells": [
  {
   "cell_type": "code",
   "execution_count": 51,
   "id": "a053609d",
   "metadata": {},
   "outputs": [],
   "source": [
    "import numpy as np\n",
    "import pandas as pd\n",
    "from sklearn.model_selection import cross_validate, KFold"
   ]
  },
  {
   "cell_type": "markdown",
   "id": "f204f18f",
   "metadata": {},
   "source": [
    "## Baseline models"
   ]
  },
  {
   "cell_type": "markdown",
   "id": "df1fe578",
   "metadata": {},
   "source": [
    "I'll create baseline models using just the data in the Sao Paulo house prifes dataframe. This will be used to verify if adding the data from ibge was useful the improve the models."
   ]
  },
  {
   "cell_type": "markdown",
   "id": "69f056d0",
   "metadata": {},
   "source": [
    "I'll use cross validation"
   ]
  },
  {
   "cell_type": "markdown",
   "id": "752c40cd",
   "metadata": {},
   "source": [
    "### Load Sao Paulo house prices data"
   ]
  },
  {
   "cell_type": "code",
   "execution_count": 52,
   "id": "645c0e5b",
   "metadata": {},
   "outputs": [],
   "source": [
    "df_prices = pd.read_csv('../data/processed/Data_prices_processed.csv')"
   ]
  },
  {
   "cell_type": "code",
   "execution_count": 53,
   "id": "81dda130",
   "metadata": {},
   "outputs": [
    {
     "data": {
      "text/html": [
       "<div>\n",
       "<style scoped>\n",
       "    .dataframe tbody tr th:only-of-type {\n",
       "        vertical-align: middle;\n",
       "    }\n",
       "\n",
       "    .dataframe tbody tr th {\n",
       "        vertical-align: top;\n",
       "    }\n",
       "\n",
       "    .dataframe thead th {\n",
       "        text-align: right;\n",
       "    }\n",
       "</style>\n",
       "<table border=\"1\" class=\"dataframe\">\n",
       "  <thead>\n",
       "    <tr style=\"text-align: right;\">\n",
       "      <th></th>\n",
       "      <th>Metragem</th>\n",
       "      <th>Quartos</th>\n",
       "      <th>Banheiros</th>\n",
       "      <th>Vagas</th>\n",
       "      <th>Valor</th>\n",
       "      <th>Valor/m2</th>\n",
       "    </tr>\n",
       "  </thead>\n",
       "  <tbody>\n",
       "    <tr>\n",
       "      <th>count</th>\n",
       "      <td>8737.000000</td>\n",
       "      <td>8737.000000</td>\n",
       "      <td>8737.000000</td>\n",
       "      <td>8737.000000</td>\n",
       "      <td>8737.000000</td>\n",
       "      <td>8737.000000</td>\n",
       "    </tr>\n",
       "    <tr>\n",
       "      <th>mean</th>\n",
       "      <td>328.490901</td>\n",
       "      <td>3.330434</td>\n",
       "      <td>3.688337</td>\n",
       "      <td>3.742818</td>\n",
       "      <td>2.875162</td>\n",
       "      <td>7.952608</td>\n",
       "    </tr>\n",
       "    <tr>\n",
       "      <th>std</th>\n",
       "      <td>226.987330</td>\n",
       "      <td>0.843326</td>\n",
       "      <td>1.806972</td>\n",
       "      <td>2.055244</td>\n",
       "      <td>3.542127</td>\n",
       "      <td>5.172015</td>\n",
       "    </tr>\n",
       "    <tr>\n",
       "      <th>min</th>\n",
       "      <td>10.000000</td>\n",
       "      <td>1.000000</td>\n",
       "      <td>1.000000</td>\n",
       "      <td>1.000000</td>\n",
       "      <td>0.013000</td>\n",
       "      <td>0.034404</td>\n",
       "    </tr>\n",
       "    <tr>\n",
       "      <th>25%</th>\n",
       "      <td>165.000000</td>\n",
       "      <td>3.000000</td>\n",
       "      <td>2.000000</td>\n",
       "      <td>2.000000</td>\n",
       "      <td>0.855000</td>\n",
       "      <td>4.750000</td>\n",
       "    </tr>\n",
       "    <tr>\n",
       "      <th>50%</th>\n",
       "      <td>265.000000</td>\n",
       "      <td>3.000000</td>\n",
       "      <td>4.000000</td>\n",
       "      <td>3.000000</td>\n",
       "      <td>1.740000</td>\n",
       "      <td>6.486486</td>\n",
       "    </tr>\n",
       "    <tr>\n",
       "      <th>75%</th>\n",
       "      <td>427.000000</td>\n",
       "      <td>4.000000</td>\n",
       "      <td>5.000000</td>\n",
       "      <td>5.000000</td>\n",
       "      <td>3.500000</td>\n",
       "      <td>9.375000</td>\n",
       "    </tr>\n",
       "    <tr>\n",
       "      <th>max</th>\n",
       "      <td>2850.000000</td>\n",
       "      <td>5.000000</td>\n",
       "      <td>10.000000</td>\n",
       "      <td>10.000000</td>\n",
       "      <td>45.825000</td>\n",
       "      <td>80.000000</td>\n",
       "    </tr>\n",
       "  </tbody>\n",
       "</table>\n",
       "</div>"
      ],
      "text/plain": [
       "          Metragem      Quartos    Banheiros        Vagas        Valor  \\\n",
       "count  8737.000000  8737.000000  8737.000000  8737.000000  8737.000000   \n",
       "mean    328.490901     3.330434     3.688337     3.742818     2.875162   \n",
       "std     226.987330     0.843326     1.806972     2.055244     3.542127   \n",
       "min      10.000000     1.000000     1.000000     1.000000     0.013000   \n",
       "25%     165.000000     3.000000     2.000000     2.000000     0.855000   \n",
       "50%     265.000000     3.000000     4.000000     3.000000     1.740000   \n",
       "75%     427.000000     4.000000     5.000000     5.000000     3.500000   \n",
       "max    2850.000000     5.000000    10.000000    10.000000    45.825000   \n",
       "\n",
       "          Valor/m2  \n",
       "count  8737.000000  \n",
       "mean      7.952608  \n",
       "std       5.172015  \n",
       "min       0.034404  \n",
       "25%       4.750000  \n",
       "50%       6.486486  \n",
       "75%       9.375000  \n",
       "max      80.000000  "
      ]
     },
     "execution_count": 53,
     "metadata": {},
     "output_type": "execute_result"
    }
   ],
   "source": [
    "df_prices.describe()"
   ]
  },
  {
   "cell_type": "code",
   "execution_count": 54,
   "id": "ebab8b4f",
   "metadata": {},
   "outputs": [
    {
     "data": {
      "text/html": [
       "<div>\n",
       "<style scoped>\n",
       "    .dataframe tbody tr th:only-of-type {\n",
       "        vertical-align: middle;\n",
       "    }\n",
       "\n",
       "    .dataframe tbody tr th {\n",
       "        vertical-align: top;\n",
       "    }\n",
       "\n",
       "    .dataframe thead th {\n",
       "        text-align: right;\n",
       "    }\n",
       "</style>\n",
       "<table border=\"1\" class=\"dataframe\">\n",
       "  <thead>\n",
       "    <tr style=\"text-align: right;\">\n",
       "      <th></th>\n",
       "      <th>Rua</th>\n",
       "      <th>Bairro</th>\n",
       "      <th>Cidade</th>\n",
       "      <th>Metragem</th>\n",
       "      <th>Quartos</th>\n",
       "      <th>Banheiros</th>\n",
       "      <th>Vagas</th>\n",
       "      <th>Valor</th>\n",
       "      <th>Valor/m2</th>\n",
       "    </tr>\n",
       "  </thead>\n",
       "  <tbody>\n",
       "    <tr>\n",
       "      <th>0</th>\n",
       "      <td>Avenida Itacira, 255</td>\n",
       "      <td>Planalto Paulista</td>\n",
       "      <td>São Paulo</td>\n",
       "      <td>1000</td>\n",
       "      <td>4</td>\n",
       "      <td>8</td>\n",
       "      <td>6</td>\n",
       "      <td>7.000</td>\n",
       "      <td>7.000000</td>\n",
       "    </tr>\n",
       "    <tr>\n",
       "      <th>1</th>\n",
       "      <td>Rua Aurelia Perez Alvarez, 42</td>\n",
       "      <td>Jardim dos Estados</td>\n",
       "      <td>São Paulo</td>\n",
       "      <td>496</td>\n",
       "      <td>4</td>\n",
       "      <td>4</td>\n",
       "      <td>4</td>\n",
       "      <td>3.700</td>\n",
       "      <td>7.459677</td>\n",
       "    </tr>\n",
       "    <tr>\n",
       "      <th>2</th>\n",
       "      <td>Rua Alba Valdez</td>\n",
       "      <td>Jardim Reimberg</td>\n",
       "      <td>São Paulo</td>\n",
       "      <td>125</td>\n",
       "      <td>4</td>\n",
       "      <td>3</td>\n",
       "      <td>2</td>\n",
       "      <td>0.380</td>\n",
       "      <td>3.040000</td>\n",
       "    </tr>\n",
       "    <tr>\n",
       "      <th>3</th>\n",
       "      <td>NaN</td>\n",
       "      <td>Jardim Morumbi</td>\n",
       "      <td>São Paulo</td>\n",
       "      <td>310</td>\n",
       "      <td>3</td>\n",
       "      <td>2</td>\n",
       "      <td>4</td>\n",
       "      <td>0.685</td>\n",
       "      <td>2.209677</td>\n",
       "    </tr>\n",
       "    <tr>\n",
       "      <th>4</th>\n",
       "      <td>Rua Tobias Barreto, 195</td>\n",
       "      <td>Mooca</td>\n",
       "      <td>São Paulo</td>\n",
       "      <td>100</td>\n",
       "      <td>3</td>\n",
       "      <td>2</td>\n",
       "      <td>2</td>\n",
       "      <td>0.540</td>\n",
       "      <td>5.400000</td>\n",
       "    </tr>\n",
       "  </tbody>\n",
       "</table>\n",
       "</div>"
      ],
      "text/plain": [
       "                              Rua              Bairro     Cidade  Metragem  \\\n",
       "0           Avenida Itacira, 255    Planalto Paulista  São Paulo      1000   \n",
       "1  Rua Aurelia Perez Alvarez, 42   Jardim dos Estados  São Paulo       496   \n",
       "2                 Rua Alba Valdez     Jardim Reimberg  São Paulo       125   \n",
       "3                             NaN      Jardim Morumbi  São Paulo       310   \n",
       "4        Rua Tobias Barreto, 195                Mooca  São Paulo       100   \n",
       "\n",
       "   Quartos  Banheiros  Vagas  Valor  Valor/m2  \n",
       "0        4          8      6  7.000  7.000000  \n",
       "1        4          4      4  3.700  7.459677  \n",
       "2        4          3      2  0.380  3.040000  \n",
       "3        3          2      4  0.685  2.209677  \n",
       "4        3          2      2  0.540  5.400000  "
      ]
     },
     "execution_count": 54,
     "metadata": {},
     "output_type": "execute_result"
    }
   ],
   "source": [
    "df_prices.head()"
   ]
  },
  {
   "cell_type": "code",
   "execution_count": 55,
   "id": "688d312b",
   "metadata": {},
   "outputs": [
    {
     "data": {
      "text/plain": [
       "(8737, 9)"
      ]
     },
     "execution_count": 55,
     "metadata": {},
     "output_type": "execute_result"
    }
   ],
   "source": [
    "df_prices.shape"
   ]
  },
  {
   "cell_type": "code",
   "execution_count": 56,
   "id": "e312c12b",
   "metadata": {},
   "outputs": [],
   "source": [
    "X_Data_Baseline = df_prices[['Metragem', 'Quartos', 'Banheiros', 'Vagas']].to_numpy()\n",
    "Y_Data_Baseline = df_prices[['Valor']].to_numpy().reshape((8737,))"
   ]
  },
  {
   "cell_type": "markdown",
   "id": "0e392210",
   "metadata": {},
   "source": [
    "### Linear regression"
   ]
  },
  {
   "cell_type": "code",
   "execution_count": 57,
   "id": "db59f987",
   "metadata": {},
   "outputs": [],
   "source": [
    "from sklearn.linear_model import LinearRegression"
   ]
  },
  {
   "cell_type": "code",
   "execution_count": 58,
   "id": "0a4e6b10",
   "metadata": {},
   "outputs": [
    {
     "name": "stdout",
     "output_type": "stream",
     "text": [
      "r2 mean:  0.4736413945047966\n",
      "r2 var:  2.9099358720755596e-06\n",
      "Mae mean:  1.364538901906584\n",
      "Mae var:  5.815745130742452e-07\n"
     ]
    }
   ],
   "source": [
    "LinearRegressionModel = LinearRegression()\n",
    "Results_LinearRegression_r2_Baseline = []\n",
    "Results_LinearRegression_mae_Baseline = []\n",
    "for i in range(30):\n",
    "    kfold = KFold(n_splits = 5, shuffle = True, random_state = i)\n",
    "    scores = cross_validate(LinearRegressionModel, X_Data_Baseline, Y_Data_Baseline, cv = kfold, scoring = ('r2', 'neg_mean_absolute_error'))\n",
    "    \n",
    "    Results_LinearRegression_r2_Baseline.append(scores['test_r2'].mean())\n",
    "    Results_LinearRegression_mae_Baseline.append((-1)*scores['test_neg_mean_absolute_error'].mean())\n",
    "print(\"r2 mean: \", np.array(Results_LinearRegression_r2_Baseline).mean())\n",
    "print(\"r2 var: \", np.array(Results_LinearRegression_r2_Baseline).var())\n",
    "print(\"Mae mean: \", np.array(Results_LinearRegression_mae_Baseline).mean())\n",
    "print(\"Mae var: \", np.array(Results_LinearRegression_mae_Baseline).var())"
   ]
  },
  {
   "cell_type": "markdown",
   "id": "d61c054b",
   "metadata": {},
   "source": [
    "### Decision tree"
   ]
  },
  {
   "cell_type": "code",
   "execution_count": 59,
   "id": "4e984fb8",
   "metadata": {},
   "outputs": [],
   "source": [
    "from sklearn import tree"
   ]
  },
  {
   "cell_type": "code",
   "execution_count": 60,
   "id": "6011fbf0",
   "metadata": {},
   "outputs": [
    {
     "name": "stdout",
     "output_type": "stream",
     "text": [
      "r2 mean:  0.31855657178158064\n",
      "r2 var:  0.0008117793055756881\n",
      "Mae mean:  1.3390374552751787\n",
      "Mae var:  0.00034675609227513164\n"
     ]
    }
   ],
   "source": [
    "RegressorTree = tree.DecisionTreeRegressor()\n",
    "Results_DecisionTree_r2_Baseline = []\n",
    "Results_DecisionTree_mae_Baseline = []\n",
    "for i in range(30):\n",
    "    kfold = KFold(n_splits = 5, shuffle = True, random_state = i)\n",
    "    scores = cross_validate(RegressorTree, X_Data_Baseline, Y_Data_Baseline, cv = kfold, scoring = ('r2', 'neg_mean_absolute_error'))\n",
    "    \n",
    "    Results_DecisionTree_r2_Baseline.append(scores['test_r2'].mean())\n",
    "    Results_DecisionTree_mae_Baseline.append((-1)*scores['test_neg_mean_absolute_error'].mean())\n",
    "print(\"r2 mean: \", np.array(Results_DecisionTree_r2_Baseline).mean())\n",
    "print(\"r2 var: \", np.array(Results_DecisionTree_r2_Baseline).var())\n",
    "print(\"Mae mean: \", np.array(Results_DecisionTree_mae_Baseline).mean())\n",
    "print(\"Mae var: \", np.array(Results_DecisionTree_mae_Baseline).var())"
   ]
  },
  {
   "cell_type": "markdown",
   "id": "63994339",
   "metadata": {},
   "source": [
    "### Random Forest"
   ]
  },
  {
   "cell_type": "code",
   "execution_count": 61,
   "id": "c4f278cf",
   "metadata": {},
   "outputs": [],
   "source": [
    "from sklearn.ensemble import RandomForestRegressor"
   ]
  },
  {
   "cell_type": "code",
   "execution_count": 62,
   "id": "93387ed8",
   "metadata": {},
   "outputs": [
    {
     "name": "stdout",
     "output_type": "stream",
     "text": [
      "r2 mean:  0.5768340545545129\n",
      "r2 var:  0.00011085922398460027\n",
      "Mae mean:  1.2061993046282664\n",
      "Mae var:  6.906275405210455e-05\n"
     ]
    }
   ],
   "source": [
    "RandomForest = RandomForestRegressor(n_estimators = 50)\n",
    "Results_RandomForest_r2_Baseline = []\n",
    "Results_RandomForest_mae_Baseline = []\n",
    "for i in range(30):\n",
    "    kfold = KFold(n_splits = 5, shuffle = True, random_state = i)\n",
    "    scores = cross_validate(RandomForest, X_Data_Baseline, Y_Data_Baseline, cv = kfold, scoring = ('r2', 'neg_mean_absolute_error'))\n",
    "    \n",
    "    Results_RandomForest_r2_Baseline.append(scores['test_r2'].mean())\n",
    "    Results_RandomForest_mae_Baseline.append((-1)*scores['test_neg_mean_absolute_error'].mean())\n",
    "print(\"r2 mean: \", np.array(Results_RandomForest_r2_Baseline).mean())\n",
    "print(\"r2 var: \", np.array(Results_RandomForest_r2_Baseline).var())\n",
    "print(\"Mae mean: \", np.array(Results_RandomForest_mae_Baseline).mean())\n",
    "print(\"Mae var: \", np.array(Results_RandomForest_mae_Baseline).var())"
   ]
  },
  {
   "cell_type": "markdown",
   "id": "27a47c1d",
   "metadata": {},
   "source": [
    "## Models adding data from ibge"
   ]
  },
  {
   "cell_type": "code",
   "execution_count": 63,
   "id": "235bbc77",
   "metadata": {},
   "outputs": [],
   "source": [
    "df_prices_ibge = pd.read_csv('../data/processed/Data_prices_IBGE.csv')"
   ]
  },
  {
   "cell_type": "code",
   "execution_count": 64,
   "id": "d0967a02",
   "metadata": {},
   "outputs": [
    {
     "data": {
      "text/html": [
       "<div>\n",
       "<style scoped>\n",
       "    .dataframe tbody tr th:only-of-type {\n",
       "        vertical-align: middle;\n",
       "    }\n",
       "\n",
       "    .dataframe tbody tr th {\n",
       "        vertical-align: top;\n",
       "    }\n",
       "\n",
       "    .dataframe thead th {\n",
       "        text-align: right;\n",
       "    }\n",
       "</style>\n",
       "<table border=\"1\" class=\"dataframe\">\n",
       "  <thead>\n",
       "    <tr style=\"text-align: right;\">\n",
       "      <th></th>\n",
       "      <th>Metragem</th>\n",
       "      <th>Quartos</th>\n",
       "      <th>Banheiros</th>\n",
       "      <th>Vagas</th>\n",
       "      <th>Valor</th>\n",
       "      <th>V005</th>\n",
       "      <th>V007</th>\n",
       "      <th>V009</th>\n",
       "      <th>V011</th>\n",
       "    </tr>\n",
       "  </thead>\n",
       "  <tbody>\n",
       "    <tr>\n",
       "      <th>count</th>\n",
       "      <td>3754.000000</td>\n",
       "      <td>3754.000000</td>\n",
       "      <td>3754.000000</td>\n",
       "      <td>3754.000000</td>\n",
       "      <td>3754.000000</td>\n",
       "      <td>3754.000000</td>\n",
       "      <td>3754.000000</td>\n",
       "      <td>3754.000000</td>\n",
       "      <td>3754.000000</td>\n",
       "    </tr>\n",
       "    <tr>\n",
       "      <th>mean</th>\n",
       "      <td>306.571657</td>\n",
       "      <td>3.278636</td>\n",
       "      <td>3.582579</td>\n",
       "      <td>3.623601</td>\n",
       "      <td>2.260418</td>\n",
       "      <td>5763.161055</td>\n",
       "      <td>6680.525722</td>\n",
       "      <td>3157.863892</td>\n",
       "      <td>4728.000032</td>\n",
       "    </tr>\n",
       "    <tr>\n",
       "      <th>std</th>\n",
       "      <td>222.276473</td>\n",
       "      <td>0.834339</td>\n",
       "      <td>1.743848</td>\n",
       "      <td>2.027860</td>\n",
       "      <td>2.319280</td>\n",
       "      <td>5312.242348</td>\n",
       "      <td>6197.933333</td>\n",
       "      <td>2291.276899</td>\n",
       "      <td>3715.792259</td>\n",
       "    </tr>\n",
       "    <tr>\n",
       "      <th>min</th>\n",
       "      <td>20.000000</td>\n",
       "      <td>1.000000</td>\n",
       "      <td>1.000000</td>\n",
       "      <td>1.000000</td>\n",
       "      <td>0.130000</td>\n",
       "      <td>174.910000</td>\n",
       "      <td>591.660000</td>\n",
       "      <td>91.160000</td>\n",
       "      <td>599.130000</td>\n",
       "    </tr>\n",
       "    <tr>\n",
       "      <th>25%</th>\n",
       "      <td>152.000000</td>\n",
       "      <td>3.000000</td>\n",
       "      <td>2.000000</td>\n",
       "      <td>2.000000</td>\n",
       "      <td>0.798250</td>\n",
       "      <td>2320.860000</td>\n",
       "      <td>2661.020000</td>\n",
       "      <td>1549.977500</td>\n",
       "      <td>2191.992500</td>\n",
       "    </tr>\n",
       "    <tr>\n",
       "      <th>50%</th>\n",
       "      <td>249.500000</td>\n",
       "      <td>3.000000</td>\n",
       "      <td>3.000000</td>\n",
       "      <td>3.000000</td>\n",
       "      <td>1.500000</td>\n",
       "      <td>4180.640000</td>\n",
       "      <td>4835.465000</td>\n",
       "      <td>2606.500000</td>\n",
       "      <td>3763.030000</td>\n",
       "    </tr>\n",
       "    <tr>\n",
       "      <th>75%</th>\n",
       "      <td>400.000000</td>\n",
       "      <td>4.000000</td>\n",
       "      <td>5.000000</td>\n",
       "      <td>5.000000</td>\n",
       "      <td>2.887500</td>\n",
       "      <td>7512.910000</td>\n",
       "      <td>8471.430000</td>\n",
       "      <td>4071.685000</td>\n",
       "      <td>6063.920000</td>\n",
       "    </tr>\n",
       "    <tr>\n",
       "      <th>max</th>\n",
       "      <td>2850.000000</td>\n",
       "      <td>5.000000</td>\n",
       "      <td>10.000000</td>\n",
       "      <td>10.000000</td>\n",
       "      <td>30.000000</td>\n",
       "      <td>41175.730000</td>\n",
       "      <td>50741.200000</td>\n",
       "      <td>20651.940000</td>\n",
       "      <td>40653.970000</td>\n",
       "    </tr>\n",
       "  </tbody>\n",
       "</table>\n",
       "</div>"
      ],
      "text/plain": [
       "          Metragem      Quartos    Banheiros        Vagas        Valor  \\\n",
       "count  3754.000000  3754.000000  3754.000000  3754.000000  3754.000000   \n",
       "mean    306.571657     3.278636     3.582579     3.623601     2.260418   \n",
       "std     222.276473     0.834339     1.743848     2.027860     2.319280   \n",
       "min      20.000000     1.000000     1.000000     1.000000     0.130000   \n",
       "25%     152.000000     3.000000     2.000000     2.000000     0.798250   \n",
       "50%     249.500000     3.000000     3.000000     3.000000     1.500000   \n",
       "75%     400.000000     4.000000     5.000000     5.000000     2.887500   \n",
       "max    2850.000000     5.000000    10.000000    10.000000    30.000000   \n",
       "\n",
       "               V005          V007          V009          V011  \n",
       "count   3754.000000   3754.000000   3754.000000   3754.000000  \n",
       "mean    5763.161055   6680.525722   3157.863892   4728.000032  \n",
       "std     5312.242348   6197.933333   2291.276899   3715.792259  \n",
       "min      174.910000    591.660000     91.160000    599.130000  \n",
       "25%     2320.860000   2661.020000   1549.977500   2191.992500  \n",
       "50%     4180.640000   4835.465000   2606.500000   3763.030000  \n",
       "75%     7512.910000   8471.430000   4071.685000   6063.920000  \n",
       "max    41175.730000  50741.200000  20651.940000  40653.970000  "
      ]
     },
     "execution_count": 64,
     "metadata": {},
     "output_type": "execute_result"
    }
   ],
   "source": [
    "df_prices_ibge.describe()"
   ]
  },
  {
   "cell_type": "code",
   "execution_count": 65,
   "id": "745e3815",
   "metadata": {},
   "outputs": [
    {
     "data": {
      "text/plain": [
       "(3754, 9)"
      ]
     },
     "execution_count": 65,
     "metadata": {},
     "output_type": "execute_result"
    }
   ],
   "source": [
    "df_prices_ibge.shape"
   ]
  },
  {
   "cell_type": "code",
   "execution_count": 66,
   "id": "8ac1e431",
   "metadata": {},
   "outputs": [],
   "source": [
    "X_Data = df_prices_ibge[['Metragem', 'Quartos', 'Banheiros', 'Vagas', 'V005', 'V007', 'V009', 'V011']].to_numpy()\n",
    "Y_Data = df_prices_ibge['Valor'].to_numpy().reshape((3754,))"
   ]
  },
  {
   "cell_type": "markdown",
   "id": "9e61c8bb",
   "metadata": {},
   "source": [
    "### Linear regression"
   ]
  },
  {
   "cell_type": "code",
   "execution_count": 67,
   "id": "226bab3b",
   "metadata": {},
   "outputs": [
    {
     "name": "stdout",
     "output_type": "stream",
     "text": [
      "r2 mean:  0.5397150912676938\n",
      "r2 var:  1.682718830084865e-05\n",
      "Mae mean:  0.8658458415340011\n",
      "Mae var:  2.80413862775327e-06\n"
     ]
    }
   ],
   "source": [
    "LinearRegressionModel = LinearRegression()\n",
    "Results_LinearRegression_r2 = []\n",
    "Results_LinearRegression_mae = []\n",
    "for i in range(30):\n",
    "    kfold = KFold(n_splits = 5, shuffle = True, random_state = i)\n",
    "    scores = cross_validate(LinearRegressionModel, X_Data, Y_Data, cv = kfold, scoring = ('r2', 'neg_mean_absolute_error'))\n",
    "    \n",
    "    Results_LinearRegression_r2.append(scores['test_r2'].mean())\n",
    "    Results_LinearRegression_mae.append((-1)*scores['test_neg_mean_absolute_error'].mean())\n",
    "print(\"r2 mean: \", np.array(Results_LinearRegression_r2).mean())\n",
    "print(\"r2 var: \", np.array(Results_LinearRegression_r2).var())\n",
    "print(\"Mae mean: \", np.array(Results_LinearRegression_mae).mean())\n",
    "print(\"Mae var: \", np.array(Results_LinearRegression_mae).var())"
   ]
  },
  {
   "cell_type": "markdown",
   "id": "0c72b58d",
   "metadata": {},
   "source": [
    "### Decision Tree"
   ]
  },
  {
   "cell_type": "code",
   "execution_count": 68,
   "id": "d13e99ae",
   "metadata": {},
   "outputs": [
    {
     "name": "stdout",
     "output_type": "stream",
     "text": [
      "r2 mean:  0.5879196569946588\n",
      "r2 var:  0.0016613158611358324\n",
      "Mae mean:  0.5888318722119998\n",
      "Mae var:  0.0002936806761992083\n"
     ]
    }
   ],
   "source": [
    "RegressorTree = tree.DecisionTreeRegressor()\n",
    "Results_DecisionTree_r2 = []\n",
    "Results_DecisionTree_mae = []\n",
    "for i in range(30):\n",
    "    kfold = KFold(n_splits = 5, shuffle = True, random_state = i)\n",
    "    scores = cross_validate(RegressorTree, X_Data, Y_Data, cv = kfold, scoring = ('r2', 'neg_mean_absolute_error'))\n",
    "    \n",
    "    Results_DecisionTree_r2.append(scores['test_r2'].mean())\n",
    "    Results_DecisionTree_mae.append((-1)*scores['test_neg_mean_absolute_error'].mean())\n",
    "print(\"r2 mean: \", np.array(Results_DecisionTree_r2).mean())\n",
    "print(\"r2 var: \", np.array(Results_DecisionTree_r2).var())\n",
    "print(\"Mae mean: \", np.array(Results_DecisionTree_mae).mean())\n",
    "print(\"Mae var: \", np.array(Results_DecisionTree_mae).var())"
   ]
  },
  {
   "cell_type": "markdown",
   "id": "b887b1e3",
   "metadata": {},
   "source": [
    "### Random Forest"
   ]
  },
  {
   "cell_type": "code",
   "execution_count": 69,
   "id": "c8f0273a",
   "metadata": {},
   "outputs": [
    {
     "name": "stdout",
     "output_type": "stream",
     "text": [
      "r2 mean:  0.7667378617764993\n",
      "r2 var:  6.092546074324367e-05\n",
      "Mae mean:  0.5381050218061674\n",
      "Mae var:  4.930152499356902e-05\n"
     ]
    }
   ],
   "source": [
    "RandomForest = RandomForestRegressor(n_estimators = 50)\n",
    "Results_RandomForest_r2 = []\n",
    "Results_RandomForest_mae = []\n",
    "for i in range(30):\n",
    "    kfold = KFold(n_splits = 5, shuffle = True, random_state = i)\n",
    "    scores = cross_validate(RandomForest, X_Data, Y_Data, cv = kfold, scoring = ('r2', 'neg_mean_absolute_error'))\n",
    "    \n",
    "    Results_RandomForest_r2.append(scores['test_r2'].mean())\n",
    "    Results_RandomForest_mae.append((-1)*scores['test_neg_mean_absolute_error'].mean())\n",
    "print(\"r2 mean: \", np.array(Results_RandomForest_r2).mean())\n",
    "print(\"r2 var: \", np.array(Results_RandomForest_r2).var())\n",
    "print(\"Mae mean: \", np.array(Results_RandomForest_mae).mean())\n",
    "print(\"Mae var: \", np.array(Results_RandomForest_mae).var())"
   ]
  },
  {
   "cell_type": "markdown",
   "id": "93cca2ea",
   "metadata": {},
   "source": [
    "## Compare baseline models and models with ibge data"
   ]
  },
  {
   "cell_type": "markdown",
   "id": "a7b2146c",
   "metadata": {},
   "source": [
    "**It is immediate to see that, for all 3 models considered and for both of the scoring metrics, the models with ibge data performs much better than the respective model without ibge model**"
   ]
  },
  {
   "cell_type": "markdown",
   "id": "a38ce8ee",
   "metadata": {},
   "source": [
    "**From this, we can conclude that joing our original data with external data from ibge was useful and allowed us to improve our results.**"
   ]
  },
  {
   "cell_type": "markdown",
   "id": "16b64164",
   "metadata": {},
   "source": [
    "**Note that the decision tree with ibge data performed better than a random forest model without ibge data.**"
   ]
  },
  {
   "cell_type": "markdown",
   "id": "9c1c1f3e",
   "metadata": {},
   "source": [
    "Now, let's make some bar plots to compare the results of the R2 metric for each round in the cross validation tests. Compare only the 5 first rounds to make visualization easier."
   ]
  },
  {
   "cell_type": "code",
   "execution_count": 70,
   "id": "df03d015",
   "metadata": {},
   "outputs": [],
   "source": [
    "import matplotlib.pyplot as plt"
   ]
  },
  {
   "cell_type": "markdown",
   "id": "c480c1f3",
   "metadata": {},
   "source": [
    "### Linear Regression"
   ]
  },
  {
   "cell_type": "code",
   "execution_count": 71,
   "id": "e3412f76",
   "metadata": {},
   "outputs": [
    {
     "data": {
      "image/png": "[encoded data removed]",
      "text/plain": [
       "<Figure size 720x360 with 1 Axes>"
      ]
     },
     "metadata": {
      "needs_background": "light"
     },
     "output_type": "display_data"
    }
   ],
   "source": [
    "Num_rounds = 5\n",
    "\n",
    "index = np.arange(Num_rounds)\n",
    "bar_width = 0.35\n",
    "\n",
    "fig, ax = plt.subplots(figsize = (10,5))\n",
    "\n",
    "baseline = ax.bar(index, Results_LinearRegression_r2_Baseline[:Num_rounds], bar_width, label = 'Baseline data')\n",
    "ibge = ax.bar(index + bar_width, Results_LinearRegression_r2[:Num_rounds], bar_width, label = 'Baseline+IBGE data')\n",
    "\n",
    "ax.set_xlabel('Round of 5-fold cross validation')\n",
    "ax.set_ylabel('R2')\n",
    "ax.set_title(\"Comparing models for Linear Regression\", fontsize = 20)\n",
    "ax.legend()\n",
    "ax.set_ylim([0.45, 0.6])\n",
    "\n",
    "plt.show()"
   ]
  },
  {
   "cell_type": "markdown",
   "id": "2dafb2cc",
   "metadata": {},
   "source": [
    "### Decision Tree"
   ]
  },
  {
   "cell_type": "code",
   "execution_count": 72,
   "id": "3c0b9c5a",
   "metadata": {},
   "outputs": [
    {
     "data": {
      "image/png": "[encoded data removed]",
      "text/plain": [
       "<Figure size 720x360 with 1 Axes>"
      ]
     },
     "metadata": {
      "needs_background": "light"
     },
     "output_type": "display_data"
    }
   ],
   "source": [
    "Num_rounds = 5\n",
    "\n",
    "index = np.arange(Num_rounds)\n",
    "bar_width = 0.35\n",
    "\n",
    "fig, ax = plt.subplots(figsize = (10,5))\n",
    "\n",
    "baseline = ax.bar(index, Results_DecisionTree_r2_Baseline[:Num_rounds], bar_width, label = 'Baseline data')\n",
    "ibge = ax.bar(index + bar_width, Results_DecisionTree_r2[:Num_rounds], bar_width, label = 'Baseline+IBGE data')\n",
    "\n",
    "ax.set_xlabel('Round of 5-fold cross validation', fontsize = 14)\n",
    "ax.set_ylabel('R2', fontsize = 14)\n",
    "ax.set_title(\"Comparing models for Decision Tree\", fontsize = 20)\n",
    "ax.legend()\n",
    "ax.set_ylim([0.25, 0.65])\n",
    "\n",
    "plt.show()"
   ]
  },
  {
   "cell_type": "markdown",
   "id": "8a33fb39",
   "metadata": {},
   "source": [
    "### Random Forest"
   ]
  },
  {
   "cell_type": "code",
   "execution_count": 73,
   "id": "23c0da7b",
   "metadata": {},
   "outputs": [
    {
     "data": {
      "image/png": "[encoded data removed]",
      "text/plain": [
       "<Figure size 720x360 with 1 Axes>"
      ]
     },
     "metadata": {
      "needs_background": "light"
     },
     "output_type": "display_data"
    }
   ],
   "source": [
    "Num_rounds = 5\n",
    "\n",
    "index = np.arange(Num_rounds)\n",
    "bar_width = 0.35\n",
    "\n",
    "fig, ax = plt.subplots(figsize = (10,5))\n",
    "\n",
    "baseline = ax.bar(index, Results_RandomForest_r2_Baseline[:Num_rounds], bar_width, label = 'Baseline data')\n",
    "ibge = ax.bar(index + bar_width, Results_RandomForest_r2[:Num_rounds], bar_width, label = 'Baseline+IBGE data')\n",
    "\n",
    "ax.set_xlabel('Round of 5-fold cross validation')\n",
    "ax.set_ylabel('R2')\n",
    "ax.set_title(\"Comparing models for Random Forest\", fontsize = 20)\n",
    "ax.legend()\n",
    "ax.set_ylim([0.5, 0.85])\n",
    "\n",
    "plt.show()"
   ]
  },
  {
   "cell_type": "markdown",
   "id": "4b08e264",
   "metadata": {},
   "source": [
    "## Test data leakage including price per square foot"
   ]
  },
  {
   "cell_type": "markdown",
   "id": "8ac9e78a",
   "metadata": {},
   "source": [
    "Add the information about price per square, that was calculated dividing the price by the footage, to sse how the models perform when the target information is leaked in the features."
   ]
  },
  {
   "cell_type": "markdown",
   "id": "8015c320",
   "metadata": {},
   "source": [
    "I'll consider only the baseline data."
   ]
  },
  {
   "cell_type": "markdown",
   "id": "06cd6c48",
   "metadata": {},
   "source": [
    "Consider Decision Tree and Random Forest models."
   ]
  },
  {
   "cell_type": "code",
   "execution_count": 74,
   "id": "50216248",
   "metadata": {},
   "outputs": [],
   "source": [
    "X_Data_Baseline_Leaked = df_prices[['Metragem', 'Quartos', 'Banheiros', 'Vagas', 'Valor/m2']].to_numpy()\n",
    "X_Data = df_prices_ibge[['Metragem', 'Quartos', 'Banheiros', 'Vagas', 'V005', 'V007', 'V009', 'V011']].to_numpy()"
   ]
  },
  {
   "cell_type": "markdown",
   "id": "1b8aa628",
   "metadata": {},
   "source": [
    "### Decision Tree"
   ]
  },
  {
   "cell_type": "code",
   "execution_count": 75,
   "id": "15ce9b41",
   "metadata": {},
   "outputs": [
    {
     "name": "stdout",
     "output_type": "stream",
     "text": [
      "r2 mean:  0.9891400576945045\n",
      "r2 var:  3.6055001768551664e-06\n",
      "Mae mean:  0.06841621317761909\n",
      "Mae var:  6.57318675942973e-06\n"
     ]
    }
   ],
   "source": [
    "RegressorTree = tree.DecisionTreeRegressor()\n",
    "Results_DecisionTree_r2_Baseline_Leaked = []\n",
    "Results_DecisionTree_mae_Baseline_Leaked = []\n",
    "for i in range(30):\n",
    "    kfold = KFold(n_splits = 5, shuffle = True, random_state = i)\n",
    "    scores = cross_validate(RegressorTree, X_Data_Baseline_Leaked, Y_Data_Baseline, cv = kfold, scoring = ('r2', 'neg_mean_absolute_error'))\n",
    "    \n",
    "    Results_DecisionTree_r2_Baseline_Leaked.append(scores['test_r2'].mean())\n",
    "    Results_DecisionTree_mae_Baseline_Leaked.append((-1)*scores['test_neg_mean_absolute_error'].mean())\n",
    "print(\"r2 mean: \", np.array(Results_DecisionTree_r2_Baseline_Leaked).mean())\n",
    "print(\"r2 var: \", np.array(Results_DecisionTree_r2_Baseline_Leaked).var())\n",
    "print(\"Mae mean: \", np.array(Results_DecisionTree_mae_Baseline_Leaked).mean())\n",
    "print(\"Mae var: \", np.array(Results_DecisionTree_mae_Baseline_Leaked).var())"
   ]
  },
  {
   "cell_type": "markdown",
   "id": "d83ce5d8",
   "metadata": {},
   "source": [
    "### Random Forest"
   ]
  },
  {
   "cell_type": "code",
   "execution_count": 76,
   "id": "9a51da34",
   "metadata": {},
   "outputs": [
    {
     "name": "stdout",
     "output_type": "stream",
     "text": [
      "r2 mean:  0.9934989947429166\n",
      "r2 var:  8.355142002293238e-07\n",
      "Mae mean:  0.044985193719594176\n",
      "Mae var:  1.574133055359022e-06\n"
     ]
    }
   ],
   "source": [
    "RandomForest = RandomForestRegressor(n_estimators = 50)\n",
    "Results_RandomForest_r2_Baseline_Leaked = []\n",
    "Results_RandomForest_mae_Baseline_Leaked = []\n",
    "for i in range(30):\n",
    "    kfold = KFold(n_splits = 5, shuffle = True, random_state = i)\n",
    "    scores = cross_validate(RandomForest, X_Data_Baseline_Leaked, Y_Data_Baseline, cv = kfold, scoring = ('r2', 'neg_mean_absolute_error'))\n",
    "    \n",
    "    Results_RandomForest_r2_Baseline_Leaked.append(scores['test_r2'].mean())\n",
    "    Results_RandomForest_mae_Baseline_Leaked.append((-1)*scores['test_neg_mean_absolute_error'].mean())\n",
    "print(\"r2 mean: \", np.array(Results_RandomForest_r2_Baseline_Leaked).mean())\n",
    "print(\"r2 var: \", np.array(Results_RandomForest_r2_Baseline_Leaked).var())\n",
    "print(\"Mae mean: \", np.array(Results_RandomForest_mae_Baseline_Leaked).mean())\n",
    "print(\"Mae var: \", np.array(Results_RandomForest_mae_Baseline_Leaked).var())"
   ]
  },
  {
   "cell_type": "markdown",
   "id": "efa4c5ce",
   "metadata": {},
   "source": [
    "**We can see that, even without considering IBGE data, these two models performed better than any model before. Indeed, they almost reached the maximum value of 1.0 for the R2 metric and had a much smaller Mean Absolute Error.**"
   ]
  },
  {
   "cell_type": "markdown",
   "id": "be4cbd6c",
   "metadata": {},
   "source": [
    "**These results are due the leakage of the price target in the feature price per square foot.**"
   ]
  },
  {
   "cell_type": "markdown",
   "id": "fe8a6899",
   "metadata": {},
   "source": [
    "## Use best model in real data"
   ]
  },
  {
   "cell_type": "markdown",
   "id": "87c60019",
   "metadata": {},
   "source": [
    "I'll get real data from 5 houses that are being sold in the website https://www.zapimoveis.com.br/"
   ]
  },
  {
   "cell_type": "markdown",
   "id": "744acd4b",
   "metadata": {},
   "source": [
    "I'll consider only the best machine learning model obtaneid before, which is random forest using the baseline data plus IBGE data."
   ]
  },
  {
   "cell_type": "markdown",
   "id": "13865c94",
   "metadata": {},
   "source": [
    "Train model using the entire data:"
   ]
  },
  {
   "cell_type": "code",
   "execution_count": 77,
   "id": "a142279a",
   "metadata": {},
   "outputs": [
    {
     "data": {
      "text/plain": [
       "RandomForestRegressor(n_estimators=50)"
      ]
     },
     "execution_count": 77,
     "metadata": {},
     "output_type": "execute_result"
    }
   ],
   "source": [
    "RandomForest = RandomForestRegressor(n_estimators = 50)\n",
    "\n",
    "RandomForest.fit(X_Data, Y_Data)"
   ]
  },
  {
   "cell_type": "markdown",
   "id": "5709dd49",
   "metadata": {},
   "source": [
    "Construct dataframe with the real data from 5 houses"
   ]
  },
  {
   "cell_type": "markdown",
   "id": "8955e544",
   "metadata": {},
   "source": [
    "Links for chosen houses:\n",
    "<br>\n",
    "1 - https://www.zapimoveis.com.br/imovel/venda-apartamento-2-quartos-com-piscina-santo-amaro-zona-sul-sao-paulo-sp-41m2-id-2552674191/\n",
    "<br>\n",
    "2 - https://www.zapimoveis.com.br/imovel/venda-apartamento-3-quartos-com-interfone-paraiso-zona-sul-sao-paulo-sp-107m2-id-2565116229/\n",
    "<br>\n",
    "3 - https://www.zapimoveis.com.br/imovel/venda-apartamento-3-quartos-com-piscina-moema-zona-sul-sao-paulo-sp-172m2-id-2550264057/\n",
    "<br>\n",
    "4 - https://www.zapimoveis.com.br/imovel/venda-apartamento-2-quartos-com-piscina-vila-leopoldina-zona-oeste-sao-paulo-sp-69m2-id-2462108806/\n",
    "<br>\n",
    "5 - https://www.zapimoveis.com.br/imovel/venda-apartamento-3-quartos-com-piscina-brooklin-zona-sul-sao-paulo-sp-131m2-id-2557941187/"
   ]
  },
  {
   "cell_type": "code",
   "execution_count": 78,
   "id": "d938c549",
   "metadata": {},
   "outputs": [],
   "source": [
    "data_real_houses = {'Rua':['Avenida Mário Lopes Leão, 916', 'Rua Doutor Tomás Carvalhal', 'Avenida Cotovia', 'Rua Lauriano Fernandes Júnior', 'Rua Michigan, 470'],\n",
    "                   'Metragem':[41, 107, 172, 69, 131],\n",
    "                   'Quartos':[2, 3, 3, 2, 3],\n",
    "                   'Banheiros':[1, 2, 5, 2, 5],\n",
    "                   'Vagas':[1, 1, 3, 1, 2],\n",
    "                   'Valor':[0.154900, 1.060000, 3.386078, 0.760000, 2.338000]}\n",
    "df_real_houses = pd.DataFrame(data_real_houses, index = [1,2,3,4,5])"
   ]
  },
  {
   "cell_type": "code",
   "execution_count": 79,
   "id": "bbccac8f",
   "metadata": {},
   "outputs": [
    {
     "data": {
      "text/html": [
       "<div>\n",
       "<style scoped>\n",
       "    .dataframe tbody tr th:only-of-type {\n",
       "        vertical-align: middle;\n",
       "    }\n",
       "\n",
       "    .dataframe tbody tr th {\n",
       "        vertical-align: top;\n",
       "    }\n",
       "\n",
       "    .dataframe thead th {\n",
       "        text-align: right;\n",
       "    }\n",
       "</style>\n",
       "<table border=\"1\" class=\"dataframe\">\n",
       "  <thead>\n",
       "    <tr style=\"text-align: right;\">\n",
       "      <th></th>\n",
       "      <th>Rua</th>\n",
       "      <th>Metragem</th>\n",
       "      <th>Quartos</th>\n",
       "      <th>Banheiros</th>\n",
       "      <th>Vagas</th>\n",
       "      <th>Valor</th>\n",
       "    </tr>\n",
       "  </thead>\n",
       "  <tbody>\n",
       "    <tr>\n",
       "      <th>1</th>\n",
       "      <td>Avenida Mário Lopes Leão, 916</td>\n",
       "      <td>41</td>\n",
       "      <td>2</td>\n",
       "      <td>1</td>\n",
       "      <td>1</td>\n",
       "      <td>0.154900</td>\n",
       "    </tr>\n",
       "    <tr>\n",
       "      <th>2</th>\n",
       "      <td>Rua Doutor Tomás Carvalhal</td>\n",
       "      <td>107</td>\n",
       "      <td>3</td>\n",
       "      <td>2</td>\n",
       "      <td>1</td>\n",
       "      <td>1.060000</td>\n",
       "    </tr>\n",
       "    <tr>\n",
       "      <th>3</th>\n",
       "      <td>Avenida Cotovia</td>\n",
       "      <td>172</td>\n",
       "      <td>3</td>\n",
       "      <td>5</td>\n",
       "      <td>3</td>\n",
       "      <td>3.386078</td>\n",
       "    </tr>\n",
       "    <tr>\n",
       "      <th>4</th>\n",
       "      <td>Rua Lauriano Fernandes Júnior</td>\n",
       "      <td>69</td>\n",
       "      <td>2</td>\n",
       "      <td>2</td>\n",
       "      <td>1</td>\n",
       "      <td>0.760000</td>\n",
       "    </tr>\n",
       "    <tr>\n",
       "      <th>5</th>\n",
       "      <td>Rua Michigan, 470</td>\n",
       "      <td>131</td>\n",
       "      <td>3</td>\n",
       "      <td>5</td>\n",
       "      <td>2</td>\n",
       "      <td>2.338000</td>\n",
       "    </tr>\n",
       "  </tbody>\n",
       "</table>\n",
       "</div>"
      ],
      "text/plain": [
       "                             Rua  Metragem  Quartos  Banheiros  Vagas  \\\n",
       "1  Avenida Mário Lopes Leão, 916        41        2          1      1   \n",
       "2     Rua Doutor Tomás Carvalhal       107        3          2      1   \n",
       "3                Avenida Cotovia       172        3          5      3   \n",
       "4  Rua Lauriano Fernandes Júnior        69        2          2      1   \n",
       "5              Rua Michigan, 470       131        3          5      2   \n",
       "\n",
       "      Valor  \n",
       "1  0.154900  \n",
       "2  1.060000  \n",
       "3  3.386078  \n",
       "4  0.760000  \n",
       "5  2.338000  "
      ]
     },
     "execution_count": 79,
     "metadata": {},
     "output_type": "execute_result"
    }
   ],
   "source": [
    "df_real_houses"
   ]
  },
  {
   "cell_type": "markdown",
   "id": "155137d0",
   "metadata": {},
   "source": [
    "**Add IBGE data**"
   ]
  },
  {
   "cell_type": "markdown",
   "id": "603120dd",
   "metadata": {},
   "source": [
    "I organized the code of day 4 to add IBGE data in a single function"
   ]
  },
  {
   "cell_type": "code",
   "execution_count": 80,
   "id": "a22dbd62",
   "metadata": {},
   "outputs": [],
   "source": [
    "import geopandas as gpd\n",
    "from shapely.geometry import Point\n",
    "\n",
    "def AddIBGEdata(df):\n",
    "    #Read data from enderecos.csv\n",
    "    df_address = pd.read_csv('../data/interim/Data_Day4_Address.csv', sep = ',', encoding = 'utf_8')\n",
    "\n",
    "    #Extract address data from collumn 'Rua', and create column 'Rua_Compare' to make merge with df_address\n",
    "    df[\"Rua_Compare\"] = df[\"Rua\"].str.extract(r'(^[\\w ]+)')\n",
    "    df[\"Rua_Compare\"] = df[\"Rua_Compare\"].str.lower().str.strip()\n",
    "\n",
    "    #Merge df and df_address\n",
    "    df_merged = df.merge(df_address[['cep','latitude','longitude','Rua_Compare']], how = 'left', left_on = 'Rua_Compare', right_on = \"Rua_Compare\")\n",
    "\n",
    "    #Drop duplicates\n",
    "    df_merged.drop_duplicates(subset=df.columns, inplace = True)\n",
    "\n",
    "    #Get data from censo sectors  in Sao Paulo using geopandas\n",
    "    setor_censo = gpd.read_file('../data/external/Data_Geopandas/35SEE250GC_SIR.shp')\n",
    "    setor_censo_sp = setor_censo[setor_censo.NM_MUNICIP == \"SÃO PAULO\"]\n",
    "\n",
    "    df_merged[\"Point\"] = \"\"\n",
    "    for i in df_merged.index:\n",
    "        df_merged[\"Point\"][i] = Point(df_merged[\"longitude\"][i], df_merged[\"latitude\"][i])\n",
    "    df_merged['setor_censo'] = df_merged[\"Point\"].map(lambda x: setor_censo_sp.loc[setor_censo_sp.contains(x), 'CD_GEOCODI'].values).str[0]\n",
    "\n",
    "    df_merged['setor_censo'] = pd.to_numeric(df_merged['setor_censo'])\n",
    "    \n",
    "    #Drop rows with NaN value in 'setor_censo'\n",
    "    df_merged.drop(df_merged[df_merged['setor_censo'].isnull()].index.tolist(), axis = 0, inplace = True)\n",
    "    \n",
    "    #Get data from IBGE (already clenaed)\n",
    "    df_ibge = pd.read_csv('../data/interim/IBGE_cleaned.csv')\n",
    "\n",
    "    #Merge the original dataframe with IBGE dataframe\n",
    "    df_prices_ibge = pd.merge(left = df_merged, right = df_ibge, how = \"left\", left_on = \"setor_censo\", right_on = \"Cod_setor\")\n",
    "\n",
    "    return df_prices_ibge[['Metragem', 'Quartos', 'Banheiros', 'Vagas', 'Valor', 'V005', 'V007', 'V009', 'V011']]"
   ]
  },
  {
   "cell_type": "code",
   "execution_count": 81,
   "id": "47433c62",
   "metadata": {},
   "outputs": [
    {
     "name": "stderr",
     "output_type": "stream",
     "text": [
      "C:\\Users\\andre\\AppData\\Local\\Temp\\ipykernel_6560\\2472316049.py:6: DtypeWarning: Columns (3) have mixed types. Specify dtype option on import or set low_memory=False.\n",
      "  df_address = pd.read_csv('../data/interim/Data_Day4_Address.csv', sep = ',', encoding = 'utf_8')\n",
      "C:\\Users\\andre\\AppData\\Local\\Temp\\ipykernel_6560\\2472316049.py:24: SettingWithCopyWarning: \n",
      "A value is trying to be set on a copy of a slice from a DataFrame\n",
      "\n",
      "See the caveats in the documentation: https://pandas.pydata.org/pandas-docs/stable/user_guide/indexing.html#returning-a-view-versus-a-copy\n",
      "  df_merged[\"Point\"][i] = Point(df_merged[\"longitude\"][i], df_merged[\"latitude\"][i])\n"
     ]
    }
   ],
   "source": [
    "df_real_houses_ibge = AddIBGEdata(df_real_houses)"
   ]
  },
  {
   "cell_type": "code",
   "execution_count": 82,
   "id": "749e8f59",
   "metadata": {},
   "outputs": [
    {
     "data": {
      "text/html": [
       "<div>\n",
       "<style scoped>\n",
       "    .dataframe tbody tr th:only-of-type {\n",
       "        vertical-align: middle;\n",
       "    }\n",
       "\n",
       "    .dataframe tbody tr th {\n",
       "        vertical-align: top;\n",
       "    }\n",
       "\n",
       "    .dataframe thead th {\n",
       "        text-align: right;\n",
       "    }\n",
       "</style>\n",
       "<table border=\"1\" class=\"dataframe\">\n",
       "  <thead>\n",
       "    <tr style=\"text-align: right;\">\n",
       "      <th></th>\n",
       "      <th>Metragem</th>\n",
       "      <th>Quartos</th>\n",
       "      <th>Banheiros</th>\n",
       "      <th>Vagas</th>\n",
       "      <th>Valor</th>\n",
       "      <th>V005</th>\n",
       "      <th>V007</th>\n",
       "      <th>V009</th>\n",
       "      <th>V011</th>\n",
       "    </tr>\n",
       "  </thead>\n",
       "  <tbody>\n",
       "    <tr>\n",
       "      <th>0</th>\n",
       "      <td>41</td>\n",
       "      <td>2</td>\n",
       "      <td>1</td>\n",
       "      <td>1</td>\n",
       "      <td>0.154900</td>\n",
       "      <td>2118.44</td>\n",
       "      <td>2466.40</td>\n",
       "      <td>1225.60</td>\n",
       "      <td>1956.19</td>\n",
       "    </tr>\n",
       "    <tr>\n",
       "      <th>1</th>\n",
       "      <td>107</td>\n",
       "      <td>3</td>\n",
       "      <td>2</td>\n",
       "      <td>1</td>\n",
       "      <td>1.060000</td>\n",
       "      <td>11328.64</td>\n",
       "      <td>11740.59</td>\n",
       "      <td>6242.97</td>\n",
       "      <td>8680.70</td>\n",
       "    </tr>\n",
       "    <tr>\n",
       "      <th>2</th>\n",
       "      <td>172</td>\n",
       "      <td>3</td>\n",
       "      <td>5</td>\n",
       "      <td>3</td>\n",
       "      <td>3.386078</td>\n",
       "      <td>6999.68</td>\n",
       "      <td>7390.52</td>\n",
       "      <td>3810.66</td>\n",
       "      <td>5342.22</td>\n",
       "    </tr>\n",
       "    <tr>\n",
       "      <th>3</th>\n",
       "      <td>69</td>\n",
       "      <td>2</td>\n",
       "      <td>2</td>\n",
       "      <td>1</td>\n",
       "      <td>0.760000</td>\n",
       "      <td>2292.57</td>\n",
       "      <td>4313.42</td>\n",
       "      <td>1571.18</td>\n",
       "      <td>3488.55</td>\n",
       "    </tr>\n",
       "    <tr>\n",
       "      <th>4</th>\n",
       "      <td>131</td>\n",
       "      <td>3</td>\n",
       "      <td>5</td>\n",
       "      <td>2</td>\n",
       "      <td>2.338000</td>\n",
       "      <td>2289.20</td>\n",
       "      <td>3257.11</td>\n",
       "      <td>1612.90</td>\n",
       "      <td>2790.93</td>\n",
       "    </tr>\n",
       "  </tbody>\n",
       "</table>\n",
       "</div>"
      ],
      "text/plain": [
       "   Metragem  Quartos  Banheiros  Vagas     Valor      V005      V007     V009  \\\n",
       "0        41        2          1      1  0.154900   2118.44   2466.40  1225.60   \n",
       "1       107        3          2      1  1.060000  11328.64  11740.59  6242.97   \n",
       "2       172        3          5      3  3.386078   6999.68   7390.52  3810.66   \n",
       "3        69        2          2      1  0.760000   2292.57   4313.42  1571.18   \n",
       "4       131        3          5      2  2.338000   2289.20   3257.11  1612.90   \n",
       "\n",
       "      V011  \n",
       "0  1956.19  \n",
       "1  8680.70  \n",
       "2  5342.22  \n",
       "3  3488.55  \n",
       "4  2790.93  "
      ]
     },
     "execution_count": 82,
     "metadata": {},
     "output_type": "execute_result"
    }
   ],
   "source": [
    "df_real_houses_ibge"
   ]
  },
  {
   "cell_type": "code",
   "execution_count": 83,
   "id": "c755c51c",
   "metadata": {},
   "outputs": [],
   "source": [
    "X_Data_real = df_real_houses_ibge[['Metragem', 'Quartos', 'Banheiros', 'Vagas', 'V005', 'V007', 'V009', 'V011']].to_numpy()\n",
    "Y_Data_real = df_real_houses_ibge['Valor'].to_numpy().reshape((5,))"
   ]
  },
  {
   "cell_type": "code",
   "execution_count": 84,
   "id": "0629378a",
   "metadata": {},
   "outputs": [
    {
     "data": {
      "text/plain": [
       "array([0.33858162, 1.41818   , 2.116525  , 0.70074008, 1.03060008])"
      ]
     },
     "execution_count": 84,
     "metadata": {},
     "output_type": "execute_result"
    }
   ],
   "source": [
    "predictions = RandomForest.predict(X_Data_real)\n",
    "predictions"
   ]
  },
  {
   "cell_type": "markdown",
   "id": "79b22d2b",
   "metadata": {},
   "source": [
    "Change units to reais (Brazilian currency). Before, it was in units of 10^6 reais"
   ]
  },
  {
   "cell_type": "code",
   "execution_count": 85,
   "id": "19f51ae2",
   "metadata": {},
   "outputs": [],
   "source": [
    "predictions = (1e6)*predictions\n",
    "Y_Data_real = (1e6)*Y_Data_real"
   ]
  },
  {
   "cell_type": "code",
   "execution_count": 86,
   "id": "ad78721a",
   "metadata": {},
   "outputs": [],
   "source": [
    "table = {'Predicted price':predictions, 'Real price':Y_Data_real}\n",
    "df_table = pd.DataFrame(table)"
   ]
  },
  {
   "cell_type": "code",
   "execution_count": 87,
   "id": "c05dd042",
   "metadata": {},
   "outputs": [
    {
     "data": {
      "text/html": [
       "<div>\n",
       "<style scoped>\n",
       "    .dataframe tbody tr th:only-of-type {\n",
       "        vertical-align: middle;\n",
       "    }\n",
       "\n",
       "    .dataframe tbody tr th {\n",
       "        vertical-align: top;\n",
       "    }\n",
       "\n",
       "    .dataframe thead th {\n",
       "        text-align: right;\n",
       "    }\n",
       "</style>\n",
       "<table border=\"1\" class=\"dataframe\">\n",
       "  <thead>\n",
       "    <tr style=\"text-align: right;\">\n",
       "      <th></th>\n",
       "      <th>Predicted price</th>\n",
       "      <th>Real price</th>\n",
       "    </tr>\n",
       "  </thead>\n",
       "  <tbody>\n",
       "    <tr>\n",
       "      <th>0</th>\n",
       "      <td>338581.62</td>\n",
       "      <td>154900.0</td>\n",
       "    </tr>\n",
       "    <tr>\n",
       "      <th>1</th>\n",
       "      <td>1418180.00</td>\n",
       "      <td>1060000.0</td>\n",
       "    </tr>\n",
       "    <tr>\n",
       "      <th>2</th>\n",
       "      <td>2116525.00</td>\n",
       "      <td>3386078.0</td>\n",
       "    </tr>\n",
       "    <tr>\n",
       "      <th>3</th>\n",
       "      <td>700740.08</td>\n",
       "      <td>760000.0</td>\n",
       "    </tr>\n",
       "    <tr>\n",
       "      <th>4</th>\n",
       "      <td>1030600.08</td>\n",
       "      <td>2338000.0</td>\n",
       "    </tr>\n",
       "  </tbody>\n",
       "</table>\n",
       "</div>"
      ],
      "text/plain": [
       "   Predicted price  Real price\n",
       "0        338581.62    154900.0\n",
       "1       1418180.00   1060000.0\n",
       "2       2116525.00   3386078.0\n",
       "3        700740.08    760000.0\n",
       "4       1030600.08   2338000.0"
      ]
     },
     "execution_count": 87,
     "metadata": {},
     "output_type": "execute_result"
    }
   ],
   "source": [
    "df_table"
   ]
  },
  {
   "cell_type": "markdown",
   "id": "dbcbd37c",
   "metadata": {},
   "source": [
    "Calculate R2 and Mean absolute Error"
   ]
  },
  {
   "cell_type": "code",
   "execution_count": 88,
   "id": "04a05191",
   "metadata": {},
   "outputs": [],
   "source": [
    "from sklearn.metrics import mean_absolute_error, r2_score"
   ]
  },
  {
   "cell_type": "markdown",
   "id": "8fff61cf",
   "metadata": {},
   "source": [
    "Change again to units of 10^6 reais, to compare with previous metrics."
   ]
  },
  {
   "cell_type": "code",
   "execution_count": 89,
   "id": "510bea16",
   "metadata": {},
   "outputs": [],
   "source": [
    "predictions = (1e-6)*predictions\n",
    "Y_Data_real = (1e-6)*Y_Data_real"
   ]
  },
  {
   "cell_type": "code",
   "execution_count": 90,
   "id": "27e9feed",
   "metadata": {},
   "outputs": [
    {
     "name": "stdout",
     "output_type": "stream",
     "text": [
      "Mae:  0.6356148920000001\n",
      "R2:  0.4874233039744392\n"
     ]
    }
   ],
   "source": [
    "print(\"Mae: \", mean_absolute_error(Y_Data_real, predictions))\n",
    "print(\"R2: \", r2_score(Y_Data_real, predictions))"
   ]
  },
  {
   "cell_type": "markdown",
   "id": "a8a4e8b1",
   "metadata": {},
   "source": [
    "**Both of the metrics were worse compared to the previous test. Our model seems to have not generalized well to external data.**"
   ]
  },
  {
   "cell_type": "markdown",
   "id": "8ed78b63",
   "metadata": {},
   "source": [
    "## Save the best model"
   ]
  },
  {
   "cell_type": "code",
   "execution_count": 91,
   "id": "69df724c",
   "metadata": {},
   "outputs": [],
   "source": [
    "import pickle"
   ]
  },
  {
   "cell_type": "code",
   "execution_count": 94,
   "id": "7a1bae10",
   "metadata": {},
   "outputs": [],
   "source": [
    "filename = './../models/FinalMLModel.sav'\n",
    "pickle.dump(RandomForest, open(filename, 'wb'))"
   ]
  },
  {
   "cell_type": "code",
   "execution_count": null,
   "id": "74de8862",
   "metadata": {},
   "outputs": [],
   "source": []
  }
 ],
 "metadata": {
  "kernelspec": {
   "display_name": "Python [conda env:dada_science]",
   "language": "python",
   "name": "conda-env-dada_science-py"
  },
  "language_info": {
   "codemirror_mode": {
    "name": "ipython",
    "version": 3
   },
   "file_extension": ".py",
   "mimetype": "text/x-python",
   "name": "python",
   "nbconvert_exporter": "python",
   "pygments_lexer": "ipython3",
   "version": "3.9.12"
  }
 },
 "nbformat": 4,
 "nbformat_minor": 5
}
