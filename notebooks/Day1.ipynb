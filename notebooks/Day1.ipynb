{
 "cells": [
  {
   "cell_type": "markdown",
   "id": "b3968534",
   "metadata": {},
   "source": [
    "# Sao Paulo house prices"
   ]
  },
  {
   "cell_type": "markdown",
   "id": "c269e940",
   "metadata": {},
   "source": [
    "## Load data frame"
   ]
  },
  {
   "cell_type": "code",
   "execution_count": 47,
   "id": "68194edf",
   "metadata": {},
   "outputs": [],
   "source": [
    "import numpy as np\n",
    "import pandas as pd"
   ]
  },
  {
   "cell_type": "code",
   "execution_count": 48,
   "id": "e454fbfc",
   "metadata": {},
   "outputs": [],
   "source": [
    "#Load csv file from github with house price data of Sao Paulo\n",
    "url = \"https://gist.githubusercontent.com/tgcsantos/3bdb29eba6ce391e90df2b72205ba891/raw/22fa920e80c9fa209a9fccc8b52d74cc95d1599b/dados_imoveis.csv\"\n",
    "df = pd.read_csv(url)"
   ]
  },
  {
   "cell_type": "code",
   "execution_count": 49,
   "id": "62c53e0d",
   "metadata": {},
   "outputs": [],
   "source": [
    "#Save the csv data in the raw data directory\n",
    "df.to_csv('../data/raw/SP_house_prices_raw.csv', index = False)"
   ]
  },
  {
   "cell_type": "code",
   "execution_count": 50,
   "id": "765231c9",
   "metadata": {},
   "outputs": [
    {
     "data": {
      "text/html": [
       "<div>\n",
       "<style scoped>\n",
       "    .dataframe tbody tr th:only-of-type {\n",
       "        vertical-align: middle;\n",
       "    }\n",
       "\n",
       "    .dataframe tbody tr th {\n",
       "        vertical-align: top;\n",
       "    }\n",
       "\n",
       "    .dataframe thead th {\n",
       "        text-align: right;\n",
       "    }\n",
       "</style>\n",
       "<table border=\"1\" class=\"dataframe\">\n",
       "  <thead>\n",
       "    <tr style=\"text-align: right;\">\n",
       "      <th></th>\n",
       "      <th>Rua</th>\n",
       "      <th>Bairro</th>\n",
       "      <th>Cidade</th>\n",
       "      <th>Metragem</th>\n",
       "      <th>Quartos</th>\n",
       "      <th>Banheiros</th>\n",
       "      <th>Vagas</th>\n",
       "      <th>Valor</th>\n",
       "    </tr>\n",
       "  </thead>\n",
       "  <tbody>\n",
       "    <tr>\n",
       "      <th>0</th>\n",
       "      <td>Avenida Itacira, 255</td>\n",
       "      <td>Planalto Paulista</td>\n",
       "      <td>São Paulo</td>\n",
       "      <td>1000</td>\n",
       "      <td>4</td>\n",
       "      <td>8</td>\n",
       "      <td>6</td>\n",
       "      <td>R$ 7.000.000</td>\n",
       "    </tr>\n",
       "    <tr>\n",
       "      <th>1</th>\n",
       "      <td>Rua Aurelia Perez Alvarez, 42</td>\n",
       "      <td>Jardim dos Estados</td>\n",
       "      <td>São Paulo</td>\n",
       "      <td>496</td>\n",
       "      <td>4</td>\n",
       "      <td>4</td>\n",
       "      <td>4</td>\n",
       "      <td>R$ 3.700.000</td>\n",
       "    </tr>\n",
       "    <tr>\n",
       "      <th>2</th>\n",
       "      <td>Rua Alba Valdez</td>\n",
       "      <td>Jardim Reimberg</td>\n",
       "      <td>São Paulo</td>\n",
       "      <td>125</td>\n",
       "      <td>4</td>\n",
       "      <td>3</td>\n",
       "      <td>2</td>\n",
       "      <td>R$ 380.000</td>\n",
       "    </tr>\n",
       "    <tr>\n",
       "      <th>3</th>\n",
       "      <td>NaN</td>\n",
       "      <td>Jardim Morumbi</td>\n",
       "      <td>São Paulo</td>\n",
       "      <td>310</td>\n",
       "      <td>3</td>\n",
       "      <td>2</td>\n",
       "      <td>4</td>\n",
       "      <td>R$ 685.000</td>\n",
       "    </tr>\n",
       "    <tr>\n",
       "      <th>4</th>\n",
       "      <td>Rua Tobias Barreto, 195</td>\n",
       "      <td>Mooca</td>\n",
       "      <td>São Paulo</td>\n",
       "      <td>100</td>\n",
       "      <td>3</td>\n",
       "      <td>2</td>\n",
       "      <td>2</td>\n",
       "      <td>R$ 540.000</td>\n",
       "    </tr>\n",
       "  </tbody>\n",
       "</table>\n",
       "</div>"
      ],
      "text/plain": [
       "                              Rua              Bairro     Cidade  Metragem  \\\n",
       "0           Avenida Itacira, 255    Planalto Paulista  São Paulo      1000   \n",
       "1  Rua Aurelia Perez Alvarez, 42   Jardim dos Estados  São Paulo       496   \n",
       "2                 Rua Alba Valdez     Jardim Reimberg  São Paulo       125   \n",
       "3                             NaN      Jardim Morumbi  São Paulo       310   \n",
       "4        Rua Tobias Barreto, 195                Mooca  São Paulo       100   \n",
       "\n",
       "   Quartos  Banheiros  Vagas         Valor  \n",
       "0        4          8      6  R$ 7.000.000  \n",
       "1        4          4      4  R$ 3.700.000  \n",
       "2        4          3      2    R$ 380.000  \n",
       "3        3          2      4    R$ 685.000  \n",
       "4        3          2      2    R$ 540.000  "
      ]
     },
     "execution_count": 50,
     "metadata": {},
     "output_type": "execute_result"
    }
   ],
   "source": [
    "df.head()"
   ]
  },
  {
   "cell_type": "code",
   "execution_count": 51,
   "id": "05e95e90",
   "metadata": {},
   "outputs": [
    {
     "data": {
      "text/plain": [
       "10008"
      ]
     },
     "execution_count": 51,
     "metadata": {},
     "output_type": "execute_result"
    }
   ],
   "source": [
    "#Number of rows in the dataframe\n",
    "df.shape[0]"
   ]
  },
  {
   "cell_type": "code",
   "execution_count": 52,
   "id": "02ac00fa",
   "metadata": {},
   "outputs": [
    {
     "name": "stdout",
     "output_type": "stream",
     "text": [
      "<class 'pandas.core.frame.DataFrame'>\n",
      "RangeIndex: 10008 entries, 0 to 10007\n",
      "Data columns (total 8 columns):\n",
      " #   Column     Non-Null Count  Dtype \n",
      "---  ------     --------------  ----- \n",
      " 0   Rua        6574 non-null   object\n",
      " 1   Bairro     9996 non-null   object\n",
      " 2   Cidade     10008 non-null  object\n",
      " 3   Metragem   10008 non-null  int64 \n",
      " 4   Quartos    10008 non-null  int64 \n",
      " 5   Banheiros  10008 non-null  int64 \n",
      " 6   Vagas      10008 non-null  int64 \n",
      " 7   Valor      10008 non-null  object\n",
      "dtypes: int64(4), object(4)\n",
      "memory usage: 625.6+ KB\n"
     ]
    }
   ],
   "source": [
    "#Verify data type of each colummn\n",
    "df.info()"
   ]
  },
  {
   "cell_type": "markdown",
   "id": "b9123ead",
   "metadata": {},
   "source": [
    "## Transform 'Valor' type to a numeric type"
   ]
  },
  {
   "cell_type": "markdown",
   "id": "4ce1521b",
   "metadata": {},
   "source": [
    "Note the column with the value of the house ('Valor') is not a number type."
   ]
  },
  {
   "cell_type": "code",
   "execution_count": 53,
   "id": "27ef12f0",
   "metadata": {},
   "outputs": [],
   "source": [
    "#Remove the currency sign in the front of the values in 'Valor column\n",
    "df['Valor'] = df['Valor'].str.replace('R$ ', '', regex = False)"
   ]
  },
  {
   "cell_type": "code",
   "execution_count": 54,
   "id": "ca42e0eb",
   "metadata": {},
   "outputs": [
    {
     "data": {
      "text/plain": [
       "0    7.000.000\n",
       "1    3.700.000\n",
       "2      380.000\n",
       "3      685.000\n",
       "4      540.000\n",
       "Name: Valor, dtype: object"
      ]
     },
     "execution_count": 54,
     "metadata": {},
     "output_type": "execute_result"
    }
   ],
   "source": [
    "#Verify 'Valor' column\n",
    "df['Valor'].head()"
   ]
  },
  {
   "cell_type": "code",
   "execution_count": 55,
   "id": "e2859461",
   "metadata": {},
   "outputs": [],
   "source": [
    "#Remove dots ('.') in values in 'Valor' column\n",
    "#Note that the decimal separador would be ','\n",
    "df['Valor'] = df['Valor'].str.replace('.', '', regex = False)"
   ]
  },
  {
   "cell_type": "code",
   "execution_count": 56,
   "id": "89c1b8cc",
   "metadata": {},
   "outputs": [
    {
     "data": {
      "text/plain": [
       "0    7000000\n",
       "1    3700000\n",
       "2     380000\n",
       "3     685000\n",
       "4     540000\n",
       "Name: Valor, dtype: object"
      ]
     },
     "execution_count": 56,
     "metadata": {},
     "output_type": "execute_result"
    }
   ],
   "source": [
    "df['Valor'].head()"
   ]
  },
  {
   "cell_type": "code",
   "execution_count": 57,
   "id": "60b7741a",
   "metadata": {},
   "outputs": [
    {
     "data": {
      "text/plain": [
       "Rua                       Rua Fonseca da Costa\n",
       "Bairro                         Bosque da Saúde\n",
       "Cidade                               São Paulo\n",
       "Metragem                                   650\n",
       "Quartos                                      4\n",
       "Banheiros                                    6\n",
       "Vagas                                       12\n",
       "Valor        11000\\n                      /Mês\n",
       "Name: 151, dtype: object"
      ]
     },
     "execution_count": 57,
     "metadata": {},
     "output_type": "execute_result"
    }
   ],
   "source": [
    "#There is an invalid entry in row 151\n",
    "df.iloc[151,:]"
   ]
  },
  {
   "cell_type": "code",
   "execution_count": 58,
   "id": "f9610390",
   "metadata": {},
   "outputs": [],
   "source": [
    "#Change tha value in row 151 manually\n",
    "df.at[151, 'Valor'] = '11000'"
   ]
  },
  {
   "cell_type": "code",
   "execution_count": 59,
   "id": "26508fb8",
   "metadata": {},
   "outputs": [
    {
     "data": {
      "text/plain": [
       "Rua          Rua Fonseca da Costa\n",
       "Bairro            Bosque da Saúde\n",
       "Cidade                  São Paulo\n",
       "Metragem                      650\n",
       "Quartos                         4\n",
       "Banheiros                       6\n",
       "Vagas                          12\n",
       "Valor                       11000\n",
       "Name: 151, dtype: object"
      ]
     },
     "execution_count": 59,
     "metadata": {},
     "output_type": "execute_result"
    }
   ],
   "source": [
    "#Verify row 151\n",
    "df.iloc[151,:]"
   ]
  },
  {
   "cell_type": "code",
   "execution_count": 60,
   "id": "409e21eb",
   "metadata": {},
   "outputs": [
    {
     "data": {
      "text/plain": [
       "'12000\\n                      /Mês'"
      ]
     },
     "execution_count": 60,
     "metadata": {},
     "output_type": "execute_result"
    }
   ],
   "source": [
    "#Row 156 has the same problem\n",
    "df['Valor'][156]"
   ]
  },
  {
   "cell_type": "code",
   "execution_count": 61,
   "id": "c6c3bfc5",
   "metadata": {},
   "outputs": [],
   "source": [
    "#Correct all values that has this same problem\n",
    "df['Valor'] = df['Valor'].str.replace('\\n                      /Mês', '', regex = False)"
   ]
  },
  {
   "cell_type": "code",
   "execution_count": 62,
   "id": "1e12fda8",
   "metadata": {},
   "outputs": [
    {
     "data": {
      "text/plain": [
       "'12000'"
      ]
     },
     "execution_count": 62,
     "metadata": {},
     "output_type": "execute_result"
    }
   ],
   "source": [
    "#Verify row 156\n",
    "df['Valor'][156]"
   ]
  },
  {
   "cell_type": "code",
   "execution_count": 63,
   "id": "9f775ee1",
   "metadata": {},
   "outputs": [
    {
     "data": {
      "text/plain": [
       "'2600\\n                      /Ano'"
      ]
     },
     "execution_count": 63,
     "metadata": {},
     "output_type": "execute_result"
    }
   ],
   "source": [
    "#Another problem in row 6029\n",
    "df['Valor'][6029]"
   ]
  },
  {
   "cell_type": "code",
   "execution_count": 64,
   "id": "0d0aeeef",
   "metadata": {},
   "outputs": [],
   "source": [
    "#Correct all values that has this same problem\n",
    "df['Valor'] = df['Valor'].str.replace('\\n                      /Ano', '', regex = False)"
   ]
  },
  {
   "cell_type": "code",
   "execution_count": 65,
   "id": "2cec5400",
   "metadata": {},
   "outputs": [
    {
     "data": {
      "text/plain": [
       "'2600'"
      ]
     },
     "execution_count": 65,
     "metadata": {},
     "output_type": "execute_result"
    }
   ],
   "source": [
    "#Verify row 6029\n",
    "df['Valor'][6029]"
   ]
  },
  {
   "cell_type": "code",
   "execution_count": 66,
   "id": "813d2f41",
   "metadata": {},
   "outputs": [
    {
     "data": {
      "text/plain": [
       "'15000\\n                      /Dia'"
      ]
     },
     "execution_count": 66,
     "metadata": {},
     "output_type": "execute_result"
    }
   ],
   "source": [
    "#Row 6639 has an analogous problem\n",
    "df['Valor'][6639]"
   ]
  },
  {
   "cell_type": "code",
   "execution_count": 67,
   "id": "c286685c",
   "metadata": {},
   "outputs": [],
   "source": [
    "#Correct all values that has this same problem\n",
    "df['Valor'] = df['Valor'].str.replace('\\n                      /Dia', '', regex = False)"
   ]
  },
  {
   "cell_type": "code",
   "execution_count": 68,
   "id": "cd8079d4",
   "metadata": {},
   "outputs": [],
   "source": [
    "#Convert 'Valor' column to a numeric type\n",
    "df['Valor'] = pd.to_numeric(df['Valor'])"
   ]
  },
  {
   "cell_type": "code",
   "execution_count": 69,
   "id": "c777dc8d",
   "metadata": {},
   "outputs": [
    {
     "data": {
      "text/html": [
       "<div>\n",
       "<style scoped>\n",
       "    .dataframe tbody tr th:only-of-type {\n",
       "        vertical-align: middle;\n",
       "    }\n",
       "\n",
       "    .dataframe tbody tr th {\n",
       "        vertical-align: top;\n",
       "    }\n",
       "\n",
       "    .dataframe thead th {\n",
       "        text-align: right;\n",
       "    }\n",
       "</style>\n",
       "<table border=\"1\" class=\"dataframe\">\n",
       "  <thead>\n",
       "    <tr style=\"text-align: right;\">\n",
       "      <th></th>\n",
       "      <th>Rua</th>\n",
       "      <th>Bairro</th>\n",
       "      <th>Cidade</th>\n",
       "      <th>Metragem</th>\n",
       "      <th>Quartos</th>\n",
       "      <th>Banheiros</th>\n",
       "      <th>Vagas</th>\n",
       "      <th>Valor</th>\n",
       "    </tr>\n",
       "  </thead>\n",
       "  <tbody>\n",
       "    <tr>\n",
       "      <th>0</th>\n",
       "      <td>Avenida Itacira, 255</td>\n",
       "      <td>Planalto Paulista</td>\n",
       "      <td>São Paulo</td>\n",
       "      <td>1000</td>\n",
       "      <td>4</td>\n",
       "      <td>8</td>\n",
       "      <td>6</td>\n",
       "      <td>7000000</td>\n",
       "    </tr>\n",
       "    <tr>\n",
       "      <th>1</th>\n",
       "      <td>Rua Aurelia Perez Alvarez, 42</td>\n",
       "      <td>Jardim dos Estados</td>\n",
       "      <td>São Paulo</td>\n",
       "      <td>496</td>\n",
       "      <td>4</td>\n",
       "      <td>4</td>\n",
       "      <td>4</td>\n",
       "      <td>3700000</td>\n",
       "    </tr>\n",
       "    <tr>\n",
       "      <th>2</th>\n",
       "      <td>Rua Alba Valdez</td>\n",
       "      <td>Jardim Reimberg</td>\n",
       "      <td>São Paulo</td>\n",
       "      <td>125</td>\n",
       "      <td>4</td>\n",
       "      <td>3</td>\n",
       "      <td>2</td>\n",
       "      <td>380000</td>\n",
       "    </tr>\n",
       "    <tr>\n",
       "      <th>3</th>\n",
       "      <td>NaN</td>\n",
       "      <td>Jardim Morumbi</td>\n",
       "      <td>São Paulo</td>\n",
       "      <td>310</td>\n",
       "      <td>3</td>\n",
       "      <td>2</td>\n",
       "      <td>4</td>\n",
       "      <td>685000</td>\n",
       "    </tr>\n",
       "    <tr>\n",
       "      <th>4</th>\n",
       "      <td>Rua Tobias Barreto, 195</td>\n",
       "      <td>Mooca</td>\n",
       "      <td>São Paulo</td>\n",
       "      <td>100</td>\n",
       "      <td>3</td>\n",
       "      <td>2</td>\n",
       "      <td>2</td>\n",
       "      <td>540000</td>\n",
       "    </tr>\n",
       "  </tbody>\n",
       "</table>\n",
       "</div>"
      ],
      "text/plain": [
       "                              Rua              Bairro     Cidade  Metragem  \\\n",
       "0           Avenida Itacira, 255    Planalto Paulista  São Paulo      1000   \n",
       "1  Rua Aurelia Perez Alvarez, 42   Jardim dos Estados  São Paulo       496   \n",
       "2                 Rua Alba Valdez     Jardim Reimberg  São Paulo       125   \n",
       "3                             NaN      Jardim Morumbi  São Paulo       310   \n",
       "4        Rua Tobias Barreto, 195                Mooca  São Paulo       100   \n",
       "\n",
       "   Quartos  Banheiros  Vagas    Valor  \n",
       "0        4          8      6  7000000  \n",
       "1        4          4      4  3700000  \n",
       "2        4          3      2   380000  \n",
       "3        3          2      4   685000  \n",
       "4        3          2      2   540000  "
      ]
     },
     "execution_count": 69,
     "metadata": {},
     "output_type": "execute_result"
    }
   ],
   "source": [
    "df.head()"
   ]
  },
  {
   "cell_type": "code",
   "execution_count": 70,
   "id": "77a73e34",
   "metadata": {},
   "outputs": [
    {
     "name": "stdout",
     "output_type": "stream",
     "text": [
      "<class 'pandas.core.frame.DataFrame'>\n",
      "RangeIndex: 10008 entries, 0 to 10007\n",
      "Data columns (total 8 columns):\n",
      " #   Column     Non-Null Count  Dtype \n",
      "---  ------     --------------  ----- \n",
      " 0   Rua        6574 non-null   object\n",
      " 1   Bairro     9996 non-null   object\n",
      " 2   Cidade     10008 non-null  object\n",
      " 3   Metragem   10008 non-null  int64 \n",
      " 4   Quartos    10008 non-null  int64 \n",
      " 5   Banheiros  10008 non-null  int64 \n",
      " 6   Vagas      10008 non-null  int64 \n",
      " 7   Valor      10008 non-null  int64 \n",
      "dtypes: int64(5), object(3)\n",
      "memory usage: 625.6+ KB\n"
     ]
    }
   ],
   "source": [
    "df.info()"
   ]
  },
  {
   "cell_type": "markdown",
   "id": "432d87b8",
   "metadata": {},
   "source": [
    "'Valor' has now a numeric type!"
   ]
  },
  {
   "cell_type": "markdown",
   "id": "5e09d9e7",
   "metadata": {},
   "source": [
    "## Verify null values"
   ]
  },
  {
   "cell_type": "code",
   "execution_count": 71,
   "id": "b5e15308",
   "metadata": {},
   "outputs": [
    {
     "data": {
      "text/plain": [
       "Rua          3434\n",
       "Bairro         12\n",
       "Cidade          0\n",
       "Metragem        0\n",
       "Quartos         0\n",
       "Banheiros       0\n",
       "Vagas           0\n",
       "Valor           0\n",
       "dtype: int64"
      ]
     },
     "execution_count": 71,
     "metadata": {},
     "output_type": "execute_result"
    }
   ],
   "source": [
    "df.isnull().sum()"
   ]
  },
  {
   "cell_type": "markdown",
   "id": "eaa14c85",
   "metadata": {},
   "source": [
    "**There as 3434 null street names ('Rua') and 12 null district names ('Bairro').**"
   ]
  },
  {
   "cell_type": "markdown",
   "id": "06f74033",
   "metadata": {},
   "source": [
    "## Save the DataFrame with corrections made"
   ]
  },
  {
   "cell_type": "code",
   "execution_count": 72,
   "id": "bf7742f5",
   "metadata": {},
   "outputs": [],
   "source": [
    "df.to_csv('../data/interim/Data_Day1.csv', index = False)"
   ]
  },
  {
   "cell_type": "markdown",
   "id": "1c142b9e",
   "metadata": {},
   "source": [
    "## Basic info"
   ]
  },
  {
   "cell_type": "code",
   "execution_count": 73,
   "id": "8c08e82f",
   "metadata": {},
   "outputs": [
    {
     "data": {
      "text/plain": [
       "701"
      ]
     },
     "execution_count": 73,
     "metadata": {},
     "output_type": "execute_result"
    }
   ],
   "source": [
    "#Number of different unique district ('Bairro') names\n",
    "df['Bairro'].nunique()"
   ]
  },
  {
   "cell_type": "markdown",
   "id": "010b2701",
   "metadata": {},
   "source": [
    "**There are 701 different district names**"
   ]
  },
  {
   "cell_type": "code",
   "execution_count": 74,
   "id": "5da52fd0",
   "metadata": {},
   "outputs": [
    {
     "data": {
      "text/plain": [
       "1"
      ]
     },
     "execution_count": 74,
     "metadata": {},
     "output_type": "execute_result"
    }
   ],
   "source": [
    "#Verify if all rows belong to São Paulo\n",
    "df['Cidade'].nunique()"
   ]
  },
  {
   "cell_type": "markdown",
   "id": "198ab27e",
   "metadata": {},
   "source": [
    "**There is only one value for city, as expected**"
   ]
  },
  {
   "cell_type": "markdown",
   "id": "c95b9328",
   "metadata": {},
   "source": [
    "## Tasks"
   ]
  },
  {
   "cell_type": "markdown",
   "id": "aaabecad",
   "metadata": {},
   "source": [
    "### 1 - Find mean footage for each district"
   ]
  },
  {
   "cell_type": "markdown",
   "id": "fa9d109d",
   "metadata": {},
   "source": [
    "Footage is in 'Metragem' column, and district is in 'Bairro' column"
   ]
  },
  {
   "cell_type": "code",
   "execution_count": 75,
   "id": "daff633a",
   "metadata": {},
   "outputs": [],
   "source": [
    "#Get Dataframe with footage separated by district\n",
    "dfDistricts = df.groupby(['Bairro'])['Metragem']"
   ]
  },
  {
   "cell_type": "code",
   "execution_count": 76,
   "id": "d2a13748",
   "metadata": {},
   "outputs": [
    {
     "data": {
      "text/plain": [
       "Bairro\n",
       "Aclimação            253.056818\n",
       "Alto da Boa Vista    418.875000\n",
       "Alto da Lapa         294.337209\n",
       "Alto da Mooca        270.050000\n",
       "Alto de Pinheiros    433.444988\n",
       "                        ...    \n",
       "Vila Água Funda      152.200000\n",
       "Água Branca          191.000000\n",
       "Água Fria            165.416667\n",
       "Água Funda           139.000000\n",
       "Água Rasa            340.250000\n",
       "Name: Metragem, Length: 701, dtype: float64"
      ]
     },
     "execution_count": 76,
     "metadata": {},
     "output_type": "execute_result"
    }
   ],
   "source": [
    "#Get mean footage for each district\n",
    "DistrictMeans = dfDistricts.mean()\n",
    "DistrictMeans"
   ]
  },
  {
   "cell_type": "code",
   "execution_count": 77,
   "id": "b1b1cc8f",
   "metadata": {},
   "outputs": [],
   "source": [
    "#Sort values in descending order\n",
    "DistrictMeans.sort_values(ascending = False, inplace = True)"
   ]
  },
  {
   "cell_type": "code",
   "execution_count": 78,
   "id": "e9554014",
   "metadata": {},
   "outputs": [
    {
     "data": {
      "text/plain": [
       "Bairro\n",
       "Sítio Represa                         37000.000000\n",
       "Vila Castelo                           2850.000000\n",
       "Jardim Guedala                         2486.640199\n",
       "Jardim das Camélias                    1700.000000\n",
       "Chácara Flora                          1260.727273\n",
       "                                          ...     \n",
       "Cidade Antônio Estevão de Carvalho       57.500000\n",
       "Jardim Nova Germania                     57.000000\n",
       "Jardim Benfica                           48.000000\n",
       "Vila Leonor                              46.000000\n",
       "Vila Guaca                               10.000000\n",
       "Name: Metragem, Length: 701, dtype: float64"
      ]
     },
     "execution_count": 78,
     "metadata": {},
     "output_type": "execute_result"
    }
   ],
   "source": [
    "#Verify\n",
    "DistrictMeans"
   ]
  },
  {
   "cell_type": "code",
   "execution_count": 79,
   "id": "3998f8f9",
   "metadata": {},
   "outputs": [
    {
     "data": {
      "text/plain": [
       "<AxesSubplot:xlabel='Bairro'>"
      ]
     },
     "execution_count": 79,
     "metadata": {},
     "output_type": "execute_result"
    },
    {
     "data": {
      "image/png": "[encoded data removed]",
      "text/plain": [
       "<Figure size 432x288 with 1 Axes>"
      ]
     },
     "metadata": {
      "needs_background": "light"
     },
     "output_type": "display_data"
    }
   ],
   "source": [
    "#Make bar plot with the 10 greatest mean footages\n",
    "DistrictMeans[0:10].plot.bar()"
   ]
  },
  {
   "cell_type": "markdown",
   "id": "5e917ce7",
   "metadata": {},
   "source": [
    "### 2 - Select data by districts with two different methods"
   ]
  },
  {
   "cell_type": "markdown",
   "id": "9ab7fc80",
   "metadata": {},
   "source": [
    "**First method is the same as used in the previous question**"
   ]
  },
  {
   "cell_type": "code",
   "execution_count": 80,
   "id": "45021b05",
   "metadata": {},
   "outputs": [],
   "source": [
    "dfDistricts_Method1 = df.groupby(['Bairro'])"
   ]
  },
  {
   "cell_type": "markdown",
   "id": "50ffc5a4",
   "metadata": {},
   "source": [
    "**Second method will use a loop to iterate the district names**"
   ]
  },
  {
   "cell_type": "code",
   "execution_count": 81,
   "id": "15b70287",
   "metadata": {},
   "outputs": [],
   "source": [
    "#Get district names\n",
    "District_Names = df['Bairro'].unique()"
   ]
  },
  {
   "cell_type": "code",
   "execution_count": 82,
   "id": "d944fd02",
   "metadata": {},
   "outputs": [
    {
     "data": {
      "text/plain": [
       "array(['Planalto Paulista', 'Jardim dos Estados', 'Jardim Reimberg',\n",
       "       'Jardim Morumbi', 'Mooca', 'Santo Amaro', 'Cidade Mãe do Céu',\n",
       "       'Jardim Vergueiro', 'Jardim Benfica', 'Vila Alpina',\n",
       "       'Vila Monumento', 'Jardim Luzitânia', 'Vila Uberabinha',\n",
       "       'Jardim Prudência', 'Lauzane Paulista', 'Jardim Santa Maria',\n",
       "       'Vila Nova', 'Itaberaba', 'Vila Nova Conceição', 'Jardim da Saúde',\n",
       "       'Jardim Santo Antônio', 'Vila Mazzei', 'Vila Madalena',\n",
       "       'Jardim Ivana', 'Vila Campo Grande', 'Vila Gomes Cardim',\n",
       "       'Bela Aliança', 'Vila Albertina', 'Cidade Jardim',\n",
       "       'Parque da Lapa', 'Vila Libanesa', 'Cidade Domitila',\n",
       "       'Vila Nova Savoia', 'Jardim Maria Estela', 'Parque São Rafael',\n",
       "       'Vila Bandeirantes', 'Parque Colonial', 'Vila Califórnia',\n",
       "       'Jardim das Imbuias', 'Vila Tramontano', 'Vila Nancy',\n",
       "       'Parada Inglesa', 'Jardim Leonor Mendes de Barros', 'Jardim Iva',\n",
       "       'Jardim Amália', 'Vila dos Remédios', 'Brooklin Paulista',\n",
       "       'Tremembé', 'Vila Minerva', 'Pirituba', 'Vila Cordeiro',\n",
       "       'Chácara Santo Antônio (Zona Sul)', 'Jardim Guedala',\n",
       "       'Parque Boturussu', 'Vila Arriete', 'Jardim Europa',\n",
       "       'Alto da Lapa', 'Vila Formosa', 'Quinta da Paineira',\n",
       "       'Vila Jaguara', 'Alto da Boa Vista', 'Vila Clarice',\n",
       "       'Jardim América', 'Jardim Paulista', 'Tucuruvi',\n",
       "       'Parque Continental', 'Penha de França', 'Perdizes',\n",
       "       'Conjunto Residencial José Bonifácio', 'Cidade Vargas',\n",
       "       'Jardim Maria Luiza', 'Mirandópolis', 'Jardim do Carmo',\n",
       "       'Jardim Leonor', 'Alto de Pinheiros', 'Vila Suzana',\n",
       "       'Vila Brasílio Machado', 'Jardim das Vertentes', 'Campo Belo',\n",
       "       'Vila Regente Feijó', 'Vila Tolstoi',\n",
       "       'Terceira Divisão de Interlagos', 'Vila Moinho Velho',\n",
       "       'Vila Mariana', 'Jardim Imperador (Zona Leste)', 'Vila Aricanduva',\n",
       "       'Sumaré', 'Boaçava', 'Vila Gustavo', 'Vila Carolina',\n",
       "       'Vila Romana', 'Vila Leopoldina', 'Vila São Paulo',\n",
       "       'Jardim Bandeirantes (Zona Norte)', 'Jardim Jaraguá', 'Vila Morse',\n",
       "       'Itaquera', 'Vila Talarico', 'Vila Matilde', 'Vila Laís',\n",
       "       'Jardim Marajoara', 'Vila Pompéia', 'Jardim Trussardi', 'Caxingui',\n",
       "       'Barra Funda', 'Vila Santos', 'Vila João Batista',\n",
       "       'Jardim Nova Germania', 'Vila Antonieta', 'Bosque da Saúde',\n",
       "       'Chácara Santo Antônio (Zona Leste)', 'Butantã',\n",
       "       'Jardim Paulistano', 'Jardim da Glória', 'Jardim Petrópolis',\n",
       "       'Vila Aparecida', 'Siciliano', 'Tatuapé', 'Jardim Cordeiro',\n",
       "       'Parque Casa de Pedra', 'Morumbi', 'Praia Azul',\n",
       "       'São João Clímaco', 'Lapa', 'Vila Prudente', 'Capela do Socorro',\n",
       "       'Parque Santa Madalena', 'Vila Ida', 'Jardim Vivan', 'Vila Marari',\n",
       "       'Jardim Aurélia', 'Cursino', 'Cidade Dutra', 'Jardim São Luís',\n",
       "       'Água Fria', 'Belenzinho', 'Vila Ipojuca', 'Vila Sônia',\n",
       "       'Jardim Panorama', 'Jardim Ampliação', 'Cerqueira César', 'Pari',\n",
       "       'Vila Sabrina', 'Ipiranga', 'Vila Olímpia',\n",
       "       'Jardim Sílvia (Zona Oeste)', 'Jardim Franca', 'Vila Dom Pedro I',\n",
       "       'Vila Euthalia', 'Santana', 'Barro Branco (Zona Norte)',\n",
       "       'Vila Corberi', 'São Judas', 'Interlagos', 'Vila Carrão',\n",
       "       'Morro dos Ingleses', 'Chácara Inglesa', 'Parque Savoy City',\n",
       "       'Pacaembu', 'Aclimação', 'Nossa Senhora do Ó',\n",
       "       'Jardim Três Marias', 'Campininha', 'Cidade Monções',\n",
       "       'Vila Santa Maria', 'Jardim Santo Amaro', 'Vila Bela',\n",
       "       'Vila Guarani (Z Sul)', 'Vila das Belezas',\n",
       "       'Jardim Brasil (Zona Norte)', 'Vila Moraes',\n",
       "       'Jardim Alvorada (Zona Oeste)', 'Jardim Londrina', 'Vila Zelina',\n",
       "       'Vila Guilherme', 'Parque da Vila Prudente',\n",
       "       'Parque Alves de Lima', 'Chácara Flora', 'Jardim Camargo Novo',\n",
       "       'Jardim Vila Formosa', 'Jardim Planalto', 'Jardim Patente Novo',\n",
       "       'Vila Água Funda', 'Jardim das Camélias', 'Jardim Virginia Bianca',\n",
       "       'Água Branca', \"Jardim D'Abril\", 'Jardim São Paulo(Zona Norte)',\n",
       "       'Vila Rosaria', 'Jardim Ana Maria', 'Jardim Viana', 'Indianópolis',\n",
       "       'Granja Julieta', 'Jardim Célia (Zona Sul)', 'Parque Maria Helena',\n",
       "       'Parque Guarani', 'Jardim Vista Linda', 'Vila Inah',\n",
       "       'Vila Brasilina', 'Cambuci', 'Vila Congonhas', 'Cidade Patriarca',\n",
       "       'Vila Pirituba', 'Vila Fachini', 'Vila Ema', 'Veleiros',\n",
       "       'Vila Antônio dos Santos', 'Itaim Bibi',\n",
       "       'Conjunto Residencial Vista Verde', 'Parque das Paineiras',\n",
       "       'Vila Dom Pedro II', 'Vila Gumercindo', 'Vila Bancária Munhoz',\n",
       "       'Moema', 'Cidade Líder', 'Parque São Domingos', 'Vila Santa Clara',\n",
       "       'Vila Carioca', 'Jardim Consórcio', 'Vila Hebe', 'Quarta Parada',\n",
       "       'Vila São José (Ipiranga)', 'Jardim Anália Franco', 'Saúde',\n",
       "       'Jardim das Bandeiras', 'Sumarezinho', 'Jardim Santo Elias',\n",
       "       'Vila Moreira', 'Vila Morumbi', 'Jardim Vila Carrão', 'Casa Verde',\n",
       "       'Chácara Japonesa', 'Jardim Bonfiglioli', 'City América',\n",
       "       'Pinheiros', 'Parque Fernanda', 'Fazenda Morumbi', 'Parque Munhoz',\n",
       "       'Vila Antônio', 'Jardim Novo Mundo', 'Higienópolis',\n",
       "       'Vila Bertioga', 'Jardim Everest', 'Retiro Morumbi',\n",
       "       'Paineiras do Morumbi', 'Vila Londrina', \"Jardim Panorama D'Oeste\",\n",
       "       'Cidade São Mateus', 'Paraíso', 'Vila Progredior',\n",
       "       'Jardim Casablanca', 'Chácara Belenzinho', 'Jardim Peri Peri',\n",
       "       'Vila Cláudia', 'Vila Butantã', 'Jardim Vila Mariana',\n",
       "       'Jardim Peri', 'Parque CíSão Pauloer', 'Parque Ipê',\n",
       "       'Vila Alexandria', 'Consolação', 'Brooklin Novo',\n",
       "       'Chácara Monte Alegre', 'Real Parque', 'Mandaqui',\n",
       "       'Jardim São Bento', 'Super Quadra Morumbi', 'Vila Sílvia',\n",
       "       'Parque Jabaquara', 'Jabaquara', 'Jardim Nossa Senhora do Carmo',\n",
       "       'Pompeia', 'Jardim Celeste', 'Vila Santa Catarina',\n",
       "       'Vila Comercial', 'Água Rasa', 'Carandiru', 'Vila Mascote',\n",
       "       'Vila Gea', 'Vila Pirajussara', 'Vila Oratório',\n",
       "       'Jardim das Laranjeiras', 'Vila Lageado', 'Jardim Colombo',\n",
       "       'Vila Perus', 'Jardim Satélite', 'Vila Isolina Mazzei',\n",
       "       'Cidade São Francisco', 'Parque Mandaqui', 'Jardim Tremembé',\n",
       "       'Vila Nivi', 'Vila Canero', 'Vila Buenos Aires', 'Lapa de Baixo',\n",
       "       'Jardim Tietê', 'Vila Araguaia', 'Vila Lúcia',\n",
       "       'Jardim Brasil (Zona Sul)', 'Jardim Vitória Régia',\n",
       "       'Praia da Lagoa', 'Vila Nova Mazzei', 'Canindé', 'Vila Tiradentes',\n",
       "       'Vila São Francisco', 'Lar São Paulo', 'Vila Palmeiras',\n",
       "       'Chácara Califórnia', 'Vila Maria Alta',\n",
       "       'Instituto de Previdência', 'Jardim Aeroporto',\n",
       "       'Vila Anglo Brasileira', 'Vila Andrade', 'Horto Florestal',\n",
       "       'Vila Amélia', 'Parque da Mooca', 'Vila Hamburguesa',\n",
       "       'Jardim Umuarama', 'Santa Cecília', 'Vila Ré', 'Brooklin',\n",
       "       'Jardins', 'Vila Vera', 'Jardim Monte Kemel', 'Jardim Monte Azul',\n",
       "       'Vila Isa', 'Vila Cruzeiro', 'Vila Anastácio',\n",
       "       'São Miguel Paulista', 'Jurubatuba', 'Vila Salete', 'Chora Menino',\n",
       "       'Vila Nova Alba', 'Vila Nova Caledonia', 'Vila Nova Cachoeirinha',\n",
       "       'Vila Constança', 'Vila Carbone', 'Alto da Mooca', 'Vila Adalgisa',\n",
       "       'Vila São Geraldo', 'Vila ESão Pauloerança', 'Jardim Ester',\n",
       "       'Vila Ester (Zona Norte)', 'Jardim das Acácias', 'Jardim Patente',\n",
       "       'Parque dos Príncipes', 'Vila São Silvestre',\n",
       "       'Vila Diva (Zona Leste)', 'Chácara Tatuapé', 'Santa Teresinha',\n",
       "       'Jardim Vera Cruz', 'Vila Clementino',\n",
       "       'Conjunto Habitacional Barreira Grande', 'Vila do Encontro',\n",
       "       'Jardim Dracena', 'Vila das Mercês', 'Casa Verde Alta',\n",
       "       'Jardim dos Cataldis', 'Vila Deodoro', 'Jardim Maracanã',\n",
       "       'Jardim Maringá', 'Parque Residencial Oratorio',\n",
       "       'Conjunto Residencial Jardim Canaã',\n",
       "       'Jardim Santa Cruz (Campo Grande)', 'Vila da Saúde',\n",
       "       'Jardim Triana', 'Vila Liviero', 'Vila Medeiros', 'Jardim Penha',\n",
       "       'Jardim Vaz de Lima', 'Jardim Textil', 'Paraíso do Morumbi',\n",
       "       'Jardim Hípico', 'Vila Firmiano Pinto',\n",
       "       'Jardim Ipanema (Zona Sul)', 'Vila Fernandes', 'Cidade Centenário',\n",
       "       'Jaguaré', 'Jardim Odete', 'Jardim Miriam', 'Vila Santo Estéfano',\n",
       "       'Vila Rica', 'Jardim Petropolis', 'Vila Caraguatá', 'Vila Jacuí',\n",
       "       'Vila Califórnia(Zona Sul)', 'Sacomã', 'Vila Mafra', 'Vila Carrao',\n",
       "       'Parque Vitória', 'Vila Invernada', 'Vila Clara',\n",
       "       'Vila Anhangüera', 'Jardim Caravelas', 'Cupecê', 'Jardim Rizzo',\n",
       "       'Vila Império', 'Vila Nelson', 'Parque Santa Cecília',\n",
       "       'Jardim Olympia', 'Vila Inglesa', 'Vila Macedópolis',\n",
       "       'Vila Nova Curuçá', 'Vila Paiva', 'Jardim Analia Franco',\n",
       "       'Vila Prado', 'Liberdade', 'Jardim Maria Duarte', 'Parque Sevilha',\n",
       "       'Jardim Santa Helena', 'Vila Sonia', 'Vila Marieta',\n",
       "       'Conjunto Residencial Bandeirantes', 'Jardim Eliana', 'Vila Gomes',\n",
       "       'Conjunto Residencial Butantã', 'Paraisópolis', 'Jardim Teresa',\n",
       "       'Jardim Brasília (Zona Leste)', 'Jardim Danfer',\n",
       "       'Parque Ramos Freitas', 'Bom Retiro', 'Vila Rio Branco',\n",
       "       'Chácara das Paineiras', 'Vila Pedroso', 'Vila Universitária',\n",
       "       'Jardim Campo Grande', 'Brás', 'Chácara Meyer', 'Vila Paulicéia',\n",
       "       'Rio Pequeno', 'Vila Nair', 'Jardim Taboão', 'Capão Redondo',\n",
       "       'Jardim Panorama (Zona Leste)', 'Vila Santana', 'Vila Guilhermina',\n",
       "       'Vila Aurora (Zona Norte)', 'Vila Carlos de Campos',\n",
       "       'Vila Castelo', 'Campo Grande', 'Parque Novo Mundo',\n",
       "       'Jardim Cidália', 'Vila Cardoso Franco', 'Jardim Oriental',\n",
       "       'Jardim Taboao', 'Guaianases', 'Jardim Catanduva',\n",
       "       'Jardim Colorado', 'Jardim Esmeralda', 'Vila São José',\n",
       "       'Vila Maria Baixa', 'Vila Baby', 'Jardim Tenani', 'Jardim Gonzaga',\n",
       "       'Vila Campestre', 'Parque Fongaro', 'Chácara Mafalda',\n",
       "       'Vila São Francisco (Zona Sul)', 'Imirim', 'Parque São Lucas',\n",
       "       'Vila Santa Teresa (Zona Leste)', 'Jardim Floresta',\n",
       "       'Sítio da Figueira', 'Chácara Jaraguá', 'Vila Nova Caledônia',\n",
       "       'Vila Ivg', 'Vila América', 'Vila Analia', 'Parque Santa Rita',\n",
       "       'Vila Rui Barbosa', 'Campos Elíseos', 'Jardim de Lorenzo',\n",
       "       'Parque Edu Chaves', 'Conjunto Promorar Raposo Tavares',\n",
       "       'Jardim Germânia', 'Vila Dalila', 'Vila Primavera', 'Brasilândia',\n",
       "       'Vila Antonina', 'Socorro', 'Vila Celeste', 'Jardim Nove de Julho',\n",
       "       'Jardim Ernestina', 'Vila Noca', 'Jardim Cidade Pirituba',\n",
       "       'Vila Santa Virginia', 'Vila do Bosque', 'Jardim Itapeva',\n",
       "       'Parada XV de Novembro', 'Vila Nhocune', 'Jardim Bélgica',\n",
       "       'Jardim Jussara', 'Jardim Vergueiro (Sacomã)', 'Vila Guedes',\n",
       "       'Jardim São Carlos (Zona Sul)', 'Vila Santa Edwiges', 'Rio Bonito',\n",
       "       'Jardim Vera Cruz(Zona Leste)', 'Vila Almeida',\n",
       "       'Chácara Seis de Outubro', 'Vila Polopoli', 'Vila Virginia',\n",
       "       'Vila Boaçava', 'Vila do Castelo', 'Jardim Rosa Maria',\n",
       "       'Jardim Santa Adélia', 'Vila Nova Manchester', 'Vila Agueda',\n",
       "       'Jardim Monte Alegre', 'Jardim Avelino', 'Vila Indiana',\n",
       "       'Jardim Jabaquara', 'Jardim Morro Verde', 'Jardim Modelo',\n",
       "       'Ibirapuera', 'Jardim Paraíso', 'Balneário Mar Paulista',\n",
       "       'Jardim Ponte Rasa', 'Jardim Marília', 'Jardim Raposo Tavares',\n",
       "       'Jardim Niteroi', 'Vila Irmãos Arnoni', 'Vila Parque Jabaquara',\n",
       "       'Vila Paulo Silas', 'Jardim Castelo', 'Vila Barbosa',\n",
       "       'Parque Imperial', 'Vila Represa', 'Jaraguá', 'Vila Mira',\n",
       "       'Jardim Coimbra', 'Sítio do Mandaqui', 'Sítio Represa', 'Ferreira',\n",
       "       'Jardim Vitoria Regia', 'Cidade Ademar', 'Nova Piraju',\n",
       "       'Vila Paulista', 'Rolinópolis', 'Vila Picinin',\n",
       "       'Parque Nações Unidas', 'Jardim Maria Augusta', 'Vila Sofia',\n",
       "       'Jardim São Jorge', 'Parque do Castelo',\n",
       "       'Jardim do Colégio (Zona Norte)', 'Parque Peruche', 'Jardim Carlu',\n",
       "       'São Lucas', 'Burgo Paulista', 'Maranhão', 'Jardim Mangalot',\n",
       "       'Jardim Japão', 'Praia Paulistinha', 'Catumbi', 'Vila Cleonice',\n",
       "       'Piqueri', 'Jardim dos Pinheiros', 'Jardim Popular',\n",
       "       'Vila Pereira Barreto', 'Vila Sao Paulo', 'Vila Monte Alegre',\n",
       "       'Jardim Heliomar', 'Jardim Botucatu', 'Vila Curuçá', 'Vila Jurema',\n",
       "       'Vila Independência', nan, 'Água Funda', 'Vila Romero',\n",
       "       'Vila São Vicente', 'Jardim Riviera', 'Jardim Aricanduva',\n",
       "       'Vila Campanela', 'Vila Romano', 'Vila Simone', 'Jardim Guairaca',\n",
       "       'Jardim Sarah', 'Parque Maria Fernandes', 'Vila Piauí',\n",
       "       'Jardim Anhanguera', 'Vila Bela Aliança', 'Jardim Promissão',\n",
       "       'Vila Industrial', 'Vila Cunha Bueno', 'Vila São Domingos',\n",
       "       'Vila Domitila', 'Educandário', 'Vila Neila', 'Bortolândia',\n",
       "       'Vila Paranaguá', 'Vila Ayrosa', 'Jardim Cláudia',\n",
       "       'Jardim Dom Bosco', 'Jardim Ubirajara', 'Jardim dos Prados',\n",
       "       'Jardim Ester Yolanda', 'Jardim Cristal', 'Vila Olinda',\n",
       "       'Parque Regina', 'Jardim Primavera (Zona Sul)', 'Vila Roseira II',\n",
       "       'Jardim Santa Fé (Zona Sul)', 'Vila Elvira', 'Jardim Guarau',\n",
       "       'Jardim da Pedreira', 'Jardim Luanda', 'Jardim Ibitirama',\n",
       "       'Jardim São Carlos (Zona Leste)', 'Vila Carmosina',\n",
       "       'Vila Santa Teresa (Zona Sul)', 'Vila Duarte', 'Vila Aurea',\n",
       "       'Vila Emir', 'Jardim Leila', 'Conjunto Residencial Morada do Sol',\n",
       "       'Recanto dos Sonhos', 'Jardim Tremembe', 'Jardim Guapira',\n",
       "       'Vila Vasconcelos', 'Parque do Terceiro Lago',\n",
       "       'Jardim Boa Vista (Zona Oeste)', 'Jardim Sul São Paulo',\n",
       "       'Vila Dorna', 'Engenheiro Goulart',\n",
       "       'Vila Santa Terezinha (Zona Norte)', 'Vila Leonor',\n",
       "       'Jardim Rincão', 'Jardim Sabará', 'Jardim Colonial', 'Aricanduva',\n",
       "       'Jardim Palmares (Zona Sul)', 'Vila Darli', 'Jardim Nice',\n",
       "       'Jardim Fernandes', 'Vila Constancia', 'Jardim Itapemirim',\n",
       "       'Jardim Pirituba', 'Jardim Felicidade (Zona Oeste)',\n",
       "       'Jardim Arize', 'Parque Maria Domitila', 'Jardim São José',\n",
       "       'Vila Joaniza', 'Parque Santo Antônio (Aricanduva)',\n",
       "       'Jardim Cidalia', 'Vila Dalva', 'Jardim Santa Cruz (Sacomã)',\n",
       "       'Vila Gertrudes', 'Vila Pita', 'Jardim Parque Morumbi',\n",
       "       'Jardim Cambara', 'Conjunto Habitacional Castro Alves',\n",
       "       'Vila Natália', 'Parque Residencial Julia', 'Vila Ivone',\n",
       "       'Vila Babilônia', 'Jardim Egle', 'Jardim Guarapiranga',\n",
       "       'Jardim Pinheiros', 'Jardim Record', 'Bela Vista',\n",
       "       'Vila Conde do Pinhal', 'Guaianazes', 'Jardim Rio Pequeno',\n",
       "       'Parque Monteiro Soares', 'Jardim Ipanema (Zona Oeste)',\n",
       "       'Jardim Cotiana', 'Jardim Avenida', 'Jardim São Nicolau',\n",
       "       'Jardim Morais Prado', 'Vila Santo Estevão', 'Vila Rosa',\n",
       "       'Vila Vitório Mazzei', 'Jardim do Campo', 'Jardim Independência',\n",
       "       'Vila Nilo', 'Vila Nova Pauliceia', 'Limoeiro',\n",
       "       'Jardim São Jorge (Raposo Tavares)', 'Vila Fiat Lux',\n",
       "       'Jardim Íris', 'Vila Santo Antônio', 'Jardim Domitila',\n",
       "       'Vila Bonilha Nova', 'Jardim Umarizal',\n",
       "       'Cidade Antônio Estevão de Carvalho', 'Jardim Catarina',\n",
       "       'Jardim Taquaral', 'Vila Ponte Rasa', 'Jardim Jaú (Zona Leste)',\n",
       "       'Jardim Guanca', 'Jardim Lourdes', 'Vila Pedra Branca',\n",
       "       'Vila Guaca', 'Cidade dos Bandeirantes', 'Vila União(Zona Norte)',\n",
       "       'Jardim Itacolomi', 'Parque São Jorge', 'Vila Reis',\n",
       "       'Parque das Árvores', 'Vila São Pedro', 'Jardim das Carmelitas'],\n",
       "      dtype=object)"
      ]
     },
     "execution_count": 82,
     "metadata": {},
     "output_type": "execute_result"
    }
   ],
   "source": [
    "District_Names"
   ]
  },
  {
   "cell_type": "code",
   "execution_count": 83,
   "id": "959c15e0",
   "metadata": {},
   "outputs": [],
   "source": [
    "#Iterate district_names\n",
    "for district  in District_Names:\n",
    "    dfDistricts_Method2 = df[df['Bairro'] == district]"
   ]
  },
  {
   "cell_type": "markdown",
   "id": "8ed0fdb5",
   "metadata": {},
   "source": [
    "Then, inside the loop, we can perform some desired operation with the data of a specific district"
   ]
  },
  {
   "cell_type": "markdown",
   "id": "c6b4a71b",
   "metadata": {},
   "source": [
    "### 3 - Explore the other columns using different kinds of graphs"
   ]
  },
  {
   "cell_type": "code",
   "execution_count": 84,
   "id": "166662bb",
   "metadata": {},
   "outputs": [
    {
     "data": {
      "text/plain": [
       "array([[<AxesSubplot:title={'center':'Quartos'}>,\n",
       "        <AxesSubplot:title={'center':'Banheiros'}>],\n",
       "       [<AxesSubplot:title={'center':'Vagas'}>, <AxesSubplot:>]],\n",
       "      dtype=object)"
      ]
     },
     "execution_count": 84,
     "metadata": {},
     "output_type": "execute_result"
    },
    {
     "data": {
      "image/png": "[encoded data removed]",
      "text/plain": [
       "<Figure size 432x288 with 4 Axes>"
      ]
     },
     "metadata": {
      "needs_background": "light"
     },
     "output_type": "display_data"
    }
   ],
   "source": [
    "#Plot histogram with number of rooms, bathrooms and parking spaces.\n",
    "df.loc[:,['Quartos', 'Banheiros', 'Vagas']].hist()"
   ]
  },
  {
   "cell_type": "code",
   "execution_count": 85,
   "id": "d7e02aa9",
   "metadata": {},
   "outputs": [
    {
     "data": {
      "text/html": [
       "<div>\n",
       "<style scoped>\n",
       "    .dataframe tbody tr th:only-of-type {\n",
       "        vertical-align: middle;\n",
       "    }\n",
       "\n",
       "    .dataframe tbody tr th {\n",
       "        vertical-align: top;\n",
       "    }\n",
       "\n",
       "    .dataframe thead th {\n",
       "        text-align: right;\n",
       "    }\n",
       "</style>\n",
       "<table border=\"1\" class=\"dataframe\">\n",
       "  <thead>\n",
       "    <tr style=\"text-align: right;\">\n",
       "      <th></th>\n",
       "      <th>Quartos</th>\n",
       "      <th>Banheiros</th>\n",
       "      <th>Vagas</th>\n",
       "    </tr>\n",
       "  </thead>\n",
       "  <tbody>\n",
       "    <tr>\n",
       "      <th>count</th>\n",
       "      <td>10008.000000</td>\n",
       "      <td>10008.000000</td>\n",
       "      <td>10008.000000</td>\n",
       "    </tr>\n",
       "    <tr>\n",
       "      <th>mean</th>\n",
       "      <td>3.483114</td>\n",
       "      <td>3.879097</td>\n",
       "      <td>4.097222</td>\n",
       "    </tr>\n",
       "    <tr>\n",
       "      <th>std</th>\n",
       "      <td>1.064200</td>\n",
       "      <td>1.988467</td>\n",
       "      <td>2.824014</td>\n",
       "    </tr>\n",
       "    <tr>\n",
       "      <th>min</th>\n",
       "      <td>1.000000</td>\n",
       "      <td>1.000000</td>\n",
       "      <td>1.000000</td>\n",
       "    </tr>\n",
       "    <tr>\n",
       "      <th>25%</th>\n",
       "      <td>3.000000</td>\n",
       "      <td>2.000000</td>\n",
       "      <td>2.000000</td>\n",
       "    </tr>\n",
       "    <tr>\n",
       "      <th>50%</th>\n",
       "      <td>3.000000</td>\n",
       "      <td>4.000000</td>\n",
       "      <td>4.000000</td>\n",
       "    </tr>\n",
       "    <tr>\n",
       "      <th>75%</th>\n",
       "      <td>4.000000</td>\n",
       "      <td>5.000000</td>\n",
       "      <td>5.000000</td>\n",
       "    </tr>\n",
       "    <tr>\n",
       "      <th>max</th>\n",
       "      <td>16.000000</td>\n",
       "      <td>40.000000</td>\n",
       "      <td>50.000000</td>\n",
       "    </tr>\n",
       "  </tbody>\n",
       "</table>\n",
       "</div>"
      ],
      "text/plain": [
       "            Quartos     Banheiros         Vagas\n",
       "count  10008.000000  10008.000000  10008.000000\n",
       "mean       3.483114      3.879097      4.097222\n",
       "std        1.064200      1.988467      2.824014\n",
       "min        1.000000      1.000000      1.000000\n",
       "25%        3.000000      2.000000      2.000000\n",
       "50%        3.000000      4.000000      4.000000\n",
       "75%        4.000000      5.000000      5.000000\n",
       "max       16.000000     40.000000     50.000000"
      ]
     },
     "execution_count": 85,
     "metadata": {},
     "output_type": "execute_result"
    }
   ],
   "source": [
    "#Get statistical data relating number of rooms, bathrooms and parking spaces.\n",
    "df.loc[:,['Quartos', 'Banheiros', 'Vagas']].describe()"
   ]
  },
  {
   "cell_type": "markdown",
   "id": "9cba77ff",
   "metadata": {},
   "source": [
    "**The maximum values for each colummn is much greater than the mean and median. We will cut this outliers to make better histograms.**"
   ]
  },
  {
   "cell_type": "code",
   "execution_count": 86,
   "id": "e7a68f77",
   "metadata": {},
   "outputs": [
    {
     "data": {
      "text/plain": [
       "<AxesSubplot:>"
      ]
     },
     "execution_count": 86,
     "metadata": {},
     "output_type": "execute_result"
    },
    {
     "data": {
      "image/png": "[encoded data removed]",
      "text/plain": [
       "<Figure size 432x288 with 1 Axes>"
      ]
     },
     "metadata": {
      "needs_background": "light"
     },
     "output_type": "display_data"
    }
   ],
   "source": [
    "#Consider only rows with numbers of rooms lower than 10.\n",
    "df[df['Quartos'] < 10]['Quartos'].hist()"
   ]
  },
  {
   "cell_type": "code",
   "execution_count": 87,
   "id": "c6c9c2fc",
   "metadata": {},
   "outputs": [
    {
     "data": {
      "text/plain": [
       "<AxesSubplot:>"
      ]
     },
     "execution_count": 87,
     "metadata": {},
     "output_type": "execute_result"
    },
    {
     "data": {
      "image/png": "[encoded data removed]",
      "text/plain": [
       "<Figure size 432x288 with 1 Axes>"
      ]
     },
     "metadata": {
      "needs_background": "light"
     },
     "output_type": "display_data"
    }
   ],
   "source": [
    "#Consider only rows with numbers of bathrooms lower than 10.\n",
    "df[df['Banheiros'] < 10]['Banheiros'].hist()"
   ]
  },
  {
   "cell_type": "code",
   "execution_count": 88,
   "id": "5adb933b",
   "metadata": {},
   "outputs": [
    {
     "data": {
      "text/plain": [
       "<AxesSubplot:>"
      ]
     },
     "execution_count": 88,
     "metadata": {},
     "output_type": "execute_result"
    },
    {
     "data": {
      "image/png": "[encoded data removed]",
      "text/plain": [
       "<Figure size 432x288 with 1 Axes>"
      ]
     },
     "metadata": {
      "needs_background": "light"
     },
     "output_type": "display_data"
    }
   ],
   "source": [
    "#Consider only rows with numbers of rooms lower than 20.\n",
    "df[df['Vagas'] < 20]['Vagas'].hist()"
   ]
  },
  {
   "cell_type": "markdown",
   "id": "84f2aae8",
   "metadata": {},
   "source": [
    "### 4 - Get other statistical data"
   ]
  },
  {
   "cell_type": "code",
   "execution_count": 89,
   "id": "e9c732a1",
   "metadata": {},
   "outputs": [
    {
     "data": {
      "text/html": [
       "<div>\n",
       "<style scoped>\n",
       "    .dataframe tbody tr th:only-of-type {\n",
       "        vertical-align: middle;\n",
       "    }\n",
       "\n",
       "    .dataframe tbody tr th {\n",
       "        vertical-align: top;\n",
       "    }\n",
       "\n",
       "    .dataframe thead th {\n",
       "        text-align: right;\n",
       "    }\n",
       "</style>\n",
       "<table border=\"1\" class=\"dataframe\">\n",
       "  <thead>\n",
       "    <tr style=\"text-align: right;\">\n",
       "      <th></th>\n",
       "      <th>Metragem</th>\n",
       "      <th>Quartos</th>\n",
       "      <th>Banheiros</th>\n",
       "      <th>Vagas</th>\n",
       "      <th>Valor</th>\n",
       "    </tr>\n",
       "  </thead>\n",
       "  <tbody>\n",
       "    <tr>\n",
       "      <th>count</th>\n",
       "      <td>10008.000000</td>\n",
       "      <td>10008.000000</td>\n",
       "      <td>10008.000000</td>\n",
       "      <td>10008.000000</td>\n",
       "      <td>1.000800e+04</td>\n",
       "    </tr>\n",
       "    <tr>\n",
       "      <th>mean</th>\n",
       "      <td>442.300659</td>\n",
       "      <td>3.483114</td>\n",
       "      <td>3.879097</td>\n",
       "      <td>4.097222</td>\n",
       "      <td>2.794170e+06</td>\n",
       "    </tr>\n",
       "    <tr>\n",
       "      <th>std</th>\n",
       "      <td>7515.379389</td>\n",
       "      <td>1.064200</td>\n",
       "      <td>1.988467</td>\n",
       "      <td>2.824014</td>\n",
       "      <td>3.866249e+06</td>\n",
       "    </tr>\n",
       "    <tr>\n",
       "      <th>min</th>\n",
       "      <td>10.000000</td>\n",
       "      <td>1.000000</td>\n",
       "      <td>1.000000</td>\n",
       "      <td>1.000000</td>\n",
       "      <td>1.650000e+03</td>\n",
       "    </tr>\n",
       "    <tr>\n",
       "      <th>25%</th>\n",
       "      <td>173.000000</td>\n",
       "      <td>3.000000</td>\n",
       "      <td>2.000000</td>\n",
       "      <td>2.000000</td>\n",
       "      <td>7.500000e+05</td>\n",
       "    </tr>\n",
       "    <tr>\n",
       "      <th>50%</th>\n",
       "      <td>290.000000</td>\n",
       "      <td>3.000000</td>\n",
       "      <td>4.000000</td>\n",
       "      <td>4.000000</td>\n",
       "      <td>1.600000e+06</td>\n",
       "    </tr>\n",
       "    <tr>\n",
       "      <th>75%</th>\n",
       "      <td>460.250000</td>\n",
       "      <td>4.000000</td>\n",
       "      <td>5.000000</td>\n",
       "      <td>5.000000</td>\n",
       "      <td>3.350000e+06</td>\n",
       "    </tr>\n",
       "    <tr>\n",
       "      <th>max</th>\n",
       "      <td>750000.000000</td>\n",
       "      <td>16.000000</td>\n",
       "      <td>40.000000</td>\n",
       "      <td>50.000000</td>\n",
       "      <td>6.500000e+07</td>\n",
       "    </tr>\n",
       "  </tbody>\n",
       "</table>\n",
       "</div>"
      ],
      "text/plain": [
       "            Metragem       Quartos     Banheiros         Vagas         Valor\n",
       "count   10008.000000  10008.000000  10008.000000  10008.000000  1.000800e+04\n",
       "mean      442.300659      3.483114      3.879097      4.097222  2.794170e+06\n",
       "std      7515.379389      1.064200      1.988467      2.824014  3.866249e+06\n",
       "min        10.000000      1.000000      1.000000      1.000000  1.650000e+03\n",
       "25%       173.000000      3.000000      2.000000      2.000000  7.500000e+05\n",
       "50%       290.000000      3.000000      4.000000      4.000000  1.600000e+06\n",
       "75%       460.250000      4.000000      5.000000      5.000000  3.350000e+06\n",
       "max    750000.000000     16.000000     40.000000     50.000000  6.500000e+07"
      ]
     },
     "execution_count": 89,
     "metadata": {},
     "output_type": "execute_result"
    }
   ],
   "source": [
    "#Statistical data about footages, rooms, bathrooms, parking spaces and house price\n",
    "df.describe()"
   ]
  },
  {
   "cell_type": "code",
   "execution_count": 90,
   "id": "f67fae82",
   "metadata": {},
   "outputs": [
    {
     "data": {
      "text/html": [
       "<div>\n",
       "<style scoped>\n",
       "    .dataframe tbody tr th:only-of-type {\n",
       "        vertical-align: middle;\n",
       "    }\n",
       "\n",
       "    .dataframe tbody tr th {\n",
       "        vertical-align: top;\n",
       "    }\n",
       "\n",
       "    .dataframe thead tr th {\n",
       "        text-align: left;\n",
       "    }\n",
       "\n",
       "    .dataframe thead tr:last-of-type th {\n",
       "        text-align: right;\n",
       "    }\n",
       "</style>\n",
       "<table border=\"1\" class=\"dataframe\">\n",
       "  <thead>\n",
       "    <tr>\n",
       "      <th></th>\n",
       "      <th colspan=\"8\" halign=\"left\">Metragem</th>\n",
       "      <th colspan=\"2\" halign=\"left\">Quartos</th>\n",
       "      <th>...</th>\n",
       "      <th colspan=\"2\" halign=\"left\">Vagas</th>\n",
       "      <th colspan=\"8\" halign=\"left\">Valor</th>\n",
       "    </tr>\n",
       "    <tr>\n",
       "      <th></th>\n",
       "      <th>count</th>\n",
       "      <th>mean</th>\n",
       "      <th>std</th>\n",
       "      <th>min</th>\n",
       "      <th>25%</th>\n",
       "      <th>50%</th>\n",
       "      <th>75%</th>\n",
       "      <th>max</th>\n",
       "      <th>count</th>\n",
       "      <th>mean</th>\n",
       "      <th>...</th>\n",
       "      <th>75%</th>\n",
       "      <th>max</th>\n",
       "      <th>count</th>\n",
       "      <th>mean</th>\n",
       "      <th>std</th>\n",
       "      <th>min</th>\n",
       "      <th>25%</th>\n",
       "      <th>50%</th>\n",
       "      <th>75%</th>\n",
       "      <th>max</th>\n",
       "    </tr>\n",
       "    <tr>\n",
       "      <th>Bairro</th>\n",
       "      <th></th>\n",
       "      <th></th>\n",
       "      <th></th>\n",
       "      <th></th>\n",
       "      <th></th>\n",
       "      <th></th>\n",
       "      <th></th>\n",
       "      <th></th>\n",
       "      <th></th>\n",
       "      <th></th>\n",
       "      <th></th>\n",
       "      <th></th>\n",
       "      <th></th>\n",
       "      <th></th>\n",
       "      <th></th>\n",
       "      <th></th>\n",
       "      <th></th>\n",
       "      <th></th>\n",
       "      <th></th>\n",
       "      <th></th>\n",
       "      <th></th>\n",
       "    </tr>\n",
       "  </thead>\n",
       "  <tbody>\n",
       "    <tr>\n",
       "      <th>Aclimação</th>\n",
       "      <td>88.0</td>\n",
       "      <td>253.056818</td>\n",
       "      <td>159.140245</td>\n",
       "      <td>104.0</td>\n",
       "      <td>165.00</td>\n",
       "      <td>227.5</td>\n",
       "      <td>300.00</td>\n",
       "      <td>1500.0</td>\n",
       "      <td>88.0</td>\n",
       "      <td>3.318182</td>\n",
       "      <td>...</td>\n",
       "      <td>4.00</td>\n",
       "      <td>8.0</td>\n",
       "      <td>88.0</td>\n",
       "      <td>1.583697e+06</td>\n",
       "      <td>9.874291e+05</td>\n",
       "      <td>7000.0</td>\n",
       "      <td>957500.0</td>\n",
       "      <td>1391500.0</td>\n",
       "      <td>2200000.0</td>\n",
       "      <td>5000000.0</td>\n",
       "    </tr>\n",
       "    <tr>\n",
       "      <th>Alto da Boa Vista</th>\n",
       "      <td>8.0</td>\n",
       "      <td>418.875000</td>\n",
       "      <td>111.880596</td>\n",
       "      <td>315.0</td>\n",
       "      <td>347.50</td>\n",
       "      <td>378.0</td>\n",
       "      <td>448.75</td>\n",
       "      <td>595.0</td>\n",
       "      <td>8.0</td>\n",
       "      <td>4.125000</td>\n",
       "      <td>...</td>\n",
       "      <td>5.25</td>\n",
       "      <td>7.0</td>\n",
       "      <td>8.0</td>\n",
       "      <td>2.391250e+06</td>\n",
       "      <td>5.535970e+05</td>\n",
       "      <td>1680000.0</td>\n",
       "      <td>2087500.0</td>\n",
       "      <td>2275000.0</td>\n",
       "      <td>2812500.0</td>\n",
       "      <td>3200000.0</td>\n",
       "    </tr>\n",
       "    <tr>\n",
       "      <th>Alto da Lapa</th>\n",
       "      <td>86.0</td>\n",
       "      <td>294.337209</td>\n",
       "      <td>187.674036</td>\n",
       "      <td>46.0</td>\n",
       "      <td>151.25</td>\n",
       "      <td>255.0</td>\n",
       "      <td>363.75</td>\n",
       "      <td>1133.0</td>\n",
       "      <td>86.0</td>\n",
       "      <td>3.151163</td>\n",
       "      <td>...</td>\n",
       "      <td>5.75</td>\n",
       "      <td>12.0</td>\n",
       "      <td>86.0</td>\n",
       "      <td>1.938418e+06</td>\n",
       "      <td>1.469504e+06</td>\n",
       "      <td>2790.0</td>\n",
       "      <td>1200000.0</td>\n",
       "      <td>1700000.0</td>\n",
       "      <td>2350000.0</td>\n",
       "      <td>9000000.0</td>\n",
       "    </tr>\n",
       "    <tr>\n",
       "      <th>Alto da Mooca</th>\n",
       "      <td>20.0</td>\n",
       "      <td>270.050000</td>\n",
       "      <td>237.306924</td>\n",
       "      <td>84.0</td>\n",
       "      <td>133.75</td>\n",
       "      <td>182.5</td>\n",
       "      <td>221.25</td>\n",
       "      <td>805.0</td>\n",
       "      <td>20.0</td>\n",
       "      <td>3.300000</td>\n",
       "      <td>...</td>\n",
       "      <td>5.25</td>\n",
       "      <td>6.0</td>\n",
       "      <td>20.0</td>\n",
       "      <td>1.184170e+06</td>\n",
       "      <td>4.474662e+05</td>\n",
       "      <td>530000.0</td>\n",
       "      <td>757500.0</td>\n",
       "      <td>1222500.0</td>\n",
       "      <td>1600000.0</td>\n",
       "      <td>2000000.0</td>\n",
       "    </tr>\n",
       "    <tr>\n",
       "      <th>Alto de Pinheiros</th>\n",
       "      <td>409.0</td>\n",
       "      <td>433.444988</td>\n",
       "      <td>145.676574</td>\n",
       "      <td>100.0</td>\n",
       "      <td>344.00</td>\n",
       "      <td>412.0</td>\n",
       "      <td>505.00</td>\n",
       "      <td>1530.0</td>\n",
       "      <td>409.0</td>\n",
       "      <td>3.938875</td>\n",
       "      <td>...</td>\n",
       "      <td>6.00</td>\n",
       "      <td>15.0</td>\n",
       "      <td>409.0</td>\n",
       "      <td>4.317024e+06</td>\n",
       "      <td>2.691630e+06</td>\n",
       "      <td>7000.0</td>\n",
       "      <td>3000000.0</td>\n",
       "      <td>3900000.0</td>\n",
       "      <td>5500000.0</td>\n",
       "      <td>18000000.0</td>\n",
       "    </tr>\n",
       "    <tr>\n",
       "      <th>...</th>\n",
       "      <td>...</td>\n",
       "      <td>...</td>\n",
       "      <td>...</td>\n",
       "      <td>...</td>\n",
       "      <td>...</td>\n",
       "      <td>...</td>\n",
       "      <td>...</td>\n",
       "      <td>...</td>\n",
       "      <td>...</td>\n",
       "      <td>...</td>\n",
       "      <td>...</td>\n",
       "      <td>...</td>\n",
       "      <td>...</td>\n",
       "      <td>...</td>\n",
       "      <td>...</td>\n",
       "      <td>...</td>\n",
       "      <td>...</td>\n",
       "      <td>...</td>\n",
       "      <td>...</td>\n",
       "      <td>...</td>\n",
       "      <td>...</td>\n",
       "    </tr>\n",
       "    <tr>\n",
       "      <th>Vila Água Funda</th>\n",
       "      <td>5.0</td>\n",
       "      <td>152.200000</td>\n",
       "      <td>44.353128</td>\n",
       "      <td>90.0</td>\n",
       "      <td>138.00</td>\n",
       "      <td>143.0</td>\n",
       "      <td>190.00</td>\n",
       "      <td>200.0</td>\n",
       "      <td>5.0</td>\n",
       "      <td>2.600000</td>\n",
       "      <td>...</td>\n",
       "      <td>3.00</td>\n",
       "      <td>4.0</td>\n",
       "      <td>5.0</td>\n",
       "      <td>6.520000e+05</td>\n",
       "      <td>2.064461e+05</td>\n",
       "      <td>370000.0</td>\n",
       "      <td>540000.0</td>\n",
       "      <td>650000.0</td>\n",
       "      <td>850000.0</td>\n",
       "      <td>850000.0</td>\n",
       "    </tr>\n",
       "    <tr>\n",
       "      <th>Água Branca</th>\n",
       "      <td>13.0</td>\n",
       "      <td>191.000000</td>\n",
       "      <td>91.045776</td>\n",
       "      <td>91.0</td>\n",
       "      <td>143.00</td>\n",
       "      <td>174.0</td>\n",
       "      <td>200.00</td>\n",
       "      <td>400.0</td>\n",
       "      <td>13.0</td>\n",
       "      <td>3.153846</td>\n",
       "      <td>...</td>\n",
       "      <td>3.00</td>\n",
       "      <td>7.0</td>\n",
       "      <td>13.0</td>\n",
       "      <td>1.132654e+06</td>\n",
       "      <td>5.568425e+05</td>\n",
       "      <td>6500.0</td>\n",
       "      <td>1099000.0</td>\n",
       "      <td>1200000.0</td>\n",
       "      <td>1300000.0</td>\n",
       "      <td>2500000.0</td>\n",
       "    </tr>\n",
       "    <tr>\n",
       "      <th>Água Fria</th>\n",
       "      <td>12.0</td>\n",
       "      <td>165.416667</td>\n",
       "      <td>82.934211</td>\n",
       "      <td>60.0</td>\n",
       "      <td>76.25</td>\n",
       "      <td>174.5</td>\n",
       "      <td>210.50</td>\n",
       "      <td>314.0</td>\n",
       "      <td>12.0</td>\n",
       "      <td>2.833333</td>\n",
       "      <td>...</td>\n",
       "      <td>2.25</td>\n",
       "      <td>5.0</td>\n",
       "      <td>12.0</td>\n",
       "      <td>9.270833e+05</td>\n",
       "      <td>4.193526e+05</td>\n",
       "      <td>395000.0</td>\n",
       "      <td>395000.0</td>\n",
       "      <td>1197500.0</td>\n",
       "      <td>1275000.0</td>\n",
       "      <td>1300000.0</td>\n",
       "    </tr>\n",
       "    <tr>\n",
       "      <th>Água Funda</th>\n",
       "      <td>2.0</td>\n",
       "      <td>139.000000</td>\n",
       "      <td>19.798990</td>\n",
       "      <td>125.0</td>\n",
       "      <td>132.00</td>\n",
       "      <td>139.0</td>\n",
       "      <td>146.00</td>\n",
       "      <td>153.0</td>\n",
       "      <td>2.0</td>\n",
       "      <td>3.000000</td>\n",
       "      <td>...</td>\n",
       "      <td>2.00</td>\n",
       "      <td>2.0</td>\n",
       "      <td>2.0</td>\n",
       "      <td>5.450000e+05</td>\n",
       "      <td>1.626346e+05</td>\n",
       "      <td>430000.0</td>\n",
       "      <td>487500.0</td>\n",
       "      <td>545000.0</td>\n",
       "      <td>602500.0</td>\n",
       "      <td>660000.0</td>\n",
       "    </tr>\n",
       "    <tr>\n",
       "      <th>Água Rasa</th>\n",
       "      <td>8.0</td>\n",
       "      <td>340.250000</td>\n",
       "      <td>294.046036</td>\n",
       "      <td>86.0</td>\n",
       "      <td>172.50</td>\n",
       "      <td>180.0</td>\n",
       "      <td>455.75</td>\n",
       "      <td>805.0</td>\n",
       "      <td>8.0</td>\n",
       "      <td>3.500000</td>\n",
       "      <td>...</td>\n",
       "      <td>5.50</td>\n",
       "      <td>10.0</td>\n",
       "      <td>8.0</td>\n",
       "      <td>5.408750e+05</td>\n",
       "      <td>3.290512e+05</td>\n",
       "      <td>15000.0</td>\n",
       "      <td>472500.0</td>\n",
       "      <td>696000.0</td>\n",
       "      <td>745000.0</td>\n",
       "      <td>790000.0</td>\n",
       "    </tr>\n",
       "  </tbody>\n",
       "</table>\n",
       "<p>701 rows × 40 columns</p>\n",
       "</div>"
      ],
      "text/plain": [
       "                  Metragem                                                \\\n",
       "                     count        mean         std    min     25%    50%   \n",
       "Bairro                                                                     \n",
       "Aclimação             88.0  253.056818  159.140245  104.0  165.00  227.5   \n",
       "Alto da Boa Vista      8.0  418.875000  111.880596  315.0  347.50  378.0   \n",
       "Alto da Lapa          86.0  294.337209  187.674036   46.0  151.25  255.0   \n",
       "Alto da Mooca         20.0  270.050000  237.306924   84.0  133.75  182.5   \n",
       "Alto de Pinheiros    409.0  433.444988  145.676574  100.0  344.00  412.0   \n",
       "...                    ...         ...         ...    ...     ...    ...   \n",
       "Vila Água Funda        5.0  152.200000   44.353128   90.0  138.00  143.0   \n",
       "Água Branca           13.0  191.000000   91.045776   91.0  143.00  174.0   \n",
       "Água Fria             12.0  165.416667   82.934211   60.0   76.25  174.5   \n",
       "Água Funda             2.0  139.000000   19.798990  125.0  132.00  139.0   \n",
       "Água Rasa              8.0  340.250000  294.046036   86.0  172.50  180.0   \n",
       "\n",
       "                                  Quartos            ... Vagas        Valor  \\\n",
       "                      75%     max   count      mean  ...   75%   max  count   \n",
       "Bairro                                               ...                      \n",
       "Aclimação          300.00  1500.0    88.0  3.318182  ...  4.00   8.0   88.0   \n",
       "Alto da Boa Vista  448.75   595.0     8.0  4.125000  ...  5.25   7.0    8.0   \n",
       "Alto da Lapa       363.75  1133.0    86.0  3.151163  ...  5.75  12.0   86.0   \n",
       "Alto da Mooca      221.25   805.0    20.0  3.300000  ...  5.25   6.0   20.0   \n",
       "Alto de Pinheiros  505.00  1530.0   409.0  3.938875  ...  6.00  15.0  409.0   \n",
       "...                   ...     ...     ...       ...  ...   ...   ...    ...   \n",
       "Vila Água Funda    190.00   200.0     5.0  2.600000  ...  3.00   4.0    5.0   \n",
       "Água Branca        200.00   400.0    13.0  3.153846  ...  3.00   7.0   13.0   \n",
       "Água Fria          210.50   314.0    12.0  2.833333  ...  2.25   5.0   12.0   \n",
       "Água Funda         146.00   153.0     2.0  3.000000  ...  2.00   2.0    2.0   \n",
       "Água Rasa          455.75   805.0     8.0  3.500000  ...  5.50  10.0    8.0   \n",
       "\n",
       "                                                                     \\\n",
       "                           mean           std        min        25%   \n",
       "Bairro                                                                \n",
       "Aclimação          1.583697e+06  9.874291e+05     7000.0   957500.0   \n",
       "Alto da Boa Vista  2.391250e+06  5.535970e+05  1680000.0  2087500.0   \n",
       "Alto da Lapa       1.938418e+06  1.469504e+06     2790.0  1200000.0   \n",
       "Alto da Mooca      1.184170e+06  4.474662e+05   530000.0   757500.0   \n",
       "Alto de Pinheiros  4.317024e+06  2.691630e+06     7000.0  3000000.0   \n",
       "...                         ...           ...        ...        ...   \n",
       "Vila Água Funda    6.520000e+05  2.064461e+05   370000.0   540000.0   \n",
       "Água Branca        1.132654e+06  5.568425e+05     6500.0  1099000.0   \n",
       "Água Fria          9.270833e+05  4.193526e+05   395000.0   395000.0   \n",
       "Água Funda         5.450000e+05  1.626346e+05   430000.0   487500.0   \n",
       "Água Rasa          5.408750e+05  3.290512e+05    15000.0   472500.0   \n",
       "\n",
       "                                                     \n",
       "                         50%        75%         max  \n",
       "Bairro                                               \n",
       "Aclimação          1391500.0  2200000.0   5000000.0  \n",
       "Alto da Boa Vista  2275000.0  2812500.0   3200000.0  \n",
       "Alto da Lapa       1700000.0  2350000.0   9000000.0  \n",
       "Alto da Mooca      1222500.0  1600000.0   2000000.0  \n",
       "Alto de Pinheiros  3900000.0  5500000.0  18000000.0  \n",
       "...                      ...        ...         ...  \n",
       "Vila Água Funda     650000.0   850000.0    850000.0  \n",
       "Água Branca        1200000.0  1300000.0   2500000.0  \n",
       "Água Fria          1197500.0  1275000.0   1300000.0  \n",
       "Água Funda          545000.0   602500.0    660000.0  \n",
       "Água Rasa           696000.0   745000.0    790000.0  \n",
       "\n",
       "[701 rows x 40 columns]"
      ]
     },
     "execution_count": 90,
     "metadata": {},
     "output_type": "execute_result"
    }
   ],
   "source": [
    "#Get statistical data grouped by districts\n",
    "df.groupby(['Bairro']).describe()"
   ]
  },
  {
   "cell_type": "markdown",
   "id": "5983ae9f",
   "metadata": {},
   "source": [
    "### 5 - Which districts have null street names ?"
   ]
  },
  {
   "cell_type": "code",
   "execution_count": 91,
   "id": "4a482312",
   "metadata": {},
   "outputs": [
    {
     "name": "stdout",
     "output_type": "stream",
     "text": [
      "Planalto Paulista 37\n",
      "Jardim dos Estados 15\n",
      "Jardim Morumbi 24\n",
      "Mooca 14\n",
      "Santo Amaro 66\n",
      "Cidade Mãe do Céu 1\n",
      "Vila Alpina 2\n",
      "Vila Monumento 13\n",
      "Jardim Luzitânia 31\n",
      "Jardim Prudência 15\n",
      "Lauzane Paulista 4\n",
      "Jardim Santa Maria 2\n",
      "Itaberaba 1\n",
      "Vila Nova Conceição 30\n",
      "Jardim da Saúde 14\n",
      "Vila Mazzei 4\n",
      "Vila Madalena 83\n",
      "Vila Campo Grande 7\n",
      "Vila Gomes Cardim 4\n",
      "Bela Aliança 3\n",
      "Vila Albertina 3\n",
      "Cidade Jardim 115\n",
      "Parque da Lapa 2\n",
      "Cidade Domitila 2\n",
      "Jardim Maria Estela 2\n",
      "Parque São Rafael 2\n",
      "Parque Colonial 3\n",
      "Vila Califórnia 2\n",
      "Vila Tramontano 26\n",
      "Jardim Leonor Mendes de Barros 1\n",
      "Jardim Amália 1\n",
      "Brooklin Paulista 75\n",
      "Tremembé 5\n",
      "Vila Cordeiro 14\n",
      "Chácara Santo Antônio (Zona Sul) 24\n",
      "Jardim Guedala 190\n",
      "Parque Boturussu 2\n",
      "Vila Arriete 3\n",
      "Jardim Europa 128\n",
      "Alto da Lapa 29\n",
      "Vila Formosa 6\n",
      "Quinta da Paineira 5\n",
      "Alto da Boa Vista 1\n",
      "Jardim América 88\n",
      "Jardim Paulista 138\n",
      "Tucuruvi 2\n",
      "Parque Continental 6\n",
      "Penha de França 5\n",
      "Perdizes 21\n",
      "Cidade Vargas 4\n",
      "Mirandópolis 6\n",
      "Jardim Leonor 118\n",
      "Alto de Pinheiros 169\n",
      "Vila Suzana 6\n",
      "Vila Brasílio Machado 18\n",
      "Jardim das Vertentes 1\n",
      "Campo Belo 32\n",
      "Vila Regente Feijó 3\n",
      "Vila Moinho Velho 3\n",
      "Vila Mariana 19\n",
      "Sumaré 50\n",
      "Boaçava 51\n",
      "Vila Gustavo 2\n",
      "Vila Romana 12\n",
      "Vila Leopoldina 3\n",
      "Vila São Paulo 2\n",
      "Vila Morse 6\n",
      "Itaquera 1\n",
      "Vila Talarico 4\n",
      "Vila Matilde 5\n",
      "Jardim Marajoara 16\n",
      "Vila Pompéia 2\n",
      "Jardim Trussardi 3\n",
      "Caxingui 10\n",
      "Barra Funda 2\n",
      "Vila Santos 5\n",
      "Vila Antonieta 3\n",
      "Bosque da Saúde 55\n",
      "Butantã 19\n",
      "Jardim Paulistano 58\n",
      "Jardim da Glória 22\n",
      "Jardim Petrópolis 15\n",
      "Vila Aparecida 1\n",
      "Siciliano 1\n",
      "Tatuapé 4\n",
      "Jardim Cordeiro 21\n",
      "Parque Casa de Pedra 2\n",
      "Morumbi 89\n",
      "Lapa 13\n",
      "Vila Prudente 2\n",
      "Vila Ida 38\n",
      "Jardim Vivan 1\n",
      "Vila Marari 2\n",
      "Cidade Dutra 3\n",
      "Água Fria 1\n",
      "Belenzinho 7\n",
      "Vila Ipojuca 4\n",
      "Vila Sônia 16\n",
      "Jardim Panorama 13\n",
      "Jardim Ampliação 3\n",
      "Cerqueira César 2\n",
      "Vila Sabrina 1\n",
      "Ipiranga 11\n",
      "Vila Olímpia 15\n",
      "Jardim Sílvia (Zona Oeste) 7\n",
      "Jardim Franca 4\n",
      "Vila Dom Pedro I 12\n",
      "Santana 3\n",
      "Interlagos 12\n",
      "Vila Carrão 4\n",
      "Chácara Inglesa 16\n",
      "Parque Savoy City 3\n",
      "Pacaembu 63\n",
      "Aclimação 2\n",
      "Campininha 1\n",
      "Cidade Monções 15\n",
      "Vila Santa Maria 2\n",
      "Jardim Santo Amaro 10\n",
      "Vila Bela 8\n",
      "Vila Guarani (Z Sul) 3\n",
      "Vila das Belezas 1\n",
      "Vila Moraes 7\n",
      "Jardim Londrina 10\n",
      "Parque da Vila Prudente 1\n",
      "Parque Alves de Lima 3\n",
      "Chácara Flora 2\n",
      "Jardim Camargo Novo 1\n",
      "Jardim Vila Formosa 1\n",
      "Jardim Planalto 1\n",
      "Jardim Patente Novo 1\n",
      "Jardim das Camélias 1\n",
      "Jardim Virginia Bianca 3\n",
      "Água Branca 2\n",
      "Jardim D'Abril 2\n",
      "Jardim Ana Maria 2\n",
      "Jardim Viana 8\n",
      "Indianópolis 24\n",
      "Granja Julieta 19\n",
      "Jardim Célia (Zona Sul) 1\n",
      "Parque Guarani 1\n",
      "Vila Inah 15\n",
      "Vila Brasilina 11\n",
      "Cambuci 12\n",
      "Vila Congonhas 5\n",
      "Cidade Patriarca 3\n",
      "Vila Ema 2\n",
      "Itaim Bibi 5\n",
      "Conjunto Residencial Vista Verde 1\n",
      "Vila Gumercindo 13\n",
      "Vila Bancária Munhoz 5\n",
      "Moema 6\n",
      "Parque São Domingos 3\n",
      "Vila Santa Clara 1\n",
      "Jardim Consórcio 1\n",
      "Vila São José (Ipiranga) 3\n",
      "Jardim Anália Franco 1\n",
      "Saúde 22\n",
      "Jardim das Bandeiras 13\n",
      "Sumarezinho 9\n",
      "Jardim Santo Elias 1\n",
      "Vila Morumbi 19\n",
      "Jardim Vila Carrão 1\n",
      "Chácara Japonesa 2\n",
      "Jardim Bonfiglioli 5\n",
      "City América 10\n",
      "Pinheiros 31\n",
      "Fazenda Morumbi 32\n",
      "Vila Antônio 4\n",
      "Jardim Novo Mundo 7\n",
      "Higienópolis 4\n",
      "Vila Bertioga 5\n",
      "Jardim Everest 19\n",
      "Retiro Morumbi 28\n",
      "Paineiras do Morumbi 12\n",
      "Vila Londrina 3\n",
      "Jardim Panorama D'Oeste 3\n",
      "Cidade São Mateus 2\n",
      "Paraíso 1\n",
      "Vila Progredior 15\n",
      "Chácara Belenzinho 1\n",
      "Vila Cláudia 4\n",
      "Jardim Vila Mariana 7\n",
      "Jardim Peri 4\n",
      "Vila Alexandria 1\n",
      "Consolação 9\n",
      "Brooklin Novo 1\n",
      "Chácara Monte Alegre 25\n",
      "Real Parque 3\n",
      "Super Quadra Morumbi 3\n",
      "Vila Sílvia 5\n",
      "Parque Jabaquara 9\n",
      "Jabaquara 3\n",
      "Jardim Celeste 1\n",
      "Vila Santa Catarina 11\n",
      "Vila Comercial 1\n",
      "Água Rasa 3\n",
      "Vila Mascote 1\n",
      "Vila Gea 4\n",
      "Vila Oratório 3\n",
      "Vila Lageado 4\n",
      "Jardim Colombo 3\n",
      "Vila Perus 2\n",
      "Jardim Satélite 2\n",
      "Parque Mandaqui 1\n",
      "Vila Nivi 3\n",
      "Vila Canero 3\n",
      "Vila Buenos Aires 2\n",
      "Lapa de Baixo 2\n",
      "Vila Araguaia 2\n",
      "Vila Lúcia 7\n",
      "Jardim Brasil (Zona Sul) 1\n",
      "Jardim Vitória Régia 4\n",
      "Vila Tiradentes 1\n",
      "Vila São Francisco 3\n",
      "Lar São Paulo 12\n",
      "Vila Palmeiras 1\n",
      "Chácara Califórnia 1\n",
      "Vila Maria Alta 2\n",
      "Instituto de Previdência 7\n",
      "Jardim Aeroporto 1\n",
      "Vila Anglo Brasileira 2\n",
      "Vila Andrade 3\n",
      "Parque da Mooca 4\n",
      "Jardim Umuarama 1\n",
      "Santa Cecília 4\n",
      "Vila Ré 2\n",
      "Brooklin 2\n",
      "Vila Vera 7\n",
      "Jardim Monte Kemel 13\n",
      "Vila Isa 4\n",
      "Vila Cruzeiro 9\n",
      "Vila Salete 1\n",
      "Chora Menino 2\n",
      "Vila Nova Caledonia 2\n",
      "Vila Carbone 1\n",
      "Alto da Mooca 5\n",
      "Vila Adalgisa 2\n",
      "Vila ESão Pauloerança 2\n",
      "Jardim Ester 6\n",
      "Vila Ester (Zona Norte) 3\n",
      "Jardim das Acácias 2\n",
      "Jardim Patente 3\n",
      "Parque dos Príncipes 10\n",
      "Vila São Silvestre 6\n",
      "Chácara Tatuapé 1\n",
      "Vila Clementino 7\n",
      "Vila do Encontro 3\n",
      "Vila das Mercês 2\n",
      "Parque Residencial Oratorio 2\n",
      "Jardim Santa Cruz (Campo Grande) 1\n",
      "Vila da Saúde 3\n",
      "Jardim Triana 1\n",
      "Vila Medeiros 2\n",
      "Jardim Textil 1\n",
      "Paraíso do Morumbi 4\n",
      "Jardim Hípico 5\n",
      "Vila Firmiano Pinto 6\n",
      "Cidade Centenário 1\n",
      "Jaguaré 2\n",
      "Jardim Miriam 2\n",
      "Vila Santo Estéfano 3\n",
      "Jardim Petropolis 1\n",
      "Vila Caraguatá 4\n",
      "Vila Jacuí 8\n",
      "Vila Califórnia(Zona Sul) 5\n",
      "Sacomã 2\n",
      "Vila Mafra 7\n",
      "Vila Anhangüera 10\n",
      "Cupecê 1\n",
      "Jardim Rizzo 1\n",
      "Vila Império 1\n",
      "Vila Inglesa 1\n",
      "Vila Macedópolis 1\n",
      "Vila Nova Curuçá 6\n",
      "Vila Paiva 2\n",
      "Jardim Analia Franco 2\n",
      "Vila Prado 1\n",
      "Liberdade 4\n",
      "Jardim Maria Duarte 2\n",
      "Jardim Santa Helena 2\n",
      "Vila Sonia 2\n",
      "Vila Marieta 3\n",
      "Jardim Eliana 1\n",
      "Vila Gomes 2\n",
      "Conjunto Residencial Butantã 2\n",
      "Paraisópolis 2\n",
      "Jardim Teresa 2\n",
      "Jardim Brasília (Zona Leste) 3\n",
      "Jardim Danfer 2\n",
      "Vila Pedroso 1\n",
      "Jardim Campo Grande 8\n",
      "Brás 1\n",
      "Chácara Meyer 2\n",
      "Vila Paulicéia 2\n",
      "Rio Pequeno 5\n",
      "Vila Nair 10\n",
      "Jardim Taboão 6\n",
      "Capão Redondo 1\n",
      "Vila Santana 2\n",
      "Parque Novo Mundo 2\n",
      "Jardim Cidália 2\n",
      "Vila Cardoso Franco 2\n",
      "Jardim Gonzaga 4\n",
      "Chácara Mafalda 5\n",
      "Parque São Lucas 4\n",
      "Jardim Floresta 1\n",
      "Vila Nova Caledônia 4\n",
      "Vila Ivg 1\n",
      "Vila América 1\n",
      "Vila Analia 1\n",
      "Parque Santa Rita 1\n",
      "Vila Rui Barbosa 1\n",
      "Parque Edu Chaves 2\n",
      "Vila Primavera 3\n",
      "Brasilândia 4\n",
      "Vila Antonina 1\n",
      "Jardim Ernestina 2\n",
      "Jardim Cidade Pirituba 2\n",
      "Parada XV de Novembro 2\n",
      "Jardim Bélgica 5\n",
      "Jardim Jussara 3\n",
      "Jardim Vergueiro (Sacomã) 2\n",
      "Vila Guedes 1\n",
      "Jardim São Carlos (Zona Sul) 2\n",
      "Vila Polopoli 3\n",
      "Vila Virginia 1\n",
      "Vila Boaçava 1\n",
      "Vila Agueda 1\n",
      "Jardim Monte Alegre 1\n",
      "Jardim Jabaquara 2\n",
      "Jardim Morro Verde 2\n",
      "Jardim Ponte Rasa 1\n",
      "Jardim Marília 1\n",
      "Vila Paulo Silas 1\n",
      "Jardim Castelo 1\n",
      "Vila Barbosa 2\n",
      "Parque Imperial 3\n",
      "Jaraguá 1\n",
      "Vila Mira 2\n",
      "Jardim Coimbra 1\n",
      "Sítio do Mandaqui 1\n",
      "Ferreira 1\n",
      "Cidade Ademar 2\n",
      "Nova Piraju 2\n",
      "Vila Paulista 4\n",
      "Parque Nações Unidas 1\n",
      "Jardim do Colégio (Zona Norte) 1\n",
      "Parque Peruche 1\n",
      "Burgo Paulista 1\n",
      "Jardim Japão 3\n",
      "Praia Paulistinha 2\n",
      "Vila Sao Paulo 3\n",
      "Vila Monte Alegre 3\n",
      "Jardim Heliomar 1\n",
      "Vila Curuçá 1\n",
      "Água Funda 2\n",
      "Vila Romero 2\n",
      "Vila Romano 4\n",
      "Vila Simone 3\n",
      "Jardim Sarah 2\n",
      "Vila Bela Aliança 2\n",
      "Vila Ayrosa 2\n",
      "Jardim Dom Bosco 3\n",
      "Jardim Ester Yolanda 3\n",
      "Vila Elvira 2\n",
      "Jardim Guarau 2\n",
      "Vila Carmosina 1\n",
      "Conjunto Residencial Morada do Sol 1\n",
      "Jardim Tremembe 2\n",
      "Vila Vasconcelos 1\n",
      "Jardim Boa Vista (Zona Oeste) 1\n",
      "Jardim Sul São Paulo 1\n",
      "Engenheiro Goulart 3\n",
      "Jardim Rincão 1\n",
      "Jardim Sabará 2\n",
      "Aricanduva 1\n",
      "Jardim Palmares (Zona Sul) 1\n",
      "Vila Darli 1\n",
      "Jardim Nice 2\n",
      "Vila Constancia 1\n",
      "Jardim Pirituba 1\n",
      "Parque Maria Domitila 1\n",
      "Parque Santo Antônio (Aricanduva) 2\n",
      "Jardim Cidalia 2\n",
      "Vila Gertrudes 2\n",
      "Conjunto Habitacional Castro Alves 2\n",
      "Vila Conde do Pinhal 1\n",
      "Parque Monteiro Soares 1\n",
      "Jardim Independência 1\n",
      "Vila Nova Pauliceia 1\n",
      "Cidade Antônio Estevão de Carvalho 2\n",
      "Vila Ponte Rasa 1\n",
      "Jardim Guanca 1\n",
      "Jardim Itacolomi 1\n"
     ]
    }
   ],
   "source": [
    "#Use the second method of selecting data by districts\n",
    "Count = 0\n",
    "for district  in District_Names:\n",
    "    dfDistrictsStreets = df[df['Bairro'] == district]['Rua']\n",
    "    N_null = dfDistrictsStreets.isnull().sum()\n",
    "    if N_null > 0:\n",
    "        #print only the districts that have null values\n",
    "        print(district, N_null)\n",
    "        Count += 1\n",
    "    "
   ]
  },
  {
   "cell_type": "code",
   "execution_count": 92,
   "id": "948179fa",
   "metadata": {},
   "outputs": [
    {
     "name": "stdout",
     "output_type": "stream",
     "text": [
      "Number of districts with null street names:  394\n"
     ]
    }
   ],
   "source": [
    "print(\"Number of districts with null street names: \", Count)"
   ]
  },
  {
   "cell_type": "code",
   "execution_count": null,
   "id": "55cb5910",
   "metadata": {},
   "outputs": [],
   "source": []
  }
 ],
 "metadata": {
  "kernelspec": {
   "display_name": "Python 3",
   "language": "python",
   "name": "python3"
  },
  "language_info": {
   "codemirror_mode": {
    "name": "ipython",
    "version": 3
   },
   "file_extension": ".py",
   "mimetype": "text/x-python",
   "name": "python",
   "nbconvert_exporter": "python",
   "pygments_lexer": "ipython3",
   "version": "3.8.8"
  }
 },
 "nbformat": 4,
 "nbformat_minor": 5
}
